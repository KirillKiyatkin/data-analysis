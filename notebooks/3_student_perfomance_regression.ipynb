{
 "cells": [
  {
   "cell_type": "code",
   "execution_count": 1,
   "id": "informational-afghanistan",
   "metadata": {},
   "outputs": [],
   "source": [
    "import pandas as pd\n",
    "import numpy as np\n",
    "import matplotlib.pyplot as plt\n",
    "from sklearn.linear_model import LinearRegression\n",
    "from sklearn.model_selection import train_test_split\n",
    "from sklearn.preprocessing import StandardScaler"
   ]
  },
  {
   "cell_type": "code",
   "execution_count": 2,
   "id": "convenient-nicholas",
   "metadata": {},
   "outputs": [],
   "source": [
    "dataset = pd.read_csv(r'D:\\Fork\\data-analysis\\Data\\Student Performance Data Set\\student-mat_preprocessed.csv', sep=',')"
   ]
  },
  {
   "cell_type": "code",
   "execution_count": 3,
   "id": "physical-soldier",
   "metadata": {},
   "outputs": [
    {
     "output_type": "execute_result",
     "data": {
      "text/plain": [
       "   age  Medu  Fedu  traveltime  studytime  failures  famrel  freetime  goout  \\\n",
       "0   18     4     4           2          2         0       4         3      4   \n",
       "1   17     1     1           1          2         0       5         3      3   \n",
       "2   15     1     1           1          2         3       4         3      2   \n",
       "3   15     4     2           1          3         0       3         2      2   \n",
       "4   16     3     3           1          2         0       4         3      2   \n",
       "\n",
       "   Dalc  ...  activities_no  activities_yes  nursery_no  nursery_yes  \\\n",
       "0     1  ...              1               0           0            1   \n",
       "1     1  ...              1               0           1            0   \n",
       "2     2  ...              1               0           0            1   \n",
       "3     1  ...              0               1           0            1   \n",
       "4     1  ...              1               0           0            1   \n",
       "\n",
       "   higher_no  higher_yes  internet_no  internet_yes  romantic_no  romantic_yes  \n",
       "0          0           1            1             0            1             0  \n",
       "1          0           1            0             1            1             0  \n",
       "2          0           1            0             1            1             0  \n",
       "3          0           1            0             1            0             1  \n",
       "4          0           1            1             0            1             0  \n",
       "\n",
       "[5 rows x 59 columns]"
      ],
      "text/html": "<div>\n<style scoped>\n    .dataframe tbody tr th:only-of-type {\n        vertical-align: middle;\n    }\n\n    .dataframe tbody tr th {\n        vertical-align: top;\n    }\n\n    .dataframe thead th {\n        text-align: right;\n    }\n</style>\n<table border=\"1\" class=\"dataframe\">\n  <thead>\n    <tr style=\"text-align: right;\">\n      <th></th>\n      <th>age</th>\n      <th>Medu</th>\n      <th>Fedu</th>\n      <th>traveltime</th>\n      <th>studytime</th>\n      <th>failures</th>\n      <th>famrel</th>\n      <th>freetime</th>\n      <th>goout</th>\n      <th>Dalc</th>\n      <th>...</th>\n      <th>activities_no</th>\n      <th>activities_yes</th>\n      <th>nursery_no</th>\n      <th>nursery_yes</th>\n      <th>higher_no</th>\n      <th>higher_yes</th>\n      <th>internet_no</th>\n      <th>internet_yes</th>\n      <th>romantic_no</th>\n      <th>romantic_yes</th>\n    </tr>\n  </thead>\n  <tbody>\n    <tr>\n      <th>0</th>\n      <td>18</td>\n      <td>4</td>\n      <td>4</td>\n      <td>2</td>\n      <td>2</td>\n      <td>0</td>\n      <td>4</td>\n      <td>3</td>\n      <td>4</td>\n      <td>1</td>\n      <td>...</td>\n      <td>1</td>\n      <td>0</td>\n      <td>0</td>\n      <td>1</td>\n      <td>0</td>\n      <td>1</td>\n      <td>1</td>\n      <td>0</td>\n      <td>1</td>\n      <td>0</td>\n    </tr>\n    <tr>\n      <th>1</th>\n      <td>17</td>\n      <td>1</td>\n      <td>1</td>\n      <td>1</td>\n      <td>2</td>\n      <td>0</td>\n      <td>5</td>\n      <td>3</td>\n      <td>3</td>\n      <td>1</td>\n      <td>...</td>\n      <td>1</td>\n      <td>0</td>\n      <td>1</td>\n      <td>0</td>\n      <td>0</td>\n      <td>1</td>\n      <td>0</td>\n      <td>1</td>\n      <td>1</td>\n      <td>0</td>\n    </tr>\n    <tr>\n      <th>2</th>\n      <td>15</td>\n      <td>1</td>\n      <td>1</td>\n      <td>1</td>\n      <td>2</td>\n      <td>3</td>\n      <td>4</td>\n      <td>3</td>\n      <td>2</td>\n      <td>2</td>\n      <td>...</td>\n      <td>1</td>\n      <td>0</td>\n      <td>0</td>\n      <td>1</td>\n      <td>0</td>\n      <td>1</td>\n      <td>0</td>\n      <td>1</td>\n      <td>1</td>\n      <td>0</td>\n    </tr>\n    <tr>\n      <th>3</th>\n      <td>15</td>\n      <td>4</td>\n      <td>2</td>\n      <td>1</td>\n      <td>3</td>\n      <td>0</td>\n      <td>3</td>\n      <td>2</td>\n      <td>2</td>\n      <td>1</td>\n      <td>...</td>\n      <td>0</td>\n      <td>1</td>\n      <td>0</td>\n      <td>1</td>\n      <td>0</td>\n      <td>1</td>\n      <td>0</td>\n      <td>1</td>\n      <td>0</td>\n      <td>1</td>\n    </tr>\n    <tr>\n      <th>4</th>\n      <td>16</td>\n      <td>3</td>\n      <td>3</td>\n      <td>1</td>\n      <td>2</td>\n      <td>0</td>\n      <td>4</td>\n      <td>3</td>\n      <td>2</td>\n      <td>1</td>\n      <td>...</td>\n      <td>1</td>\n      <td>0</td>\n      <td>0</td>\n      <td>1</td>\n      <td>0</td>\n      <td>1</td>\n      <td>1</td>\n      <td>0</td>\n      <td>1</td>\n      <td>0</td>\n    </tr>\n  </tbody>\n</table>\n<p>5 rows × 59 columns</p>\n</div>"
     },
     "metadata": {},
     "execution_count": 3
    }
   ],
   "source": [
    "dataset.head()"
   ]
  },
  {
   "cell_type": "code",
   "execution_count": 4,
   "id": "involved-handling",
   "metadata": {},
   "outputs": [],
   "source": [
    "X = dataset.iloc[:, :-1].values\n",
    "y = dataset.iloc[:, 15].values"
   ]
  },
  {
   "cell_type": "code",
   "execution_count": 5,
   "id": "impressed-cookie",
   "metadata": {},
   "outputs": [
    {
     "output_type": "stream",
     "name": "stdout",
     "text": [
      "[ 6  6 10 15 10 15 11  6 19 15  9 12 14 11 16 14 14 10  5 10 15 15 16 12\n  8  8 11 15 11 11 12 17 16 12 15  6 18 15 11 13 11 12 18 11  9  6 11 20\n 14  7 13 13 10 11 13 10 15 15  9 16 11 11  9  9 10 15 12  6  8 16 15 10\n  5 14 11 10 10 11 10  5 12 11  6 15 10  8  6 14 10  7  8 18  6 10 14 10\n 15 10 14  8  5 17 14  6 18 11  8 18 13 16 19 10 13 19  9 16 14 13  8 13\n 15 15 13 13  8 12 11  9  0 18  0  0 12 11  0  0  0  0 12 15  0  9 11 13\n  0 11  0 11  0 10  0 14 10  0 12  8 13 10 15 12  0  7  0 10  7 12 10 16\n  0 14  0 16 10  0  9  9 11  6  9 11  8 12 17  8 12 11 11 15  9 10 13  9\n  8 10 14 15 16 10 18 10 16 10 10  6 11  9  7 13 10  7  8 13 14  8 10 15\n  4  8  8 10  6  0 17 13 14  7 15 12  9 12 14 11  9 13  6 10 13 12 11  0\n 12 12  0 12  0 18 13  8  5 15  8 10  8  8 12  8 13 11 14  0 18  8 12  9\n  0 17 10 11 10  0  9 14 11 14 10 12  9  9  8 10  8 10 12 10 11 11 19 12\n 14 15 11 15 13 18 14 11  0  8 14 16 11 10 14 18 13 12 18  8 12 10  0 13\n 11 11 13 11  0  9 10 11 13  9 11 15 15 11 16 10  9 14  8 14  0  0  0 15\n 13  0 17 10 11  0 15  0 10 14 16  9 15 13  8 13  8  8 11  9 13 11 10 16\n 13 12 10 15 12 10 13  0 10 11  9 12 11  5 19 10 15 10 15 10 14  7 10  0\n  5 10  6  0  8  0  9 16  7 10  9]\n[[18  4  4 ...  1  0  1]\n [17  1  1 ...  0  1  1]\n [15  1  1 ...  0  1  1]\n ...\n [21  1  1 ...  1  0  1]\n [18  3  2 ...  0  1  1]\n [19  1  1 ...  0  1  1]]\n"
     ]
    }
   ],
   "source": [
    "print(y)\n",
    "print(X)"
   ]
  },
  {
   "cell_type": "code",
   "execution_count": 6,
   "id": "abandoned-practice",
   "metadata": {},
   "outputs": [],
   "source": [
    "X_train, X_test, y_train, y_test = train_test_split(X, y, test_size=0.20)\n",
    "# разбиваем выборку"
   ]
  },
  {
   "cell_type": "code",
   "execution_count": 7,
   "id": "nutritional-patio",
   "metadata": {},
   "outputs": [],
   "source": [
    "scaler = StandardScaler()\n",
    "scaler.fit(X_train)\n",
    "\n",
    "X_train = scaler.transform(X_train)\n",
    "X_test = scaler.transform(X_test)\n",
    "# Скалирование выборок для уменьшения влияний больших значений относительно других параметров"
   ]
  },
  {
   "cell_type": "markdown",
   "id": "fifteen-notification",
   "metadata": {},
   "source": [
    "## Linear Regression\n",
    "https://scikit-learn.org/stable/modules/generated/sklearn.linear_model.LinearRegression.html"
   ]
  },
  {
   "cell_type": "code",
   "execution_count": 8,
   "id": "lesbian-rough",
   "metadata": {},
   "outputs": [],
   "source": [
    "linear_regressor = LinearRegression()\n",
    "linear_regressor.fit(X_train, y_train)\n",
    "Y_pred = linear_regressor.predict(X_test)\n",
    "# обучение модели и предсказание результата на тестовой выборке"
   ]
  },
  {
   "cell_type": "code",
   "execution_count": 9,
   "id": "finite-literacy",
   "metadata": {},
   "outputs": [
    {
     "output_type": "execute_result",
     "data": {
      "text/plain": [
       "'Accuracy: 100%'"
      ]
     },
     "metadata": {},
     "execution_count": 9
    }
   ],
   "source": [
    "#Accuracy\n",
    "accuracy = linear_regressor.score(X_test, y_test)\n",
    "\"Accuracy: {}%\".format(int(round(accuracy * 100)))"
   ]
  },
  {
   "cell_type": "code",
   "execution_count": 10,
   "id": "underlying-clock",
   "metadata": {},
   "outputs": [
    {
     "output_type": "execute_result",
     "data": {
      "text/plain": [
       "8.117276190170765e-15"
      ]
     },
     "metadata": {},
     "execution_count": 10
    }
   ],
   "source": [
    "#mean absolute error (MAE)\n",
    "from sklearn import model_selection, datasets, linear_model, metrics\n",
    "metrics.mean_absolute_error(y_test, Y_pred)"
   ]
  },
  {
   "cell_type": "code",
   "execution_count": 11,
   "id": "distant-messaging",
   "metadata": {},
   "outputs": [
    {
     "output_type": "execute_result",
     "data": {
      "text/plain": [
       "1.0221240792205413e-28"
      ]
     },
     "metadata": {},
     "execution_count": 11
    }
   ],
   "source": [
    "#mean square error (MSE)\n",
    "metrics.mean_squared_error(y_test, Y_pred)"
   ]
  },
  {
   "cell_type": "code",
   "execution_count": 12,
   "id": "differential-browse",
   "metadata": {},
   "outputs": [
    {
     "output_type": "execute_result",
     "data": {
      "text/plain": [
       "1.0"
      ]
     },
     "metadata": {},
     "execution_count": 12
    }
   ],
   "source": [
    "#r2 score (R^2)\n",
    "metrics.r2_score(y_test, Y_pred)"
   ]
  },
  {
   "cell_type": "code",
   "execution_count": 14,
   "id": "excessive-hobby",
   "metadata": {},
   "outputs": [
    {
     "output_type": "stream",
     "name": "stdout",
     "text": [
      "1.0110015228576767e-14\n"
     ]
    }
   ],
   "source": [
    "#root mean square (RMSE)\n",
    "mse = metrics.mean_squared_error(y_test, Y_pred)\n",
    "print(mse**(1/2))"
   ]
  },
  {
   "cell_type": "code",
   "execution_count": 15,
   "id": "saved-lying",
   "metadata": {},
   "outputs": [
    {
     "output_type": "execute_result",
     "data": {
      "text/plain": [
       "{'copy_X': True, 'fit_intercept': True, 'normalize': True}"
      ]
     },
     "metadata": {},
     "execution_count": 15
    }
   ],
   "source": [
    "# определим гиперпараметры\n",
    "from sklearn.model_selection import GridSearchCV\n",
    "parameters = {'fit_intercept':[True,False], 'normalize':[True,False], 'copy_X':[True, False]}\n",
    "\n",
    "clf = GridSearchCV(LinearRegression(), parameters, cv=None)\n",
    "clf.fit(X_train, y_train)\n",
    "clf.best_params_"
   ]
  },
  {
   "cell_type": "code",
   "execution_count": 16,
   "id": "grand-campaign",
   "metadata": {},
   "outputs": [
    {
     "output_type": "execute_result",
     "data": {
      "text/plain": [
       "1.0"
      ]
     },
     "metadata": {},
     "execution_count": 16
    }
   ],
   "source": [
    "clf.best_score_"
   ]
  },
  {
   "cell_type": "markdown",
   "id": "occupational-fellow",
   "metadata": {},
   "source": [
    "## Decision Tree Regression\n",
    "https://scikit-learn.org/stable/modules/generated/sklearn.tree.DecisionTreeRegressor.html"
   ]
  },
  {
   "cell_type": "code",
   "execution_count": 17,
   "id": "sticky-liabilities",
   "metadata": {},
   "outputs": [],
   "source": [
    "from sklearn.tree import DecisionTreeRegressor"
   ]
  },
  {
   "cell_type": "code",
   "execution_count": 18,
   "id": "pressed-minister",
   "metadata": {},
   "outputs": [],
   "source": [
    "X_train, X_test, y_train, y_test = train_test_split(X, y, test_size=0.20)\n",
    "scaler = StandardScaler()\n",
    "scaler.fit(X_train)\n",
    "\n",
    "X_train = scaler.transform(X_train)\n",
    "X_test = scaler.transform(X_test)"
   ]
  },
  {
   "cell_type": "code",
   "execution_count": 19,
   "id": "approved-making",
   "metadata": {},
   "outputs": [],
   "source": [
    "decision_tree = DecisionTreeRegressor()\n",
    "decision_tree.fit(X_train, y_train)\n",
    "Y_pred = decision_tree.predict(X_test)\n",
    "# обучение модели и предсказание результата на тестовой выборке"
   ]
  },
  {
   "cell_type": "code",
   "execution_count": 20,
   "id": "affected-smooth",
   "metadata": {},
   "outputs": [
    {
     "output_type": "execute_result",
     "data": {
      "text/plain": [
       "0.012658227848101266"
      ]
     },
     "metadata": {},
     "execution_count": 20
    }
   ],
   "source": [
    "#mean absolute error (MAE)\n",
    "metrics.mean_absolute_error(y_test, Y_pred)"
   ]
  },
  {
   "cell_type": "code",
   "execution_count": 21,
   "id": "fallen-reviewer",
   "metadata": {},
   "outputs": [
    {
     "output_type": "execute_result",
     "data": {
      "text/plain": [
       "0.012658227848101266"
      ]
     },
     "metadata": {},
     "execution_count": 21
    }
   ],
   "source": [
    "#mean square error (MSE)\n",
    "metrics.mean_squared_error(y_test, Y_pred)"
   ]
  },
  {
   "cell_type": "code",
   "execution_count": 22,
   "id": "single-timer",
   "metadata": {},
   "outputs": [
    {
     "output_type": "execute_result",
     "data": {
      "text/plain": [
       "0.9994391037019156"
      ]
     },
     "metadata": {},
     "execution_count": 22
    }
   ],
   "source": [
    "#r2 score (R^2)\n",
    "metrics.r2_score(y_test, Y_pred)"
   ]
  },
  {
   "cell_type": "code",
   "execution_count": 23,
   "id": "innovative-fiber",
   "metadata": {},
   "outputs": [
    {
     "output_type": "stream",
     "name": "stdout",
     "text": [
      "0.1125087900926024\n"
     ]
    }
   ],
   "source": [
    "#root mean square (RMSE)\n",
    "mse = metrics.mean_squared_error(y_test, Y_pred)\n",
    "print(mse**(1/2))"
   ]
  },
  {
   "cell_type": "code",
   "execution_count": 24,
   "id": "inner-mobile",
   "metadata": {},
   "outputs": [
    {
     "output_type": "execute_result",
     "data": {
      "text/plain": [
       "{'splitter': 'best'}"
      ]
     },
     "metadata": {},
     "execution_count": 24
    }
   ],
   "source": [
    "# определим гиперпараметры\n",
    "parameters = {'splitter': ['best', 'random']}\n",
    "clf = GridSearchCV(DecisionTreeRegressor(), parameters, cv=5, refit=False)\n",
    "clf.fit(X_train, y_train)\n",
    "clf.best_params_"
   ]
  },
  {
   "cell_type": "code",
   "execution_count": 25,
   "id": "signed-saudi",
   "metadata": {},
   "outputs": [
    {
     "output_type": "execute_result",
     "data": {
      "text/plain": [
       "0.999420966691613"
      ]
     },
     "metadata": {},
     "execution_count": 25
    }
   ],
   "source": [
    "clf.best_score_"
   ]
  },
  {
   "cell_type": "markdown",
   "id": "lined-jurisdiction",
   "metadata": {},
   "source": [
    "## LASSO\n",
    "https://scikit-learn.org/stable/modules/generated/sklearn.linear_model.Lasso.html"
   ]
  },
  {
   "cell_type": "code",
   "execution_count": 26,
   "id": "rough-patio",
   "metadata": {},
   "outputs": [],
   "source": [
    "from sklearn.linear_model import Lasso"
   ]
  },
  {
   "cell_type": "code",
   "execution_count": 27,
   "id": "dated-optimum",
   "metadata": {},
   "outputs": [],
   "source": [
    "X_train, X_test, y_train, y_test = train_test_split(X, y, test_size=0.20)\n",
    "scaler = StandardScaler()\n",
    "scaler.fit(X_train)\n",
    "\n",
    "X_train = scaler.transform(X_train)\n",
    "X_test = scaler.transform(X_test)"
   ]
  },
  {
   "cell_type": "code",
   "execution_count": 28,
   "id": "bridal-carry",
   "metadata": {},
   "outputs": [],
   "source": [
    "lass = Lasso()\n",
    "lass.fit(X_train, y_train)\n",
    "Y_pred = lass.predict(X_test)\n",
    "# обучение модели и предсказание результата на тестовой выборке"
   ]
  },
  {
   "cell_type": "code",
   "execution_count": 29,
   "id": "driven-setting",
   "metadata": {},
   "outputs": [
    {
     "output_type": "execute_result",
     "data": {
      "text/plain": [
       "0.7219173079865908"
      ]
     },
     "metadata": {},
     "execution_count": 29
    }
   ],
   "source": [
    "#mean absolute error (MAE)\n",
    "metrics.mean_absolute_error(y_test, Y_pred)"
   ]
  },
  {
   "cell_type": "code",
   "execution_count": 30,
   "id": "increased-burst",
   "metadata": {},
   "outputs": [
    {
     "output_type": "execute_result",
     "data": {
      "text/plain": [
       "0.9305470144157649"
      ]
     },
     "metadata": {},
     "execution_count": 30
    }
   ],
   "source": [
    "#mean square error (MSE)\n",
    "metrics.mean_squared_error(y_test, Y_pred)"
   ]
  },
  {
   "cell_type": "code",
   "execution_count": 31,
   "id": "current-minute",
   "metadata": {},
   "outputs": [
    {
     "output_type": "execute_result",
     "data": {
      "text/plain": [
       "0.9526872623833481"
      ]
     },
     "metadata": {},
     "execution_count": 31
    }
   ],
   "source": [
    "#r2 score (R^2)\n",
    "metrics.r2_score(y_test, Y_pred)"
   ]
  },
  {
   "cell_type": "code",
   "execution_count": 32,
   "id": "fifteen-narrative",
   "metadata": {},
   "outputs": [
    {
     "output_type": "stream",
     "name": "stdout",
     "text": [
      "0.9646486481697701\n"
     ]
    }
   ],
   "source": [
    "#root mean square (RMSE)\n",
    "mse = metrics.mean_squared_error(y_test, Y_pred)\n",
    "print(mse**(1/2))"
   ]
  },
  {
   "cell_type": "code",
   "execution_count": 33,
   "id": "fitted-practice",
   "metadata": {
    "tags": [
     "outputPrepend"
    ]
   },
   "outputs": [
    {
     "output_type": "stream",
     "name": "stderr",
     "text": [
      "673\n  model = cd_fast.enet_coordinate_descent(\nC:\\Users\\vipki\\AppData\\Local\\Programs\\Python\\Python39\\lib\\site-packages\\sklearn\\linear_model\\_coordinate_descent.py:530: ConvergenceWarning: Objective did not converge. You might want to increase the number of iterations. Duality gap: 32.46632773722687, tolerance: 0.5246260869565217\n  model = cd_fast.enet_coordinate_descent(\nC:\\Users\\vipki\\AppData\\Local\\Programs\\Python\\Python39\\lib\\site-packages\\sklearn\\linear_model\\_coordinate_descent.py:530: ConvergenceWarning: Objective did not converge. You might want to increase the number of iterations. Duality gap: 21.9275092291589, tolerance: 0.5125027667984189\n  model = cd_fast.enet_coordinate_descent(\nC:\\Users\\vipki\\AppData\\Local\\Programs\\Python\\Python39\\lib\\site-packages\\sklearn\\linear_model\\_coordinate_descent.py:530: ConvergenceWarning: Objective did not converge. You might want to increase the number of iterations. Duality gap: 24.234971564233817, tolerance: 0.492306719367589\n  model = cd_fast.enet_coordinate_descent(\nC:\\Users\\vipki\\AppData\\Local\\Programs\\Python\\Python39\\lib\\site-packages\\sklearn\\linear_model\\_coordinate_descent.py:530: ConvergenceWarning: Objective did not converge. You might want to increase the number of iterations. Duality gap: 788.4290178371012, tolerance: 0.5705186507936507\n  model = cd_fast.enet_coordinate_descent(\nC:\\Users\\vipki\\AppData\\Local\\Programs\\Python\\Python39\\lib\\site-packages\\sklearn\\linear_model\\_coordinate_descent.py:530: ConvergenceWarning: Objective did not converge. You might want to increase the number of iterations. Duality gap: 827.7288230989893, tolerance: 0.5814806324110673\n  model = cd_fast.enet_coordinate_descent(\nC:\\Users\\vipki\\AppData\\Local\\Programs\\Python\\Python39\\lib\\site-packages\\sklearn\\linear_model\\_coordinate_descent.py:530: ConvergenceWarning: Objective did not converge. You might want to increase the number of iterations. Duality gap: 782.6911364514957, tolerance: 0.5246260869565217\n  model = cd_fast.enet_coordinate_descent(\nC:\\Users\\vipki\\AppData\\Local\\Programs\\Python\\Python39\\lib\\site-packages\\sklearn\\linear_model\\_coordinate_descent.py:530: ConvergenceWarning: Objective did not converge. You might want to increase the number of iterations. Duality gap: 699.7796281076878, tolerance: 0.5125027667984189\n  model = cd_fast.enet_coordinate_descent(\nC:\\Users\\vipki\\AppData\\Local\\Programs\\Python\\Python39\\lib\\site-packages\\sklearn\\linear_model\\_coordinate_descent.py:530: ConvergenceWarning: Objective did not converge. You might want to increase the number of iterations. Duality gap: 687.8238704619444, tolerance: 0.492306719367589\n  model = cd_fast.enet_coordinate_descent(\nC:\\Users\\vipki\\AppData\\Local\\Programs\\Python\\Python39\\lib\\site-packages\\sklearn\\linear_model\\_coordinate_descent.py:530: ConvergenceWarning: Objective did not converge. You might want to increase the number of iterations. Duality gap: 124.91467856968801, tolerance: 0.5705186507936507\n  model = cd_fast.enet_coordinate_descent(\nC:\\Users\\vipki\\AppData\\Local\\Programs\\Python\\Python39\\lib\\site-packages\\sklearn\\linear_model\\_coordinate_descent.py:530: ConvergenceWarning: Objective did not converge. You might want to increase the number of iterations. Duality gap: 142.8288736841085, tolerance: 0.5814806324110673\n  model = cd_fast.enet_coordinate_descent(\nC:\\Users\\vipki\\AppData\\Local\\Programs\\Python\\Python39\\lib\\site-packages\\sklearn\\linear_model\\_coordinate_descent.py:530: ConvergenceWarning: Objective did not converge. You might want to increase the number of iterations. Duality gap: 129.1111734455196, tolerance: 0.5246260869565217\n  model = cd_fast.enet_coordinate_descent(\nC:\\Users\\vipki\\AppData\\Local\\Programs\\Python\\Python39\\lib\\site-packages\\sklearn\\linear_model\\_coordinate_descent.py:530: ConvergenceWarning: Objective did not converge. You might want to increase the number of iterations. Duality gap: 113.3519470615484, tolerance: 0.5125027667984189\n  model = cd_fast.enet_coordinate_descent(\nC:\\Users\\vipki\\AppData\\Local\\Programs\\Python\\Python39\\lib\\site-packages\\sklearn\\linear_model\\_coordinate_descent.py:530: ConvergenceWarning: Objective did not converge. You might want to increase the number of iterations. Duality gap: 115.80304331369616, tolerance: 0.492306719367589\n  model = cd_fast.enet_coordinate_descent(\nC:\\Users\\vipki\\AppData\\Local\\Programs\\Python\\Python39\\lib\\site-packages\\sklearn\\linear_model\\_coordinate_descent.py:530: ConvergenceWarning: Objective did not converge. You might want to increase the number of iterations. Duality gap: 28.81848243707931, tolerance: 0.5705186507936507\n  model = cd_fast.enet_coordinate_descent(\nC:\\Users\\vipki\\AppData\\Local\\Programs\\Python\\Python39\\lib\\site-packages\\sklearn\\linear_model\\_coordinate_descent.py:530: ConvergenceWarning: Objective did not converge. You might want to increase the number of iterations. Duality gap: 33.77358751223045, tolerance: 0.5814806324110673\n  model = cd_fast.enet_coordinate_descent(\nC:\\Users\\vipki\\AppData\\Local\\Programs\\Python\\Python39\\lib\\site-packages\\sklearn\\linear_model\\_coordinate_descent.py:530: ConvergenceWarning: Objective did not converge. You might want to increase the number of iterations. Duality gap: 33.70757075991519, tolerance: 0.5246260869565217\n  model = cd_fast.enet_coordinate_descent(\nC:\\Users\\vipki\\AppData\\Local\\Programs\\Python\\Python39\\lib\\site-packages\\sklearn\\linear_model\\_coordinate_descent.py:530: ConvergenceWarning: Objective did not converge. You might want to increase the number of iterations. Duality gap: 23.137749138207557, tolerance: 0.5125027667984189\n  model = cd_fast.enet_coordinate_descent(\nC:\\Users\\vipki\\AppData\\Local\\Programs\\Python\\Python39\\lib\\site-packages\\sklearn\\linear_model\\_coordinate_descent.py:530: ConvergenceWarning: Objective did not converge. You might want to increase the number of iterations. Duality gap: 25.565212959546525, tolerance: 0.492306719367589\n  model = cd_fast.enet_coordinate_descent(\nC:\\Users\\vipki\\AppData\\Local\\Programs\\Python\\Python39\\lib\\site-packages\\sklearn\\linear_model\\_coordinate_descent.py:530: ConvergenceWarning: Objective did not converge. You might want to increase the number of iterations. Duality gap: 814.0027223411383, tolerance: 0.5705186507936507\n  model = cd_fast.enet_coordinate_descent(\nC:\\Users\\vipki\\AppData\\Local\\Programs\\Python\\Python39\\lib\\site-packages\\sklearn\\linear_model\\_coordinate_descent.py:530: ConvergenceWarning: Objective did not converge. You might want to increase the number of iterations. Duality gap: 851.1646397484827, tolerance: 0.5814806324110673\n  model = cd_fast.enet_coordinate_descent(\nC:\\Users\\vipki\\AppData\\Local\\Programs\\Python\\Python39\\lib\\site-packages\\sklearn\\linear_model\\_coordinate_descent.py:530: ConvergenceWarning: Objective did not converge. You might want to increase the number of iterations. Duality gap: 807.7687212290114, tolerance: 0.5246260869565217\n  model = cd_fast.enet_coordinate_descent(\nC:\\Users\\vipki\\AppData\\Local\\Programs\\Python\\Python39\\lib\\site-packages\\sklearn\\linear_model\\_coordinate_descent.py:530: ConvergenceWarning: Objective did not converge. You might want to increase the number of iterations. Duality gap: 722.8748165360385, tolerance: 0.5125027667984189\n  model = cd_fast.enet_coordinate_descent(\nC:\\Users\\vipki\\AppData\\Local\\Programs\\Python\\Python39\\lib\\site-packages\\sklearn\\linear_model\\_coordinate_descent.py:530: ConvergenceWarning: Objective did not converge. You might want to increase the number of iterations. Duality gap: 708.2419468422705, tolerance: 0.492306719367589\n  model = cd_fast.enet_coordinate_descent(\nC:\\Users\\vipki\\AppData\\Local\\Programs\\Python\\Python39\\lib\\site-packages\\sklearn\\linear_model\\_coordinate_descent.py:530: ConvergenceWarning: Objective did not converge. You might want to increase the number of iterations. Duality gap: 138.95586463135217, tolerance: 0.5705186507936507\n  model = cd_fast.enet_coordinate_descent(\nC:\\Users\\vipki\\AppData\\Local\\Programs\\Python\\Python39\\lib\\site-packages\\sklearn\\linear_model\\_coordinate_descent.py:530: ConvergenceWarning: Objective did not converge. You might want to increase the number of iterations. Duality gap: 157.99213755116094, tolerance: 0.5814806324110673\n  model = cd_fast.enet_coordinate_descent(\nC:\\Users\\vipki\\AppData\\Local\\Programs\\Python\\Python39\\lib\\site-packages\\sklearn\\linear_model\\_coordinate_descent.py:530: ConvergenceWarning: Objective did not converge. You might want to increase the number of iterations. Duality gap: 142.7323817102072, tolerance: 0.5246260869565217\n  model = cd_fast.enet_coordinate_descent(\nC:\\Users\\vipki\\AppData\\Local\\Programs\\Python\\Python39\\lib\\site-packages\\sklearn\\linear_model\\_coordinate_descent.py:530: ConvergenceWarning: Objective did not converge. You might want to increase the number of iterations. Duality gap: 126.6168992485877, tolerance: 0.5125027667984189\n  model = cd_fast.enet_coordinate_descent(\nC:\\Users\\vipki\\AppData\\Local\\Programs\\Python\\Python39\\lib\\site-packages\\sklearn\\linear_model\\_coordinate_descent.py:530: ConvergenceWarning: Objective did not converge. You might want to increase the number of iterations. Duality gap: 128.20960651703774, tolerance: 0.492306719367589\n  model = cd_fast.enet_coordinate_descent(\nC:\\Users\\vipki\\AppData\\Local\\Programs\\Python\\Python39\\lib\\site-packages\\sklearn\\linear_model\\_coordinate_descent.py:530: ConvergenceWarning: Objective did not converge. You might want to increase the number of iterations. Duality gap: 39.578432481830625, tolerance: 0.5705186507936507\n  model = cd_fast.enet_coordinate_descent(\nC:\\Users\\vipki\\AppData\\Local\\Programs\\Python\\Python39\\lib\\site-packages\\sklearn\\linear_model\\_coordinate_descent.py:530: ConvergenceWarning: Objective did not converge. You might want to increase the number of iterations. Duality gap: 44.72828749622324, tolerance: 0.5814806324110673\n  model = cd_fast.enet_coordinate_descent(\nC:\\Users\\vipki\\AppData\\Local\\Programs\\Python\\Python39\\lib\\site-packages\\sklearn\\linear_model\\_coordinate_descent.py:530: ConvergenceWarning: Objective did not converge. You might want to increase the number of iterations. Duality gap: 44.77959711342952, tolerance: 0.5246260869565217\n  model = cd_fast.enet_coordinate_descent(\nC:\\Users\\vipki\\AppData\\Local\\Programs\\Python\\Python39\\lib\\site-packages\\sklearn\\linear_model\\_coordinate_descent.py:530: ConvergenceWarning: Objective did not converge. You might want to increase the number of iterations. Duality gap: 33.7083979875964, tolerance: 0.5125027667984189\n  model = cd_fast.enet_coordinate_descent(\nC:\\Users\\vipki\\AppData\\Local\\Programs\\Python\\Python39\\lib\\site-packages\\sklearn\\linear_model\\_coordinate_descent.py:530: ConvergenceWarning: Objective did not converge. You might want to increase the number of iterations. Duality gap: 36.81666031001942, tolerance: 0.492306719367589\n  model = cd_fast.enet_coordinate_descent(\nC:\\Users\\vipki\\AppData\\Local\\Programs\\Python\\Python39\\lib\\site-packages\\sklearn\\linear_model\\_coordinate_descent.py:530: ConvergenceWarning: Objective did not converge. You might want to increase the number of iterations. Duality gap: 1026.5558351195368, tolerance: 0.5705186507936507\n  model = cd_fast.enet_coordinate_descent(\nC:\\Users\\vipki\\AppData\\Local\\Programs\\Python\\Python39\\lib\\site-packages\\sklearn\\linear_model\\_coordinate_descent.py:530: ConvergenceWarning: Objective did not converge. You might want to increase the number of iterations. Duality gap: 1040.256617253503, tolerance: 0.5814806324110673\n  model = cd_fast.enet_coordinate_descent(\nC:\\Users\\vipki\\AppData\\Local\\Programs\\Python\\Python39\\lib\\site-packages\\sklearn\\linear_model\\_coordinate_descent.py:530: ConvergenceWarning: Objective did not converge. You might want to increase the number of iterations. Duality gap: 1001.9849250437514, tolerance: 0.5246260869565217\n  model = cd_fast.enet_coordinate_descent(\nC:\\Users\\vipki\\AppData\\Local\\Programs\\Python\\Python39\\lib\\site-packages\\sklearn\\linear_model\\_coordinate_descent.py:530: ConvergenceWarning: Objective did not converge. You might want to increase the number of iterations. Duality gap: 909.8646021773584, tolerance: 0.5125027667984189\n  model = cd_fast.enet_coordinate_descent(\nC:\\Users\\vipki\\AppData\\Local\\Programs\\Python\\Python39\\lib\\site-packages\\sklearn\\linear_model\\_coordinate_descent.py:530: ConvergenceWarning: Objective did not converge. You might want to increase the number of iterations. Duality gap: 878.6010652417464, tolerance: 0.492306719367589\n  model = cd_fast.enet_coordinate_descent(\nC:\\Users\\vipki\\AppData\\Local\\Programs\\Python\\Python39\\lib\\site-packages\\sklearn\\linear_model\\_coordinate_descent.py:530: ConvergenceWarning: Objective did not converge. You might want to increase the number of iterations. Duality gap: 196.30686221058866, tolerance: 0.5705186507936507\n  model = cd_fast.enet_coordinate_descent(\nC:\\Users\\vipki\\AppData\\Local\\Programs\\Python\\Python39\\lib\\site-packages\\sklearn\\linear_model\\_coordinate_descent.py:530: ConvergenceWarning: Objective did not converge. You might want to increase the number of iterations. Duality gap: 224.72643634058304, tolerance: 0.5814806324110673\n  model = cd_fast.enet_coordinate_descent(\nC:\\Users\\vipki\\AppData\\Local\\Programs\\Python\\Python39\\lib\\site-packages\\sklearn\\linear_model\\_coordinate_descent.py:530: ConvergenceWarning: Objective did not converge. You might want to increase the number of iterations. Duality gap: 204.29518720752006, tolerance: 0.5246260869565217\n  model = cd_fast.enet_coordinate_descent(\nC:\\Users\\vipki\\AppData\\Local\\Programs\\Python\\Python39\\lib\\site-packages\\sklearn\\linear_model\\_coordinate_descent.py:530: ConvergenceWarning: Objective did not converge. You might want to increase the number of iterations. Duality gap: 181.59573929330182, tolerance: 0.5125027667984189\n  model = cd_fast.enet_coordinate_descent(\nC:\\Users\\vipki\\AppData\\Local\\Programs\\Python\\Python39\\lib\\site-packages\\sklearn\\linear_model\\_coordinate_descent.py:530: ConvergenceWarning: Objective did not converge. You might want to increase the number of iterations. Duality gap: 184.3576999166815, tolerance: 0.492306719367589\n  model = cd_fast.enet_coordinate_descent(\nC:\\Users\\vipki\\AppData\\Local\\Programs\\Python\\Python39\\lib\\site-packages\\sklearn\\linear_model\\_coordinate_descent.py:530: ConvergenceWarning: Objective did not converge. You might want to increase the number of iterations. Duality gap: 21.821229245464092, tolerance: 0.5705186507936507\n  model = cd_fast.enet_coordinate_descent(\nC:\\Users\\vipki\\AppData\\Local\\Programs\\Python\\Python39\\lib\\site-packages\\sklearn\\linear_model\\_coordinate_descent.py:530: ConvergenceWarning: Objective did not converge. You might want to increase the number of iterations. Duality gap: 34.45435375205556, tolerance: 0.5814806324110673\n  model = cd_fast.enet_coordinate_descent(\nC:\\Users\\vipki\\AppData\\Local\\Programs\\Python\\Python39\\lib\\site-packages\\sklearn\\linear_model\\_coordinate_descent.py:530: ConvergenceWarning: Objective did not converge. You might want to increase the number of iterations. Duality gap: 35.04915720510614, tolerance: 0.5246260869565217\n  model = cd_fast.enet_coordinate_descent(\nC:\\Users\\vipki\\AppData\\Local\\Programs\\Python\\Python39\\lib\\site-packages\\sklearn\\linear_model\\_coordinate_descent.py:530: ConvergenceWarning: Objective did not converge. You might want to increase the number of iterations. Duality gap: 18.662343612998562, tolerance: 0.5125027667984189\n  model = cd_fast.enet_coordinate_descent(\nC:\\Users\\vipki\\AppData\\Local\\Programs\\Python\\Python39\\lib\\site-packages\\sklearn\\linear_model\\_coordinate_descent.py:530: ConvergenceWarning: Objective did not converge. You might want to increase the number of iterations. Duality gap: 22.683418660330503, tolerance: 0.492306719367589\n  model = cd_fast.enet_coordinate_descent(\nC:\\Users\\vipki\\AppData\\Local\\Programs\\Python\\Python39\\lib\\site-packages\\sklearn\\linear_model\\_coordinate_descent.py:530: ConvergenceWarning: Objective did not converge. You might want to increase the number of iterations. Duality gap: 1231.330520827743, tolerance: 0.5705186507936507\n  model = cd_fast.enet_coordinate_descent(\nC:\\Users\\vipki\\AppData\\Local\\Programs\\Python\\Python39\\lib\\site-packages\\sklearn\\linear_model\\_coordinate_descent.py:530: ConvergenceWarning: Objective did not converge. You might want to increase the number of iterations. Duality gap: 1219.8451828395935, tolerance: 0.5814806324110673\n  model = cd_fast.enet_coordinate_descent(\nC:\\Users\\vipki\\AppData\\Local\\Programs\\Python\\Python39\\lib\\site-packages\\sklearn\\linear_model\\_coordinate_descent.py:530: ConvergenceWarning: Objective did not converge. You might want to increase the number of iterations. Duality gap: 1078.5915256119163, tolerance: 0.5246260869565217\n  model = cd_fast.enet_coordinate_descent(\nC:\\Users\\vipki\\AppData\\Local\\Programs\\Python\\Python39\\lib\\site-packages\\sklearn\\linear_model\\_coordinate_descent.py:530: ConvergenceWarning: Objective did not converge. You might want to increase the number of iterations. Duality gap: 979.9399880853568, tolerance: 0.5125027667984189\n  model = cd_fast.enet_coordinate_descent(\nC:\\Users\\vipki\\AppData\\Local\\Programs\\Python\\Python39\\lib\\site-packages\\sklearn\\linear_model\\_coordinate_descent.py:530: ConvergenceWarning: Objective did not converge. You might want to increase the number of iterations. Duality gap: 902.6402501129495, tolerance: 0.492306719367589\n  model = cd_fast.enet_coordinate_descent(\nC:\\Users\\vipki\\AppData\\Local\\Programs\\Python\\Python39\\lib\\site-packages\\sklearn\\linear_model\\_coordinate_descent.py:530: ConvergenceWarning: Objective did not converge. You might want to increase the number of iterations. Duality gap: 88.9201909339742, tolerance: 0.5705186507936507\n  model = cd_fast.enet_coordinate_descent(\nC:\\Users\\vipki\\AppData\\Local\\Programs\\Python\\Python39\\lib\\site-packages\\sklearn\\linear_model\\_coordinate_descent.py:530: ConvergenceWarning: Objective did not converge. You might want to increase the number of iterations. Duality gap: 117.60766984121068, tolerance: 0.5814806324110673\n  model = cd_fast.enet_coordinate_descent(\nC:\\Users\\vipki\\AppData\\Local\\Programs\\Python\\Python39\\lib\\site-packages\\sklearn\\linear_model\\_coordinate_descent.py:530: ConvergenceWarning: Objective did not converge. You might want to increase the number of iterations. Duality gap: 106.01916292463022, tolerance: 0.5246260869565217\n  model = cd_fast.enet_coordinate_descent(\nC:\\Users\\vipki\\AppData\\Local\\Programs\\Python\\Python39\\lib\\site-packages\\sklearn\\linear_model\\_coordinate_descent.py:530: ConvergenceWarning: Objective did not converge. You might want to increase the number of iterations. Duality gap: 77.68725016636745, tolerance: 0.5125027667984189\n  model = cd_fast.enet_coordinate_descent(\nC:\\Users\\vipki\\AppData\\Local\\Programs\\Python\\Python39\\lib\\site-packages\\sklearn\\linear_model\\_coordinate_descent.py:530: ConvergenceWarning: Objective did not converge. You might want to increase the number of iterations. Duality gap: 82.91029471116656, tolerance: 0.492306719367589\n  model = cd_fast.enet_coordinate_descent(\nC:\\Users\\vipki\\AppData\\Local\\Programs\\Python\\Python39\\lib\\site-packages\\sklearn\\linear_model\\_coordinate_descent.py:530: ConvergenceWarning: Objective did not converge. You might want to increase the number of iterations. Duality gap: 6.181613014932054, tolerance: 0.5814806324110673\n  model = cd_fast.enet_coordinate_descent(\nC:\\Users\\vipki\\AppData\\Local\\Programs\\Python\\Python39\\lib\\site-packages\\sklearn\\linear_model\\_coordinate_descent.py:530: ConvergenceWarning: Objective did not converge. You might want to increase the number of iterations. Duality gap: 7.87081393463518, tolerance: 0.5246260869565217\n  model = cd_fast.enet_coordinate_descent(\nC:\\Users\\vipki\\AppData\\Local\\Programs\\Python\\Python39\\lib\\site-packages\\sklearn\\linear_model\\_coordinate_descent.py:530: ConvergenceWarning: Objective did not converge. You might want to increase the number of iterations. Duality gap: 1.7756685334862254, tolerance: 0.492306719367589\n  model = cd_fast.enet_coordinate_descent(\n"
     ]
    },
    {
     "output_type": "execute_result",
     "data": {
      "text/plain": [
       "{'alpha': 0.1, 'max_iter': 10}"
      ]
     },
     "metadata": {},
     "execution_count": 33
    }
   ],
   "source": [
    "# определим гиперпараметры\n",
    "parameters = {\"max_iter\": [1, 5, 10],\n",
    "                      \"alpha\": [0.0001, 0.001, 0.01, 0.1, 1, 10, 100]}\n",
    "clf = GridSearchCV(Lasso(), parameters, cv=5, refit=False)\n",
    "clf.fit(X_train, y_train)\n",
    "clf.best_params_"
   ]
  },
  {
   "cell_type": "code",
   "execution_count": 34,
   "id": "generic-isolation",
   "metadata": {},
   "outputs": [
    {
     "output_type": "execute_result",
     "data": {
      "text/plain": [
       "0.9942263025307666"
      ]
     },
     "metadata": {},
     "execution_count": 34
    }
   ],
   "source": [
    "clf.best_score_"
   ]
  },
  {
   "cell_type": "markdown",
   "id": "characteristic-junior",
   "metadata": {},
   "source": [
    "## Ridge Regression\n",
    "https://scikit-learn.org/stable/modules/generated/sklearn.linear_model.Ridge.html"
   ]
  },
  {
   "cell_type": "code",
   "execution_count": 35,
   "id": "particular-engineering",
   "metadata": {},
   "outputs": [],
   "source": [
    "from sklearn.linear_model import Ridge"
   ]
  },
  {
   "cell_type": "code",
   "execution_count": 36,
   "id": "sharp-canon",
   "metadata": {},
   "outputs": [],
   "source": [
    "X_train, X_test, y_train, y_test = train_test_split(X, y, test_size=0.20)\n",
    "scaler = StandardScaler()\n",
    "scaler.fit(X_train)\n",
    "\n",
    "X_train = scaler.transform(X_train)\n",
    "X_test = scaler.transform(X_test)"
   ]
  },
  {
   "cell_type": "code",
   "execution_count": 37,
   "id": "pharmaceutical-millennium",
   "metadata": {},
   "outputs": [],
   "source": [
    "ridge = Ridge()\n",
    "ridge.fit(X_train, y_train)\n",
    "Y_pred = ridge.predict(X_test)\n",
    "# обучение модели и предсказание результата на тестовой выборке"
   ]
  },
  {
   "cell_type": "code",
   "execution_count": 38,
   "id": "banner-trustee",
   "metadata": {},
   "outputs": [
    {
     "output_type": "execute_result",
     "data": {
      "text/plain": [
       "0.02177915388406396"
      ]
     },
     "metadata": {},
     "execution_count": 38
    }
   ],
   "source": [
    "#mean absolute error (MAE)\n",
    "metrics.mean_absolute_error(y_test, Y_pred)"
   ]
  },
  {
   "cell_type": "code",
   "execution_count": 39,
   "id": "different-marketplace",
   "metadata": {},
   "outputs": [
    {
     "output_type": "execute_result",
     "data": {
      "text/plain": [
       "0.0009515136242766638"
      ]
     },
     "metadata": {},
     "execution_count": 39
    }
   ],
   "source": [
    "#mean square error (MSE)\n",
    "metrics.mean_squared_error(y_test, Y_pred)"
   ]
  },
  {
   "cell_type": "code",
   "execution_count": 40,
   "id": "rubber-violence",
   "metadata": {},
   "outputs": [
    {
     "output_type": "execute_result",
     "data": {
      "text/plain": [
       "0.9999519912321607"
      ]
     },
     "metadata": {},
     "execution_count": 40
    }
   ],
   "source": [
    "#r2 score (R^2)\n",
    "metrics.r2_score(y_test, Y_pred)"
   ]
  },
  {
   "cell_type": "code",
   "execution_count": 41,
   "id": "acknowledged-retreat",
   "metadata": {},
   "outputs": [
    {
     "output_type": "stream",
     "name": "stdout",
     "text": [
      "0.03084661447025692\n"
     ]
    }
   ],
   "source": [
    "#root mean square (RMSE)\n",
    "mse = metrics.mean_squared_error(y_test, Y_pred)\n",
    "print(mse**(1/2))"
   ]
  },
  {
   "cell_type": "code",
   "execution_count": 42,
   "id": "ahead-detail",
   "metadata": {},
   "outputs": [
    {
     "output_type": "execute_result",
     "data": {
      "text/plain": [
       "{'copy_X': True, 'fit_intercept': True, 'normalize': False}"
      ]
     },
     "metadata": {},
     "execution_count": 42
    }
   ],
   "source": [
    "# определим гиперпараметры\n",
    "parameters = {'fit_intercept':[True,False], 'normalize':[True,False], 'copy_X':[True, False]}\n",
    "clf = GridSearchCV(Ridge(), parameters, cv=5)\n",
    "clf.fit(X_train, y_train)\n",
    "clf.best_params_"
   ]
  },
  {
   "cell_type": "code",
   "execution_count": 43,
   "id": "portuguese-meter",
   "metadata": {},
   "outputs": [
    {
     "output_type": "execute_result",
     "data": {
      "text/plain": [
       "0.999854839486669"
      ]
     },
     "metadata": {},
     "execution_count": 43
    }
   ],
   "source": [
    "clf.best_score_"
   ]
  },
  {
   "cell_type": "markdown",
   "id": "educated-archive",
   "metadata": {},
   "source": [
    "## ElasticNet Regression\n",
    "https://scikit-learn.org/stable/modules/generated/sklearn.linear_model.ElasticNet.html"
   ]
  },
  {
   "cell_type": "code",
   "execution_count": 44,
   "id": "prepared-formula",
   "metadata": {},
   "outputs": [],
   "source": [
    "from sklearn.linear_model import ElasticNet"
   ]
  },
  {
   "cell_type": "code",
   "execution_count": 45,
   "id": "lightweight-benjamin",
   "metadata": {},
   "outputs": [],
   "source": [
    "X_train, X_test, y_train, y_test = train_test_split(X, y, test_size=0.20)\n",
    "scaler = StandardScaler()\n",
    "scaler.fit(X_train)\n",
    "\n",
    "X_train = scaler.transform(X_train)\n",
    "X_test = scaler.transform(X_test)"
   ]
  },
  {
   "cell_type": "code",
   "execution_count": 46,
   "id": "alternate-companion",
   "metadata": {},
   "outputs": [],
   "source": [
    "elasticN = ElasticNet()\n",
    "elasticN.fit(X_train, y_train)\n",
    "Y_pred = elasticN.predict(X_test)\n",
    "# обучение модели и предсказание результата на тестовой выборке"
   ]
  },
  {
   "cell_type": "code",
   "execution_count": 47,
   "id": "social-update",
   "metadata": {},
   "outputs": [
    {
     "output_type": "execute_result",
     "data": {
      "text/plain": [
       "0.9017849866950601"
      ]
     },
     "metadata": {},
     "execution_count": 47
    }
   ],
   "source": [
    "#mean absolute error (MAE)\n",
    "metrics.mean_absolute_error(y_test, Y_pred)"
   ]
  },
  {
   "cell_type": "code",
   "execution_count": 48,
   "id": "decimal-turning",
   "metadata": {},
   "outputs": [
    {
     "output_type": "execute_result",
     "data": {
      "text/plain": [
       "1.548995147211947"
      ]
     },
     "metadata": {},
     "execution_count": 48
    }
   ],
   "source": [
    "#mean square error (MSE)\n",
    "metrics.mean_squared_error(y_test, Y_pred)"
   ]
  },
  {
   "cell_type": "code",
   "execution_count": 49,
   "id": "intended-transformation",
   "metadata": {},
   "outputs": [
    {
     "output_type": "execute_result",
     "data": {
      "text/plain": [
       "0.9267896619884454"
      ]
     },
     "metadata": {},
     "execution_count": 49
    }
   ],
   "source": [
    "#r2 score (R^2)\n",
    "metrics.r2_score(y_test, Y_pred)"
   ]
  },
  {
   "cell_type": "code",
   "execution_count": 50,
   "id": "bronze-cisco",
   "metadata": {},
   "outputs": [
    {
     "output_type": "stream",
     "name": "stdout",
     "text": [
      "1.244586335780667\n"
     ]
    }
   ],
   "source": [
    "#root mean square (RMSE)\n",
    "mse = metrics.mean_squared_error(y_test, Y_pred)\n",
    "print(mse**(1/2))"
   ]
  },
  {
   "cell_type": "code",
   "execution_count": 139,
   "id": "spare-semester",
   "metadata": {},
   "outputs": [
    {
     "name": "stderr",
     "output_type": "stream",
     "text": [
      "c:\\users\\kechi\\appdata\\local\\programs\\python\\python39\\lib\\site-packages\\sklearn\\linear_model\\_coordinate_descent.py:530: ConvergenceWarning: Objective did not converge. You might want to increase the number of iterations. Duality gap: 740.7717424018898, tolerance: 0.5122650793650796\n",
      "  model = cd_fast.enet_coordinate_descent(\n",
      "c:\\users\\kechi\\appdata\\local\\programs\\python\\python39\\lib\\site-packages\\sklearn\\linear_model\\_coordinate_descent.py:530: ConvergenceWarning: Objective did not converge. You might want to increase the number of iterations. Duality gap: 805.4843308190673, tolerance: 0.5290632411067191\n",
      "  model = cd_fast.enet_coordinate_descent(\n",
      "c:\\users\\kechi\\appdata\\local\\programs\\python\\python39\\lib\\site-packages\\sklearn\\linear_model\\_coordinate_descent.py:530: ConvergenceWarning: Objective did not converge. You might want to increase the number of iterations. Duality gap: 766.9906599757795, tolerance: 0.5188039525691701\n",
      "  model = cd_fast.enet_coordinate_descent(\n",
      "c:\\users\\kechi\\appdata\\local\\programs\\python\\python39\\lib\\site-packages\\sklearn\\linear_model\\_coordinate_descent.py:530: ConvergenceWarning: Objective did not converge. You might want to increase the number of iterations. Duality gap: 773.8672796668685, tolerance: 0.5432181818181822\n",
      "  model = cd_fast.enet_coordinate_descent(\n",
      "c:\\users\\kechi\\appdata\\local\\programs\\python\\python39\\lib\\site-packages\\sklearn\\linear_model\\_coordinate_descent.py:530: ConvergenceWarning: Objective did not converge. You might want to increase the number of iterations. Duality gap: 816.3632056175644, tolerance: 0.5057422924901187\n",
      "  model = cd_fast.enet_coordinate_descent(\n",
      "c:\\users\\kechi\\appdata\\local\\programs\\python\\python39\\lib\\site-packages\\sklearn\\linear_model\\_coordinate_descent.py:530: ConvergenceWarning: Objective did not converge. You might want to increase the number of iterations. Duality gap: 113.68266841406765, tolerance: 0.5122650793650796\n",
      "  model = cd_fast.enet_coordinate_descent(\n",
      "c:\\users\\kechi\\appdata\\local\\programs\\python\\python39\\lib\\site-packages\\sklearn\\linear_model\\_coordinate_descent.py:530: ConvergenceWarning: Objective did not converge. You might want to increase the number of iterations. Duality gap: 120.77091990863012, tolerance: 0.5290632411067191\n",
      "  model = cd_fast.enet_coordinate_descent(\n",
      "c:\\users\\kechi\\appdata\\local\\programs\\python\\python39\\lib\\site-packages\\sklearn\\linear_model\\_coordinate_descent.py:530: ConvergenceWarning: Objective did not converge. You might want to increase the number of iterations. Duality gap: 124.76892141421831, tolerance: 0.5188039525691701\n",
      "  model = cd_fast.enet_coordinate_descent(\n",
      "c:\\users\\kechi\\appdata\\local\\programs\\python\\python39\\lib\\site-packages\\sklearn\\linear_model\\_coordinate_descent.py:530: ConvergenceWarning: Objective did not converge. You might want to increase the number of iterations. Duality gap: 137.72605185359257, tolerance: 0.5432181818181822\n",
      "  model = cd_fast.enet_coordinate_descent(\n",
      "c:\\users\\kechi\\appdata\\local\\programs\\python\\python39\\lib\\site-packages\\sklearn\\linear_model\\_coordinate_descent.py:530: ConvergenceWarning: Objective did not converge. You might want to increase the number of iterations. Duality gap: 122.85870583010391, tolerance: 0.5057422924901187\n",
      "  model = cd_fast.enet_coordinate_descent(\n",
      "c:\\users\\kechi\\appdata\\local\\programs\\python\\python39\\lib\\site-packages\\sklearn\\linear_model\\_coordinate_descent.py:530: ConvergenceWarning: Objective did not converge. You might want to increase the number of iterations. Duality gap: 30.128894799437333, tolerance: 0.5122650793650796\n",
      "  model = cd_fast.enet_coordinate_descent(\n",
      "c:\\users\\kechi\\appdata\\local\\programs\\python\\python39\\lib\\site-packages\\sklearn\\linear_model\\_coordinate_descent.py:530: ConvergenceWarning: Objective did not converge. You might want to increase the number of iterations. Duality gap: 30.763445014133083, tolerance: 0.5290632411067191\n",
      "  model = cd_fast.enet_coordinate_descent(\n",
      "c:\\users\\kechi\\appdata\\local\\programs\\python\\python39\\lib\\site-packages\\sklearn\\linear_model\\_coordinate_descent.py:530: ConvergenceWarning: Objective did not converge. You might want to increase the number of iterations. Duality gap: 34.782238289395366, tolerance: 0.5188039525691701\n",
      "  model = cd_fast.enet_coordinate_descent(\n",
      "c:\\users\\kechi\\appdata\\local\\programs\\python\\python39\\lib\\site-packages\\sklearn\\linear_model\\_coordinate_descent.py:530: ConvergenceWarning: Objective did not converge. You might want to increase the number of iterations. Duality gap: 33.604805688857994, tolerance: 0.5432181818181822\n",
      "  model = cd_fast.enet_coordinate_descent(\n",
      "c:\\users\\kechi\\appdata\\local\\programs\\python\\python39\\lib\\site-packages\\sklearn\\linear_model\\_coordinate_descent.py:530: ConvergenceWarning: Objective did not converge. You might want to increase the number of iterations. Duality gap: 33.01873239458624, tolerance: 0.5057422924901187\n",
      "  model = cd_fast.enet_coordinate_descent(\n",
      "c:\\users\\kechi\\appdata\\local\\programs\\python\\python39\\lib\\site-packages\\sklearn\\linear_model\\_coordinate_descent.py:530: ConvergenceWarning: Objective did not converge. You might want to increase the number of iterations. Duality gap: 740.7916052045671, tolerance: 0.5122650793650796\n",
      "  model = cd_fast.enet_coordinate_descent(\n",
      "c:\\users\\kechi\\appdata\\local\\programs\\python\\python39\\lib\\site-packages\\sklearn\\linear_model\\_coordinate_descent.py:530: ConvergenceWarning: Objective did not converge. You might want to increase the number of iterations. Duality gap: 805.4998909139424, tolerance: 0.5290632411067191\n",
      "  model = cd_fast.enet_coordinate_descent(\n",
      "c:\\users\\kechi\\appdata\\local\\programs\\python\\python39\\lib\\site-packages\\sklearn\\linear_model\\_coordinate_descent.py:530: ConvergenceWarning: Objective did not converge. You might want to increase the number of iterations. Duality gap: 767.0068733275248, tolerance: 0.5188039525691701\n",
      "  model = cd_fast.enet_coordinate_descent(\n",
      "c:\\users\\kechi\\appdata\\local\\programs\\python\\python39\\lib\\site-packages\\sklearn\\linear_model\\_coordinate_descent.py:530: ConvergenceWarning: Objective did not converge. You might want to increase the number of iterations. Duality gap: 773.8860044655232, tolerance: 0.5432181818181822\n",
      "  model = cd_fast.enet_coordinate_descent(\n",
      "c:\\users\\kechi\\appdata\\local\\programs\\python\\python39\\lib\\site-packages\\sklearn\\linear_model\\_coordinate_descent.py:530: ConvergenceWarning: Objective did not converge. You might want to increase the number of iterations. Duality gap: 816.3833688749911, tolerance: 0.5057422924901187\n",
      "  model = cd_fast.enet_coordinate_descent(\n",
      "c:\\users\\kechi\\appdata\\local\\programs\\python\\python39\\lib\\site-packages\\sklearn\\linear_model\\_coordinate_descent.py:530: ConvergenceWarning: Objective did not converge. You might want to increase the number of iterations. Duality gap: 113.68946874449612, tolerance: 0.5122650793650796\n",
      "  model = cd_fast.enet_coordinate_descent(\n",
      "c:\\users\\kechi\\appdata\\local\\programs\\python\\python39\\lib\\site-packages\\sklearn\\linear_model\\_coordinate_descent.py:530: ConvergenceWarning: Objective did not converge. You might want to increase the number of iterations. Duality gap: 120.77771961165833, tolerance: 0.5290632411067191\n",
      "  model = cd_fast.enet_coordinate_descent(\n",
      "c:\\users\\kechi\\appdata\\local\\programs\\python\\python39\\lib\\site-packages\\sklearn\\linear_model\\_coordinate_descent.py:530: ConvergenceWarning: Objective did not converge. You might want to increase the number of iterations. Duality gap: 124.77675875133092, tolerance: 0.5188039525691701\n",
      "  model = cd_fast.enet_coordinate_descent(\n",
      "c:\\users\\kechi\\appdata\\local\\programs\\python\\python39\\lib\\site-packages\\sklearn\\linear_model\\_coordinate_descent.py:530: ConvergenceWarning: Objective did not converge. You might want to increase the number of iterations. Duality gap: 137.73426308282555, tolerance: 0.5432181818181822\n",
      "  model = cd_fast.enet_coordinate_descent(\n",
      "c:\\users\\kechi\\appdata\\local\\programs\\python\\python39\\lib\\site-packages\\sklearn\\linear_model\\_coordinate_descent.py:530: ConvergenceWarning: Objective did not converge. You might want to increase the number of iterations. Duality gap: 122.86725870169353, tolerance: 0.5057422924901187\n",
      "  model = cd_fast.enet_coordinate_descent(\n",
      "c:\\users\\kechi\\appdata\\local\\programs\\python\\python39\\lib\\site-packages\\sklearn\\linear_model\\_coordinate_descent.py:530: ConvergenceWarning: Objective did not converge. You might want to increase the number of iterations. Duality gap: 30.125701125418477, tolerance: 0.5122650793650796\n",
      "  model = cd_fast.enet_coordinate_descent(\n",
      "c:\\users\\kechi\\appdata\\local\\programs\\python\\python39\\lib\\site-packages\\sklearn\\linear_model\\_coordinate_descent.py:530: ConvergenceWarning: Objective did not converge. You might want to increase the number of iterations. Duality gap: 30.760209232754228, tolerance: 0.5290632411067191\n",
      "  model = cd_fast.enet_coordinate_descent(\n",
      "c:\\users\\kechi\\appdata\\local\\programs\\python\\python39\\lib\\site-packages\\sklearn\\linear_model\\_coordinate_descent.py:530: ConvergenceWarning: Objective did not converge. You might want to increase the number of iterations. Duality gap: 34.780275008223, tolerance: 0.5188039525691701\n",
      "  model = cd_fast.enet_coordinate_descent(\n",
      "c:\\users\\kechi\\appdata\\local\\programs\\python\\python39\\lib\\site-packages\\sklearn\\linear_model\\_coordinate_descent.py:530: ConvergenceWarning: Objective did not converge. You might want to increase the number of iterations. Duality gap: 33.60189989532994, tolerance: 0.5432181818181822\n",
      "  model = cd_fast.enet_coordinate_descent(\n",
      "c:\\users\\kechi\\appdata\\local\\programs\\python\\python39\\lib\\site-packages\\sklearn\\linear_model\\_coordinate_descent.py:530: ConvergenceWarning: Objective did not converge. You might want to increase the number of iterations. Duality gap: 33.01662186634318, tolerance: 0.5057422924901187\n",
      "  model = cd_fast.enet_coordinate_descent(\n",
      "c:\\users\\kechi\\appdata\\local\\programs\\python\\python39\\lib\\site-packages\\sklearn\\linear_model\\_coordinate_descent.py:530: ConvergenceWarning: Objective did not converge. You might want to increase the number of iterations. Duality gap: 740.8114674164423, tolerance: 0.5122650793650796\n",
      "  model = cd_fast.enet_coordinate_descent(\n",
      "c:\\users\\kechi\\appdata\\local\\programs\\python\\python39\\lib\\site-packages\\sklearn\\linear_model\\_coordinate_descent.py:530: ConvergenceWarning: Objective did not converge. You might want to increase the number of iterations. Duality gap: 805.5154505038769, tolerance: 0.5290632411067191\n",
      "  model = cd_fast.enet_coordinate_descent(\n",
      "c:\\users\\kechi\\appdata\\local\\programs\\python\\python39\\lib\\site-packages\\sklearn\\linear_model\\_coordinate_descent.py:530: ConvergenceWarning: Objective did not converge. You might want to increase the number of iterations. Duality gap: 767.023086157855, tolerance: 0.5188039525691701\n",
      "  model = cd_fast.enet_coordinate_descent(\n",
      "c:\\users\\kechi\\appdata\\local\\programs\\python\\python39\\lib\\site-packages\\sklearn\\linear_model\\_coordinate_descent.py:530: ConvergenceWarning: Objective did not converge. You might want to increase the number of iterations. Duality gap: 773.9047286485294, tolerance: 0.5432181818181822\n",
      "  model = cd_fast.enet_coordinate_descent(\n",
      "c:\\users\\kechi\\appdata\\local\\programs\\python\\python39\\lib\\site-packages\\sklearn\\linear_model\\_coordinate_descent.py:530: ConvergenceWarning: Objective did not converge. You might want to increase the number of iterations. Duality gap: 816.4035316227196, tolerance: 0.5057422924901187\n",
      "  model = cd_fast.enet_coordinate_descent(\n",
      "c:\\users\\kechi\\appdata\\local\\programs\\python\\python39\\lib\\site-packages\\sklearn\\linear_model\\_coordinate_descent.py:530: ConvergenceWarning: Objective did not converge. You might want to increase the number of iterations. Duality gap: 113.69611592058727, tolerance: 0.5122650793650796\n",
      "  model = cd_fast.enet_coordinate_descent(\n",
      "c:\\users\\kechi\\appdata\\local\\programs\\python\\python39\\lib\\site-packages\\sklearn\\linear_model\\_coordinate_descent.py:530: ConvergenceWarning: Objective did not converge. You might want to increase the number of iterations. Duality gap: 120.7845950060533, tolerance: 0.5290632411067191\n",
      "  model = cd_fast.enet_coordinate_descent(\n",
      "c:\\users\\kechi\\appdata\\local\\programs\\python\\python39\\lib\\site-packages\\sklearn\\linear_model\\_coordinate_descent.py:530: ConvergenceWarning: Objective did not converge. You might want to increase the number of iterations. Duality gap: 124.78436663809958, tolerance: 0.5188039525691701\n",
      "  model = cd_fast.enet_coordinate_descent(\n",
      "c:\\users\\kechi\\appdata\\local\\programs\\python\\python39\\lib\\site-packages\\sklearn\\linear_model\\_coordinate_descent.py:530: ConvergenceWarning: Objective did not converge. You might want to increase the number of iterations. Duality gap: 137.74243799022008, tolerance: 0.5432181818181822\n",
      "  model = cd_fast.enet_coordinate_descent(\n"
     ]
    },
    {
     "name": "stderr",
     "output_type": "stream",
     "text": [
      "c:\\users\\kechi\\appdata\\local\\programs\\python\\python39\\lib\\site-packages\\sklearn\\linear_model\\_coordinate_descent.py:530: ConvergenceWarning: Objective did not converge. You might want to increase the number of iterations. Duality gap: 122.87582099355186, tolerance: 0.5057422924901187\n",
      "  model = cd_fast.enet_coordinate_descent(\n",
      "c:\\users\\kechi\\appdata\\local\\programs\\python\\python39\\lib\\site-packages\\sklearn\\linear_model\\_coordinate_descent.py:530: ConvergenceWarning: Objective did not converge. You might want to increase the number of iterations. Duality gap: 30.122492597687263, tolerance: 0.5122650793650796\n",
      "  model = cd_fast.enet_coordinate_descent(\n",
      "c:\\users\\kechi\\appdata\\local\\programs\\python\\python39\\lib\\site-packages\\sklearn\\linear_model\\_coordinate_descent.py:530: ConvergenceWarning: Objective did not converge. You might want to increase the number of iterations. Duality gap: 30.756864268458536, tolerance: 0.5290632411067191\n",
      "  model = cd_fast.enet_coordinate_descent(\n",
      "c:\\users\\kechi\\appdata\\local\\programs\\python\\python39\\lib\\site-packages\\sklearn\\linear_model\\_coordinate_descent.py:530: ConvergenceWarning: Objective did not converge. You might want to increase the number of iterations. Duality gap: 34.77814189353903, tolerance: 0.5188039525691701\n",
      "  model = cd_fast.enet_coordinate_descent(\n",
      "c:\\users\\kechi\\appdata\\local\\programs\\python\\python39\\lib\\site-packages\\sklearn\\linear_model\\_coordinate_descent.py:530: ConvergenceWarning: Objective did not converge. You might want to increase the number of iterations. Duality gap: 33.5989697332031, tolerance: 0.5432181818181822\n",
      "  model = cd_fast.enet_coordinate_descent(\n",
      "c:\\users\\kechi\\appdata\\local\\programs\\python\\python39\\lib\\site-packages\\sklearn\\linear_model\\_coordinate_descent.py:530: ConvergenceWarning: Objective did not converge. You might want to increase the number of iterations. Duality gap: 33.01450802178916, tolerance: 0.5057422924901187\n",
      "  model = cd_fast.enet_coordinate_descent(\n",
      "c:\\users\\kechi\\appdata\\local\\programs\\python\\python39\\lib\\site-packages\\sklearn\\linear_model\\_coordinate_descent.py:530: ConvergenceWarning: Objective did not converge. You might want to increase the number of iterations. Duality gap: 740.8313290374653, tolerance: 0.5122650793650796\n",
      "  model = cd_fast.enet_coordinate_descent(\n",
      "c:\\users\\kechi\\appdata\\local\\programs\\python\\python39\\lib\\site-packages\\sklearn\\linear_model\\_coordinate_descent.py:530: ConvergenceWarning: Objective did not converge. You might want to increase the number of iterations. Duality gap: 805.5310095888192, tolerance: 0.5290632411067191\n",
      "  model = cd_fast.enet_coordinate_descent(\n",
      "c:\\users\\kechi\\appdata\\local\\programs\\python\\python39\\lib\\site-packages\\sklearn\\linear_model\\_coordinate_descent.py:530: ConvergenceWarning: Objective did not converge. You might want to increase the number of iterations. Duality gap: 767.0392984667092, tolerance: 0.5188039525691701\n",
      "  model = cd_fast.enet_coordinate_descent(\n",
      "c:\\users\\kechi\\appdata\\local\\programs\\python\\python39\\lib\\site-packages\\sklearn\\linear_model\\_coordinate_descent.py:530: ConvergenceWarning: Objective did not converge. You might want to increase the number of iterations. Duality gap: 773.9234522158273, tolerance: 0.5432181818181822\n",
      "  model = cd_fast.enet_coordinate_descent(\n",
      "c:\\users\\kechi\\appdata\\local\\programs\\python\\python39\\lib\\site-packages\\sklearn\\linear_model\\_coordinate_descent.py:530: ConvergenceWarning: Objective did not converge. You might want to increase the number of iterations. Duality gap: 816.4236938607077, tolerance: 0.5057422924901187\n",
      "  model = cd_fast.enet_coordinate_descent(\n",
      "c:\\users\\kechi\\appdata\\local\\programs\\python\\python39\\lib\\site-packages\\sklearn\\linear_model\\_coordinate_descent.py:530: ConvergenceWarning: Objective did not converge. You might want to increase the number of iterations. Duality gap: 113.70274741749218, tolerance: 0.5122650793650796\n",
      "  model = cd_fast.enet_coordinate_descent(\n",
      "c:\\users\\kechi\\appdata\\local\\programs\\python\\python39\\lib\\site-packages\\sklearn\\linear_model\\_coordinate_descent.py:530: ConvergenceWarning: Objective did not converge. You might want to increase the number of iterations. Duality gap: 120.79146953250098, tolerance: 0.5290632411067191\n",
      "  model = cd_fast.enet_coordinate_descent(\n",
      "c:\\users\\kechi\\appdata\\local\\programs\\python\\python39\\lib\\site-packages\\sklearn\\linear_model\\_coordinate_descent.py:530: ConvergenceWarning: Objective did not converge. You might want to increase the number of iterations. Duality gap: 124.79190889887037, tolerance: 0.5188039525691701\n",
      "  model = cd_fast.enet_coordinate_descent(\n",
      "c:\\users\\kechi\\appdata\\local\\programs\\python\\python39\\lib\\site-packages\\sklearn\\linear_model\\_coordinate_descent.py:530: ConvergenceWarning: Objective did not converge. You might want to increase the number of iterations. Duality gap: 137.75061092564457, tolerance: 0.5432181818181822\n",
      "  model = cd_fast.enet_coordinate_descent(\n",
      "c:\\users\\kechi\\appdata\\local\\programs\\python\\python39\\lib\\site-packages\\sklearn\\linear_model\\_coordinate_descent.py:530: ConvergenceWarning: Objective did not converge. You might want to increase the number of iterations. Duality gap: 122.8842459147124, tolerance: 0.5057422924901187\n",
      "  model = cd_fast.enet_coordinate_descent(\n",
      "c:\\users\\kechi\\appdata\\local\\programs\\python\\python39\\lib\\site-packages\\sklearn\\linear_model\\_coordinate_descent.py:530: ConvergenceWarning: Objective did not converge. You might want to increase the number of iterations. Duality gap: 30.119229661810447, tolerance: 0.5122650793650796\n",
      "  model = cd_fast.enet_coordinate_descent(\n",
      "c:\\users\\kechi\\appdata\\local\\programs\\python\\python39\\lib\\site-packages\\sklearn\\linear_model\\_coordinate_descent.py:530: ConvergenceWarning: Objective did not converge. You might want to increase the number of iterations. Duality gap: 30.753506869979937, tolerance: 0.5290632411067191\n",
      "  model = cd_fast.enet_coordinate_descent(\n",
      "c:\\users\\kechi\\appdata\\local\\programs\\python\\python39\\lib\\site-packages\\sklearn\\linear_model\\_coordinate_descent.py:530: ConvergenceWarning: Objective did not converge. You might want to increase the number of iterations. Duality gap: 34.776019325911, tolerance: 0.5188039525691701\n",
      "  model = cd_fast.enet_coordinate_descent(\n",
      "c:\\users\\kechi\\appdata\\local\\programs\\python\\python39\\lib\\site-packages\\sklearn\\linear_model\\_coordinate_descent.py:530: ConvergenceWarning: Objective did not converge. You might want to increase the number of iterations. Duality gap: 33.59608492826928, tolerance: 0.5432181818181822\n",
      "  model = cd_fast.enet_coordinate_descent(\n",
      "c:\\users\\kechi\\appdata\\local\\programs\\python\\python39\\lib\\site-packages\\sklearn\\linear_model\\_coordinate_descent.py:530: ConvergenceWarning: Objective did not converge. You might want to increase the number of iterations. Duality gap: 33.01240805635658, tolerance: 0.5057422924901187\n",
      "  model = cd_fast.enet_coordinate_descent(\n",
      "c:\\users\\kechi\\appdata\\local\\programs\\python\\python39\\lib\\site-packages\\sklearn\\linear_model\\_coordinate_descent.py:530: ConvergenceWarning: Objective did not converge. You might want to increase the number of iterations. Duality gap: 740.8511900675854, tolerance: 0.5122650793650796\n",
      "  model = cd_fast.enet_coordinate_descent(\n",
      "c:\\users\\kechi\\appdata\\local\\programs\\python\\python39\\lib\\site-packages\\sklearn\\linear_model\\_coordinate_descent.py:530: ConvergenceWarning: Objective did not converge. You might want to increase the number of iterations. Duality gap: 805.5465681687152, tolerance: 0.5290632411067191\n",
      "  model = cd_fast.enet_coordinate_descent(\n",
      "c:\\users\\kechi\\appdata\\local\\programs\\python\\python39\\lib\\site-packages\\sklearn\\linear_model\\_coordinate_descent.py:530: ConvergenceWarning: Objective did not converge. You might want to increase the number of iterations. Duality gap: 767.0555102540264, tolerance: 0.5188039525691701\n",
      "  model = cd_fast.enet_coordinate_descent(\n",
      "c:\\users\\kechi\\appdata\\local\\programs\\python\\python39\\lib\\site-packages\\sklearn\\linear_model\\_coordinate_descent.py:530: ConvergenceWarning: Objective did not converge. You might want to increase the number of iterations. Duality gap: 773.9421751673589, tolerance: 0.5432181818181822\n",
      "  model = cd_fast.enet_coordinate_descent(\n",
      "c:\\users\\kechi\\appdata\\local\\programs\\python\\python39\\lib\\site-packages\\sklearn\\linear_model\\_coordinate_descent.py:530: ConvergenceWarning: Objective did not converge. You might want to increase the number of iterations. Duality gap: 816.4438555889083, tolerance: 0.5057422924901187\n",
      "  model = cd_fast.enet_coordinate_descent(\n",
      "c:\\users\\kechi\\appdata\\local\\programs\\python\\python39\\lib\\site-packages\\sklearn\\linear_model\\_coordinate_descent.py:530: ConvergenceWarning: Objective did not converge. You might want to increase the number of iterations. Duality gap: 113.70937721439778, tolerance: 0.5122650793650796\n",
      "  model = cd_fast.enet_coordinate_descent(\n",
      "c:\\users\\kechi\\appdata\\local\\programs\\python\\python39\\lib\\site-packages\\sklearn\\linear_model\\_coordinate_descent.py:530: ConvergenceWarning: Objective did not converge. You might want to increase the number of iterations. Duality gap: 120.79834319069653, tolerance: 0.5290632411067191\n",
      "  model = cd_fast.enet_coordinate_descent(\n",
      "c:\\users\\kechi\\appdata\\local\\programs\\python\\python39\\lib\\site-packages\\sklearn\\linear_model\\_coordinate_descent.py:530: ConvergenceWarning: Objective did not converge. You might want to increase the number of iterations. Duality gap: 124.79946964636405, tolerance: 0.5188039525691701\n",
      "  model = cd_fast.enet_coordinate_descent(\n",
      "c:\\users\\kechi\\appdata\\local\\programs\\python\\python39\\lib\\site-packages\\sklearn\\linear_model\\_coordinate_descent.py:530: ConvergenceWarning: Objective did not converge. You might want to increase the number of iterations. Duality gap: 137.75878240471044, tolerance: 0.5432181818181822\n",
      "  model = cd_fast.enet_coordinate_descent(\n",
      "c:\\users\\kechi\\appdata\\local\\programs\\python\\python39\\lib\\site-packages\\sklearn\\linear_model\\_coordinate_descent.py:530: ConvergenceWarning: Objective did not converge. You might want to increase the number of iterations. Duality gap: 122.89266971263221, tolerance: 0.5057422924901187\n",
      "  model = cd_fast.enet_coordinate_descent(\n",
      "c:\\users\\kechi\\appdata\\local\\programs\\python\\python39\\lib\\site-packages\\sklearn\\linear_model\\_coordinate_descent.py:530: ConvergenceWarning: Objective did not converge. You might want to increase the number of iterations. Duality gap: 30.115838101579513, tolerance: 0.5122650793650796\n",
      "  model = cd_fast.enet_coordinate_descent(\n",
      "c:\\users\\kechi\\appdata\\local\\programs\\python\\python39\\lib\\site-packages\\sklearn\\linear_model\\_coordinate_descent.py:530: ConvergenceWarning: Objective did not converge. You might want to increase the number of iterations. Duality gap: 30.75016304170864, tolerance: 0.5290632411067191\n",
      "  model = cd_fast.enet_coordinate_descent(\n",
      "c:\\users\\kechi\\appdata\\local\\programs\\python\\python39\\lib\\site-packages\\sklearn\\linear_model\\_coordinate_descent.py:530: ConvergenceWarning: Objective did not converge. You might want to increase the number of iterations. Duality gap: 34.773906428960956, tolerance: 0.5188039525691701\n",
      "  model = cd_fast.enet_coordinate_descent(\n",
      "c:\\users\\kechi\\appdata\\local\\programs\\python\\python39\\lib\\site-packages\\sklearn\\linear_model\\_coordinate_descent.py:530: ConvergenceWarning: Objective did not converge. You might want to increase the number of iterations. Duality gap: 33.59319851117702, tolerance: 0.5432181818181822\n",
      "  model = cd_fast.enet_coordinate_descent(\n",
      "c:\\users\\kechi\\appdata\\local\\programs\\python\\python39\\lib\\site-packages\\sklearn\\linear_model\\_coordinate_descent.py:530: ConvergenceWarning: Objective did not converge. You might want to increase the number of iterations. Duality gap: 33.01030885898806, tolerance: 0.5057422924901187\n",
      "  model = cd_fast.enet_coordinate_descent(\n",
      "c:\\users\\kechi\\appdata\\local\\programs\\python\\python39\\lib\\site-packages\\sklearn\\linear_model\\_coordinate_descent.py:530: ConvergenceWarning: Objective did not converge. You might want to increase the number of iterations. Duality gap: 740.871050506753, tolerance: 0.5122650793650796\n",
      "  model = cd_fast.enet_coordinate_descent(\n",
      "c:\\users\\kechi\\appdata\\local\\programs\\python\\python39\\lib\\site-packages\\sklearn\\linear_model\\_coordinate_descent.py:530: ConvergenceWarning: Objective did not converge. You might want to increase the number of iterations. Duality gap: 805.5621262435116, tolerance: 0.5290632411067191\n",
      "  model = cd_fast.enet_coordinate_descent(\n"
     ]
    },
    {
     "name": "stderr",
     "output_type": "stream",
     "text": [
      "c:\\users\\kechi\\appdata\\local\\programs\\python\\python39\\lib\\site-packages\\sklearn\\linear_model\\_coordinate_descent.py:530: ConvergenceWarning: Objective did not converge. You might want to increase the number of iterations. Duality gap: 767.0717215197461, tolerance: 0.5188039525691701\n",
      "  model = cd_fast.enet_coordinate_descent(\n",
      "c:\\users\\kechi\\appdata\\local\\programs\\python\\python39\\lib\\site-packages\\sklearn\\linear_model\\_coordinate_descent.py:530: ConvergenceWarning: Objective did not converge. You might want to increase the number of iterations. Duality gap: 773.9608975030645, tolerance: 0.5432181818181822\n",
      "  model = cd_fast.enet_coordinate_descent(\n",
      "c:\\users\\kechi\\appdata\\local\\programs\\python\\python39\\lib\\site-packages\\sklearn\\linear_model\\_coordinate_descent.py:530: ConvergenceWarning: Objective did not converge. You might want to increase the number of iterations. Duality gap: 816.4640168072793, tolerance: 0.5057422924901187\n",
      "  model = cd_fast.enet_coordinate_descent(\n",
      "c:\\users\\kechi\\appdata\\local\\programs\\python\\python39\\lib\\site-packages\\sklearn\\linear_model\\_coordinate_descent.py:530: ConvergenceWarning: Objective did not converge. You might want to increase the number of iterations. Duality gap: 113.7160053109698, tolerance: 0.5122650793650796\n",
      "  model = cd_fast.enet_coordinate_descent(\n",
      "c:\\users\\kechi\\appdata\\local\\programs\\python\\python39\\lib\\site-packages\\sklearn\\linear_model\\_coordinate_descent.py:530: ConvergenceWarning: Objective did not converge. You might want to increase the number of iterations. Duality gap: 120.80521218916051, tolerance: 0.5290632411067191\n",
      "  model = cd_fast.enet_coordinate_descent(\n",
      "c:\\users\\kechi\\appdata\\local\\programs\\python\\python39\\lib\\site-packages\\sklearn\\linear_model\\_coordinate_descent.py:530: ConvergenceWarning: Objective did not converge. You might want to increase the number of iterations. Duality gap: 124.80702894723537, tolerance: 0.5188039525691701\n",
      "  model = cd_fast.enet_coordinate_descent(\n",
      "c:\\users\\kechi\\appdata\\local\\programs\\python\\python39\\lib\\site-packages\\sklearn\\linear_model\\_coordinate_descent.py:530: ConvergenceWarning: Objective did not converge. You might want to increase the number of iterations. Duality gap: 137.76695242705912, tolerance: 0.5432181818181822\n",
      "  model = cd_fast.enet_coordinate_descent(\n",
      "c:\\users\\kechi\\appdata\\local\\programs\\python\\python39\\lib\\site-packages\\sklearn\\linear_model\\_coordinate_descent.py:530: ConvergenceWarning: Objective did not converge. You might want to increase the number of iterations. Duality gap: 122.90109238701349, tolerance: 0.5057422924901187\n",
      "  model = cd_fast.enet_coordinate_descent(\n",
      "c:\\users\\kechi\\appdata\\local\\programs\\python\\python39\\lib\\site-packages\\sklearn\\linear_model\\_coordinate_descent.py:530: ConvergenceWarning: Objective did not converge. You might want to increase the number of iterations. Duality gap: 30.112453319466525, tolerance: 0.5122650793650796\n",
      "  model = cd_fast.enet_coordinate_descent(\n",
      "c:\\users\\kechi\\appdata\\local\\programs\\python\\python39\\lib\\site-packages\\sklearn\\linear_model\\_coordinate_descent.py:530: ConvergenceWarning: Objective did not converge. You might want to increase the number of iterations. Duality gap: 30.746814774775768, tolerance: 0.5290632411067191\n",
      "  model = cd_fast.enet_coordinate_descent(\n",
      "c:\\users\\kechi\\appdata\\local\\programs\\python\\python39\\lib\\site-packages\\sklearn\\linear_model\\_coordinate_descent.py:530: ConvergenceWarning: Objective did not converge. You might want to increase the number of iterations. Duality gap: 34.77179416605144, tolerance: 0.5188039525691701\n",
      "  model = cd_fast.enet_coordinate_descent(\n",
      "c:\\users\\kechi\\appdata\\local\\programs\\python\\python39\\lib\\site-packages\\sklearn\\linear_model\\_coordinate_descent.py:530: ConvergenceWarning: Objective did not converge. You might want to increase the number of iterations. Duality gap: 33.59030776302872, tolerance: 0.5432181818181822\n",
      "  model = cd_fast.enet_coordinate_descent(\n",
      "c:\\users\\kechi\\appdata\\local\\programs\\python\\python39\\lib\\site-packages\\sklearn\\linear_model\\_coordinate_descent.py:530: ConvergenceWarning: Objective did not converge. You might want to increase the number of iterations. Duality gap: 33.0082033166223, tolerance: 0.5057422924901187\n",
      "  model = cd_fast.enet_coordinate_descent(\n",
      "c:\\users\\kechi\\appdata\\local\\programs\\python\\python39\\lib\\site-packages\\sklearn\\linear_model\\_coordinate_descent.py:530: ConvergenceWarning: Objective did not converge. You might want to increase the number of iterations. Duality gap: 740.8909103549171, tolerance: 0.5122650793650796\n",
      "  model = cd_fast.enet_coordinate_descent(\n",
      "c:\\users\\kechi\\appdata\\local\\programs\\python\\python39\\lib\\site-packages\\sklearn\\linear_model\\_coordinate_descent.py:530: ConvergenceWarning: Objective did not converge. You might want to increase the number of iterations. Duality gap: 805.5776838131557, tolerance: 0.5290632411067191\n",
      "  model = cd_fast.enet_coordinate_descent(\n",
      "c:\\users\\kechi\\appdata\\local\\programs\\python\\python39\\lib\\site-packages\\sklearn\\linear_model\\_coordinate_descent.py:530: ConvergenceWarning: Objective did not converge. You might want to increase the number of iterations. Duality gap: 767.0879322638084, tolerance: 0.5188039525691701\n",
      "  model = cd_fast.enet_coordinate_descent(\n",
      "c:\\users\\kechi\\appdata\\local\\programs\\python\\python39\\lib\\site-packages\\sklearn\\linear_model\\_coordinate_descent.py:530: ConvergenceWarning: Objective did not converge. You might want to increase the number of iterations. Duality gap: 773.9796192228855, tolerance: 0.5432181818181822\n",
      "  model = cd_fast.enet_coordinate_descent(\n",
      "c:\\users\\kechi\\appdata\\local\\programs\\python\\python39\\lib\\site-packages\\sklearn\\linear_model\\_coordinate_descent.py:530: ConvergenceWarning: Objective did not converge. You might want to increase the number of iterations. Duality gap: 816.4841775157773, tolerance: 0.5057422924901187\n",
      "  model = cd_fast.enet_coordinate_descent(\n",
      "c:\\users\\kechi\\appdata\\local\\programs\\python\\python39\\lib\\site-packages\\sklearn\\linear_model\\_coordinate_descent.py:530: ConvergenceWarning: Objective did not converge. You might want to increase the number of iterations. Duality gap: 113.72263170687269, tolerance: 0.5122650793650796\n",
      "  model = cd_fast.enet_coordinate_descent(\n",
      "c:\\users\\kechi\\appdata\\local\\programs\\python\\python39\\lib\\site-packages\\sklearn\\linear_model\\_coordinate_descent.py:530: ConvergenceWarning: Objective did not converge. You might want to increase the number of iterations. Duality gap: 120.81207183880657, tolerance: 0.5290632411067191\n",
      "  model = cd_fast.enet_coordinate_descent(\n",
      "c:\\users\\kechi\\appdata\\local\\programs\\python\\python39\\lib\\site-packages\\sklearn\\linear_model\\_coordinate_descent.py:530: ConvergenceWarning: Objective did not converge. You might want to increase the number of iterations. Duality gap: 124.81458680122168, tolerance: 0.5188039525691701\n",
      "  model = cd_fast.enet_coordinate_descent(\n",
      "c:\\users\\kechi\\appdata\\local\\programs\\python\\python39\\lib\\site-packages\\sklearn\\linear_model\\_coordinate_descent.py:530: ConvergenceWarning: Objective did not converge. You might want to increase the number of iterations. Duality gap: 137.7751209923317, tolerance: 0.5432181818181822\n",
      "  model = cd_fast.enet_coordinate_descent(\n",
      "c:\\users\\kechi\\appdata\\local\\programs\\python\\python39\\lib\\site-packages\\sklearn\\linear_model\\_coordinate_descent.py:530: ConvergenceWarning: Objective did not converge. You might want to increase the number of iterations. Duality gap: 122.90951393755856, tolerance: 0.5057422924901187\n",
      "  model = cd_fast.enet_coordinate_descent(\n",
      "c:\\users\\kechi\\appdata\\local\\programs\\python\\python39\\lib\\site-packages\\sklearn\\linear_model\\_coordinate_descent.py:530: ConvergenceWarning: Objective did not converge. You might want to increase the number of iterations. Duality gap: 30.109065398163143, tolerance: 0.5122650793650796\n",
      "  model = cd_fast.enet_coordinate_descent(\n",
      "c:\\users\\kechi\\appdata\\local\\programs\\python\\python39\\lib\\site-packages\\sklearn\\linear_model\\_coordinate_descent.py:530: ConvergenceWarning: Objective did not converge. You might want to increase the number of iterations. Duality gap: 30.74345957295265, tolerance: 0.5290632411067191\n",
      "  model = cd_fast.enet_coordinate_descent(\n",
      "c:\\users\\kechi\\appdata\\local\\programs\\python\\python39\\lib\\site-packages\\sklearn\\linear_model\\_coordinate_descent.py:530: ConvergenceWarning: Objective did not converge. You might want to increase the number of iterations. Duality gap: 34.76968268649962, tolerance: 0.5188039525691701\n",
      "  model = cd_fast.enet_coordinate_descent(\n",
      "c:\\users\\kechi\\appdata\\local\\programs\\python\\python39\\lib\\site-packages\\sklearn\\linear_model\\_coordinate_descent.py:530: ConvergenceWarning: Objective did not converge. You might want to increase the number of iterations. Duality gap: 33.587424627296755, tolerance: 0.5432181818181822\n",
      "  model = cd_fast.enet_coordinate_descent(\n",
      "c:\\users\\kechi\\appdata\\local\\programs\\python\\python39\\lib\\site-packages\\sklearn\\linear_model\\_coordinate_descent.py:530: ConvergenceWarning: Objective did not converge. You might want to increase the number of iterations. Duality gap: 33.00609351022938, tolerance: 0.5057422924901187\n",
      "  model = cd_fast.enet_coordinate_descent(\n",
      "c:\\users\\kechi\\appdata\\local\\programs\\python\\python39\\lib\\site-packages\\sklearn\\linear_model\\_coordinate_descent.py:530: ConvergenceWarning: Objective did not converge. You might want to increase the number of iterations. Duality gap: 740.9107696120275, tolerance: 0.5122650793650796\n",
      "  model = cd_fast.enet_coordinate_descent(\n",
      "c:\\users\\kechi\\appdata\\local\\programs\\python\\python39\\lib\\site-packages\\sklearn\\linear_model\\_coordinate_descent.py:530: ConvergenceWarning: Objective did not converge. You might want to increase the number of iterations. Duality gap: 805.5932408775943, tolerance: 0.5290632411067191\n",
      "  model = cd_fast.enet_coordinate_descent(\n",
      "c:\\users\\kechi\\appdata\\local\\programs\\python\\python39\\lib\\site-packages\\sklearn\\linear_model\\_coordinate_descent.py:530: ConvergenceWarning: Objective did not converge. You might want to increase the number of iterations. Duality gap: 767.1041424861512, tolerance: 0.5188039525691701\n",
      "  model = cd_fast.enet_coordinate_descent(\n",
      "c:\\users\\kechi\\appdata\\local\\programs\\python\\python39\\lib\\site-packages\\sklearn\\linear_model\\_coordinate_descent.py:530: ConvergenceWarning: Objective did not converge. You might want to increase the number of iterations. Duality gap: 773.9983403267635, tolerance: 0.5432181818181822\n",
      "  model = cd_fast.enet_coordinate_descent(\n",
      "c:\\users\\kechi\\appdata\\local\\programs\\python\\python39\\lib\\site-packages\\sklearn\\linear_model\\_coordinate_descent.py:530: ConvergenceWarning: Objective did not converge. You might want to increase the number of iterations. Duality gap: 816.504337714358, tolerance: 0.5057422924901187\n",
      "  model = cd_fast.enet_coordinate_descent(\n",
      "c:\\users\\kechi\\appdata\\local\\programs\\python\\python39\\lib\\site-packages\\sklearn\\linear_model\\_coordinate_descent.py:530: ConvergenceWarning: Objective did not converge. You might want to increase the number of iterations. Duality gap: 113.72925640177164, tolerance: 0.5122650793650796\n",
      "  model = cd_fast.enet_coordinate_descent(\n",
      "c:\\users\\kechi\\appdata\\local\\programs\\python\\python39\\lib\\site-packages\\sklearn\\linear_model\\_coordinate_descent.py:530: ConvergenceWarning: Objective did not converge. You might want to increase the number of iterations. Duality gap: 120.8189306419531, tolerance: 0.5290632411067191\n",
      "  model = cd_fast.enet_coordinate_descent(\n",
      "c:\\users\\kechi\\appdata\\local\\programs\\python\\python39\\lib\\site-packages\\sklearn\\linear_model\\_coordinate_descent.py:530: ConvergenceWarning: Objective did not converge. You might want to increase the number of iterations. Duality gap: 124.82214320805952, tolerance: 0.5188039525691701\n",
      "  model = cd_fast.enet_coordinate_descent(\n",
      "c:\\users\\kechi\\appdata\\local\\programs\\python\\python39\\lib\\site-packages\\sklearn\\linear_model\\_coordinate_descent.py:530: ConvergenceWarning: Objective did not converge. You might want to increase the number of iterations. Duality gap: 137.78328810016984, tolerance: 0.5432181818181822\n",
      "  model = cd_fast.enet_coordinate_descent(\n",
      "c:\\users\\kechi\\appdata\\local\\programs\\python\\python39\\lib\\site-packages\\sklearn\\linear_model\\_coordinate_descent.py:530: ConvergenceWarning: Objective did not converge. You might want to increase the number of iterations. Duality gap: 122.91793436396927, tolerance: 0.5057422924901187\n",
      "  model = cd_fast.enet_coordinate_descent(\n",
      "c:\\users\\kechi\\appdata\\local\\programs\\python\\python39\\lib\\site-packages\\sklearn\\linear_model\\_coordinate_descent.py:530: ConvergenceWarning: Objective did not converge. You might want to increase the number of iterations. Duality gap: 30.10560936686435, tolerance: 0.5122650793650796\n",
      "  model = cd_fast.enet_coordinate_descent(\n"
     ]
    },
    {
     "name": "stderr",
     "output_type": "stream",
     "text": [
      "c:\\users\\kechi\\appdata\\local\\programs\\python\\python39\\lib\\site-packages\\sklearn\\linear_model\\_coordinate_descent.py:530: ConvergenceWarning: Objective did not converge. You might want to increase the number of iterations. Duality gap: 30.740104618092797, tolerance: 0.5290632411067191\n",
      "  model = cd_fast.enet_coordinate_descent(\n",
      "c:\\users\\kechi\\appdata\\local\\programs\\python\\python39\\lib\\site-packages\\sklearn\\linear_model\\_coordinate_descent.py:530: ConvergenceWarning: Objective did not converge. You might want to increase the number of iterations. Duality gap: 34.76757198930805, tolerance: 0.5188039525691701\n",
      "  model = cd_fast.enet_coordinate_descent(\n",
      "c:\\users\\kechi\\appdata\\local\\programs\\python\\python39\\lib\\site-packages\\sklearn\\linear_model\\_coordinate_descent.py:530: ConvergenceWarning: Objective did not converge. You might want to increase the number of iterations. Duality gap: 33.584541988688166, tolerance: 0.5432181818181822\n",
      "  model = cd_fast.enet_coordinate_descent(\n",
      "c:\\users\\kechi\\appdata\\local\\programs\\python\\python39\\lib\\site-packages\\sklearn\\linear_model\\_coordinate_descent.py:530: ConvergenceWarning: Objective did not converge. You might want to increase the number of iterations. Duality gap: 33.00398390307301, tolerance: 0.5057422924901187\n",
      "  model = cd_fast.enet_coordinate_descent(\n",
      "c:\\users\\kechi\\appdata\\local\\programs\\python\\python39\\lib\\site-packages\\sklearn\\linear_model\\_coordinate_descent.py:530: ConvergenceWarning: Objective did not converge. You might want to increase the number of iterations. Duality gap: 740.9306282780334, tolerance: 0.5122650793650796\n",
      "  model = cd_fast.enet_coordinate_descent(\n",
      "c:\\users\\kechi\\appdata\\local\\programs\\python\\python39\\lib\\site-packages\\sklearn\\linear_model\\_coordinate_descent.py:530: ConvergenceWarning: Objective did not converge. You might want to increase the number of iterations. Duality gap: 805.6087974367741, tolerance: 0.5290632411067191\n",
      "  model = cd_fast.enet_coordinate_descent(\n",
      "c:\\users\\kechi\\appdata\\local\\programs\\python\\python39\\lib\\site-packages\\sklearn\\linear_model\\_coordinate_descent.py:530: ConvergenceWarning: Objective did not converge. You might want to increase the number of iterations. Duality gap: 767.1203521867141, tolerance: 0.5188039525691701\n",
      "  model = cd_fast.enet_coordinate_descent(\n",
      "c:\\users\\kechi\\appdata\\local\\programs\\python\\python39\\lib\\site-packages\\sklearn\\linear_model\\_coordinate_descent.py:530: ConvergenceWarning: Objective did not converge. You might want to increase the number of iterations. Duality gap: 774.0170608146381, tolerance: 0.5432181818181822\n",
      "  model = cd_fast.enet_coordinate_descent(\n",
      "c:\\users\\kechi\\appdata\\local\\programs\\python\\python39\\lib\\site-packages\\sklearn\\linear_model\\_coordinate_descent.py:530: ConvergenceWarning: Objective did not converge. You might want to increase the number of iterations. Duality gap: 816.5244974029766, tolerance: 0.5057422924901187\n",
      "  model = cd_fast.enet_coordinate_descent(\n",
      "c:\\users\\kechi\\appdata\\local\\programs\\python\\python39\\lib\\site-packages\\sklearn\\linear_model\\_coordinate_descent.py:530: ConvergenceWarning: Objective did not converge. You might want to increase the number of iterations. Duality gap: 113.73587939533108, tolerance: 0.5122650793650796\n",
      "  model = cd_fast.enet_coordinate_descent(\n",
      "c:\\users\\kechi\\appdata\\local\\programs\\python\\python39\\lib\\site-packages\\sklearn\\linear_model\\_coordinate_descent.py:530: ConvergenceWarning: Objective did not converge. You might want to increase the number of iterations. Duality gap: 120.82578859830409, tolerance: 0.5290632411067191\n",
      "  model = cd_fast.enet_coordinate_descent(\n",
      "c:\\users\\kechi\\appdata\\local\\programs\\python\\python39\\lib\\site-packages\\sklearn\\linear_model\\_coordinate_descent.py:530: ConvergenceWarning: Objective did not converge. You might want to increase the number of iterations. Duality gap: 124.82969816748638, tolerance: 0.5188039525691701\n",
      "  model = cd_fast.enet_coordinate_descent(\n",
      "c:\\users\\kechi\\appdata\\local\\programs\\python\\python39\\lib\\site-packages\\sklearn\\linear_model\\_coordinate_descent.py:530: ConvergenceWarning: Objective did not converge. You might want to increase the number of iterations. Duality gap: 137.79145375021457, tolerance: 0.5432181818181822\n",
      "  model = cd_fast.enet_coordinate_descent(\n",
      "c:\\users\\kechi\\appdata\\local\\programs\\python\\python39\\lib\\site-packages\\sklearn\\linear_model\\_coordinate_descent.py:530: ConvergenceWarning: Objective did not converge. You might want to increase the number of iterations. Duality gap: 122.92635366594786, tolerance: 0.5057422924901187\n",
      "  model = cd_fast.enet_coordinate_descent(\n",
      "c:\\users\\kechi\\appdata\\local\\programs\\python\\python39\\lib\\site-packages\\sklearn\\linear_model\\_coordinate_descent.py:530: ConvergenceWarning: Objective did not converge. You might want to increase the number of iterations. Duality gap: 30.102184282174257, tolerance: 0.5122650793650796\n",
      "  model = cd_fast.enet_coordinate_descent(\n",
      "c:\\users\\kechi\\appdata\\local\\programs\\python\\python39\\lib\\site-packages\\sklearn\\linear_model\\_coordinate_descent.py:530: ConvergenceWarning: Objective did not converge. You might want to increase the number of iterations. Duality gap: 30.736749909105075, tolerance: 0.5290632411067191\n",
      "  model = cd_fast.enet_coordinate_descent(\n",
      "c:\\users\\kechi\\appdata\\local\\programs\\python\\python39\\lib\\site-packages\\sklearn\\linear_model\\_coordinate_descent.py:530: ConvergenceWarning: Objective did not converge. You might want to increase the number of iterations. Duality gap: 34.765462073478716, tolerance: 0.5188039525691701\n",
      "  model = cd_fast.enet_coordinate_descent(\n",
      "c:\\users\\kechi\\appdata\\local\\programs\\python\\python39\\lib\\site-packages\\sklearn\\linear_model\\_coordinate_descent.py:530: ConvergenceWarning: Objective did not converge. You might want to increase the number of iterations. Duality gap: 33.58165984640761, tolerance: 0.5432181818181822\n",
      "  model = cd_fast.enet_coordinate_descent(\n",
      "c:\\users\\kechi\\appdata\\local\\programs\\python\\python39\\lib\\site-packages\\sklearn\\linear_model\\_coordinate_descent.py:530: ConvergenceWarning: Objective did not converge. You might want to increase the number of iterations. Duality gap: 33.001874493691574, tolerance: 0.5057422924901187\n",
      "  model = cd_fast.enet_coordinate_descent(\n",
      "c:\\users\\kechi\\appdata\\local\\programs\\python\\python39\\lib\\site-packages\\sklearn\\linear_model\\_coordinate_descent.py:530: ConvergenceWarning: Objective did not converge. You might want to increase the number of iterations. Duality gap: 740.9504863528852, tolerance: 0.5122650793650796\n",
      "  model = cd_fast.enet_coordinate_descent(\n",
      "c:\\users\\kechi\\appdata\\local\\programs\\python\\python39\\lib\\site-packages\\sklearn\\linear_model\\_coordinate_descent.py:530: ConvergenceWarning: Objective did not converge. You might want to increase the number of iterations. Duality gap: 805.6243534906424, tolerance: 0.5290632411067191\n",
      "  model = cd_fast.enet_coordinate_descent(\n",
      "c:\\users\\kechi\\appdata\\local\\programs\\python\\python39\\lib\\site-packages\\sklearn\\linear_model\\_coordinate_descent.py:530: ConvergenceWarning: Objective did not converge. You might want to increase the number of iterations. Duality gap: 767.1365613654356, tolerance: 0.5188039525691701\n",
      "  model = cd_fast.enet_coordinate_descent(\n",
      "c:\\users\\kechi\\appdata\\local\\programs\\python\\python39\\lib\\site-packages\\sklearn\\linear_model\\_coordinate_descent.py:530: ConvergenceWarning: Objective did not converge. You might want to increase the number of iterations. Duality gap: 774.0357806864524, tolerance: 0.5432181818181822\n",
      "  model = cd_fast.enet_coordinate_descent(\n",
      "c:\\users\\kechi\\appdata\\local\\programs\\python\\python39\\lib\\site-packages\\sklearn\\linear_model\\_coordinate_descent.py:530: ConvergenceWarning: Objective did not converge. You might want to increase the number of iterations. Duality gap: 816.5446565815897, tolerance: 0.5057422924901187\n",
      "  model = cd_fast.enet_coordinate_descent(\n",
      "c:\\users\\kechi\\appdata\\local\\programs\\python\\python39\\lib\\site-packages\\sklearn\\linear_model\\_coordinate_descent.py:530: ConvergenceWarning: Objective did not converge. You might want to increase the number of iterations. Duality gap: 113.7425006872162, tolerance: 0.5122650793650796\n",
      "  model = cd_fast.enet_coordinate_descent(\n",
      "c:\\users\\kechi\\appdata\\local\\programs\\python\\python39\\lib\\site-packages\\sklearn\\linear_model\\_coordinate_descent.py:530: ConvergenceWarning: Objective did not converge. You might want to increase the number of iterations. Duality gap: 120.83264570756339, tolerance: 0.5290632411067191\n",
      "  model = cd_fast.enet_coordinate_descent(\n",
      "c:\\users\\kechi\\appdata\\local\\programs\\python\\python39\\lib\\site-packages\\sklearn\\linear_model\\_coordinate_descent.py:530: ConvergenceWarning: Objective did not converge. You might want to increase the number of iterations. Duality gap: 124.8372516792384, tolerance: 0.5188039525691701\n",
      "  model = cd_fast.enet_coordinate_descent(\n",
      "c:\\users\\kechi\\appdata\\local\\programs\\python\\python39\\lib\\site-packages\\sklearn\\linear_model\\_coordinate_descent.py:530: ConvergenceWarning: Objective did not converge. You might want to increase the number of iterations. Duality gap: 137.79961794210763, tolerance: 0.5432181818181822\n",
      "  model = cd_fast.enet_coordinate_descent(\n",
      "c:\\users\\kechi\\appdata\\local\\programs\\python\\python39\\lib\\site-packages\\sklearn\\linear_model\\_coordinate_descent.py:530: ConvergenceWarning: Objective did not converge. You might want to increase the number of iterations. Duality gap: 122.9347718431963, tolerance: 0.5057422924901187\n",
      "  model = cd_fast.enet_coordinate_descent(\n",
      "c:\\users\\kechi\\appdata\\local\\programs\\python\\python39\\lib\\site-packages\\sklearn\\linear_model\\_coordinate_descent.py:530: ConvergenceWarning: Objective did not converge. You might want to increase the number of iterations. Duality gap: 30.098790571260082, tolerance: 0.5122650793650796\n",
      "  model = cd_fast.enet_coordinate_descent(\n",
      "c:\\users\\kechi\\appdata\\local\\programs\\python\\python39\\lib\\site-packages\\sklearn\\linear_model\\_coordinate_descent.py:530: ConvergenceWarning: Objective did not converge. You might want to increase the number of iterations. Duality gap: 30.733395444897976, tolerance: 0.5290632411067191\n",
      "  model = cd_fast.enet_coordinate_descent(\n"
     ]
    },
    {
     "name": "stderr",
     "output_type": "stream",
     "text": [
      "c:\\users\\kechi\\appdata\\local\\programs\\python\\python39\\lib\\site-packages\\sklearn\\linear_model\\_coordinate_descent.py:530: ConvergenceWarning: Objective did not converge. You might want to increase the number of iterations. Duality gap: 34.76334570592031, tolerance: 0.5188039525691701\n",
      "  model = cd_fast.enet_coordinate_descent(\n",
      "c:\\users\\kechi\\appdata\\local\\programs\\python\\python39\\lib\\site-packages\\sklearn\\linear_model\\_coordinate_descent.py:530: ConvergenceWarning: Objective did not converge. You might want to increase the number of iterations. Duality gap: 33.57877819965975, tolerance: 0.5432181818181822\n",
      "  model = cd_fast.enet_coordinate_descent(\n",
      "c:\\users\\kechi\\appdata\\local\\programs\\python\\python39\\lib\\site-packages\\sklearn\\linear_model\\_coordinate_descent.py:530: ConvergenceWarning: Objective did not converge. You might want to increase the number of iterations. Duality gap: 32.999765280622746, tolerance: 0.5057422924901187\n",
      "  model = cd_fast.enet_coordinate_descent(\n",
      "c:\\users\\kechi\\appdata\\local\\programs\\python\\python39\\lib\\site-packages\\sklearn\\linear_model\\_coordinate_descent.py:530: ConvergenceWarning: Objective did not converge. You might want to increase the number of iterations. Duality gap: 749.7257151158647, tolerance: 0.5122650793650796\n",
      "  model = cd_fast.enet_coordinate_descent(\n",
      "c:\\users\\kechi\\appdata\\local\\programs\\python\\python39\\lib\\site-packages\\sklearn\\linear_model\\_coordinate_descent.py:530: ConvergenceWarning: Objective did not converge. You might want to increase the number of iterations. Duality gap: 814.0277137120934, tolerance: 0.5290632411067191\n",
      "  model = cd_fast.enet_coordinate_descent(\n",
      "c:\\users\\kechi\\appdata\\local\\programs\\python\\python39\\lib\\site-packages\\sklearn\\linear_model\\_coordinate_descent.py:530: ConvergenceWarning: Objective did not converge. You might want to increase the number of iterations. Duality gap: 775.8428197049232, tolerance: 0.5188039525691701\n",
      "  model = cd_fast.enet_coordinate_descent(\n",
      "c:\\users\\kechi\\appdata\\local\\programs\\python\\python39\\lib\\site-packages\\sklearn\\linear_model\\_coordinate_descent.py:530: ConvergenceWarning: Objective did not converge. You might want to increase the number of iterations. Duality gap: 784.058387456472, tolerance: 0.5432181818181822\n",
      "  model = cd_fast.enet_coordinate_descent(\n",
      "c:\\users\\kechi\\appdata\\local\\programs\\python\\python39\\lib\\site-packages\\sklearn\\linear_model\\_coordinate_descent.py:530: ConvergenceWarning: Objective did not converge. You might want to increase the number of iterations. Duality gap: 823.7705962589323, tolerance: 0.5057422924901187\n",
      "  model = cd_fast.enet_coordinate_descent(\n",
      "c:\\users\\kechi\\appdata\\local\\programs\\python\\python39\\lib\\site-packages\\sklearn\\linear_model\\_coordinate_descent.py:530: ConvergenceWarning: Objective did not converge. You might want to increase the number of iterations. Duality gap: 122.12353764509585, tolerance: 0.5122650793650796\n",
      "  model = cd_fast.enet_coordinate_descent(\n",
      "c:\\users\\kechi\\appdata\\local\\programs\\python\\python39\\lib\\site-packages\\sklearn\\linear_model\\_coordinate_descent.py:530: ConvergenceWarning: Objective did not converge. You might want to increase the number of iterations. Duality gap: 129.3971909843482, tolerance: 0.5290632411067191\n",
      "  model = cd_fast.enet_coordinate_descent(\n",
      "c:\\users\\kechi\\appdata\\local\\programs\\python\\python39\\lib\\site-packages\\sklearn\\linear_model\\_coordinate_descent.py:530: ConvergenceWarning: Objective did not converge. You might want to increase the number of iterations. Duality gap: 132.15140812276, tolerance: 0.5188039525691701\n",
      "  model = cd_fast.enet_coordinate_descent(\n",
      "c:\\users\\kechi\\appdata\\local\\programs\\python\\python39\\lib\\site-packages\\sklearn\\linear_model\\_coordinate_descent.py:530: ConvergenceWarning: Objective did not converge. You might want to increase the number of iterations. Duality gap: 145.11879472897584, tolerance: 0.5432181818181822\n",
      "  model = cd_fast.enet_coordinate_descent(\n",
      "c:\\users\\kechi\\appdata\\local\\programs\\python\\python39\\lib\\site-packages\\sklearn\\linear_model\\_coordinate_descent.py:530: ConvergenceWarning: Objective did not converge. You might want to increase the number of iterations. Duality gap: 130.63982237385966, tolerance: 0.5057422924901187\n",
      "  model = cd_fast.enet_coordinate_descent(\n",
      "c:\\users\\kechi\\appdata\\local\\programs\\python\\python39\\lib\\site-packages\\sklearn\\linear_model\\_coordinate_descent.py:530: ConvergenceWarning: Objective did not converge. You might want to increase the number of iterations. Duality gap: 46.320974275537154, tolerance: 0.5122650793650796\n",
      "  model = cd_fast.enet_coordinate_descent(\n",
      "c:\\users\\kechi\\appdata\\local\\programs\\python\\python39\\lib\\site-packages\\sklearn\\linear_model\\_coordinate_descent.py:530: ConvergenceWarning: Objective did not converge. You might want to increase the number of iterations. Duality gap: 47.417227741301716, tolerance: 0.5290632411067191\n",
      "  model = cd_fast.enet_coordinate_descent(\n",
      "c:\\users\\kechi\\appdata\\local\\programs\\python\\python39\\lib\\site-packages\\sklearn\\linear_model\\_coordinate_descent.py:530: ConvergenceWarning: Objective did not converge. You might want to increase the number of iterations. Duality gap: 49.99384612579676, tolerance: 0.5188039525691701\n",
      "  model = cd_fast.enet_coordinate_descent(\n",
      "c:\\users\\kechi\\appdata\\local\\programs\\python\\python39\\lib\\site-packages\\sklearn\\linear_model\\_coordinate_descent.py:530: ConvergenceWarning: Objective did not converge. You might want to increase the number of iterations. Duality gap: 49.796532037342686, tolerance: 0.5432181818181822\n",
      "  model = cd_fast.enet_coordinate_descent(\n",
      "c:\\users\\kechi\\appdata\\local\\programs\\python\\python39\\lib\\site-packages\\sklearn\\linear_model\\_coordinate_descent.py:530: ConvergenceWarning: Objective did not converge. You might want to increase the number of iterations. Duality gap: 48.5241832838796, tolerance: 0.5057422924901187\n",
      "  model = cd_fast.enet_coordinate_descent(\n",
      "c:\\users\\kechi\\appdata\\local\\programs\\python\\python39\\lib\\site-packages\\sklearn\\linear_model\\_coordinate_descent.py:530: ConvergenceWarning: Objective did not converge. You might want to increase the number of iterations. Duality gap: 751.6975679074419, tolerance: 0.5122650793650796\n",
      "  model = cd_fast.enet_coordinate_descent(\n",
      "c:\\users\\kechi\\appdata\\local\\programs\\python\\python39\\lib\\site-packages\\sklearn\\linear_model\\_coordinate_descent.py:530: ConvergenceWarning: Objective did not converge. You might want to increase the number of iterations. Duality gap: 815.5588832869457, tolerance: 0.5290632411067191\n",
      "  model = cd_fast.enet_coordinate_descent(\n",
      "c:\\users\\kechi\\appdata\\local\\programs\\python\\python39\\lib\\site-packages\\sklearn\\linear_model\\_coordinate_descent.py:530: ConvergenceWarning: Objective did not converge. You might want to increase the number of iterations. Duality gap: 777.4583818905913, tolerance: 0.5188039525691701\n",
      "  model = cd_fast.enet_coordinate_descent(\n",
      "c:\\users\\kechi\\appdata\\local\\programs\\python\\python39\\lib\\site-packages\\sklearn\\linear_model\\_coordinate_descent.py:530: ConvergenceWarning: Objective did not converge. You might want to increase the number of iterations. Duality gap: 785.9196083509578, tolerance: 0.5432181818181822\n",
      "  model = cd_fast.enet_coordinate_descent(\n",
      "c:\\users\\kechi\\appdata\\local\\programs\\python\\python39\\lib\\site-packages\\sklearn\\linear_model\\_coordinate_descent.py:530: ConvergenceWarning: Objective did not converge. You might want to increase the number of iterations. Duality gap: 825.7705609821123, tolerance: 0.5057422924901187\n",
      "  model = cd_fast.enet_coordinate_descent(\n",
      "c:\\users\\kechi\\appdata\\local\\programs\\python\\python39\\lib\\site-packages\\sklearn\\linear_model\\_coordinate_descent.py:530: ConvergenceWarning: Objective did not converge. You might want to increase the number of iterations. Duality gap: 122.69490883373517, tolerance: 0.5122650793650796\n",
      "  model = cd_fast.enet_coordinate_descent(\n",
      "c:\\users\\kechi\\appdata\\local\\programs\\python\\python39\\lib\\site-packages\\sklearn\\linear_model\\_coordinate_descent.py:530: ConvergenceWarning: Objective did not converge. You might want to increase the number of iterations. Duality gap: 129.9812641201483, tolerance: 0.5290632411067191\n",
      "  model = cd_fast.enet_coordinate_descent(\n",
      "c:\\users\\kechi\\appdata\\local\\programs\\python\\python39\\lib\\site-packages\\sklearn\\linear_model\\_coordinate_descent.py:530: ConvergenceWarning: Objective did not converge. You might want to increase the number of iterations. Duality gap: 132.83413696324834, tolerance: 0.5188039525691701\n",
      "  model = cd_fast.enet_coordinate_descent(\n",
      "c:\\users\\kechi\\appdata\\local\\programs\\python\\python39\\lib\\site-packages\\sklearn\\linear_model\\_coordinate_descent.py:530: ConvergenceWarning: Objective did not converge. You might want to increase the number of iterations. Duality gap: 145.84263739449892, tolerance: 0.5432181818181822\n",
      "  model = cd_fast.enet_coordinate_descent(\n",
      "c:\\users\\kechi\\appdata\\local\\programs\\python\\python39\\lib\\site-packages\\sklearn\\linear_model\\_coordinate_descent.py:530: ConvergenceWarning: Objective did not converge. You might want to increase the number of iterations. Duality gap: 131.3821324162894, tolerance: 0.5057422924901187\n",
      "  model = cd_fast.enet_coordinate_descent(\n",
      "c:\\users\\kechi\\appdata\\local\\programs\\python\\python39\\lib\\site-packages\\sklearn\\linear_model\\_coordinate_descent.py:530: ConvergenceWarning: Objective did not converge. You might want to increase the number of iterations. Duality gap: 45.79358928492892, tolerance: 0.5122650793650796\n",
      "  model = cd_fast.enet_coordinate_descent(\n",
      "c:\\users\\kechi\\appdata\\local\\programs\\python\\python39\\lib\\site-packages\\sklearn\\linear_model\\_coordinate_descent.py:530: ConvergenceWarning: Objective did not converge. You might want to increase the number of iterations. Duality gap: 46.87696347504627, tolerance: 0.5290632411067191\n",
      "  model = cd_fast.enet_coordinate_descent(\n",
      "c:\\users\\kechi\\appdata\\local\\programs\\python\\python39\\lib\\site-packages\\sklearn\\linear_model\\_coordinate_descent.py:530: ConvergenceWarning: Objective did not converge. You might want to increase the number of iterations. Duality gap: 49.588707864858094, tolerance: 0.5188039525691701\n",
      "  model = cd_fast.enet_coordinate_descent(\n",
      "c:\\users\\kechi\\appdata\\local\\programs\\python\\python39\\lib\\site-packages\\sklearn\\linear_model\\_coordinate_descent.py:530: ConvergenceWarning: Objective did not converge. You might want to increase the number of iterations. Duality gap: 49.31956743487768, tolerance: 0.5432181818181822\n",
      "  model = cd_fast.enet_coordinate_descent(\n",
      "c:\\users\\kechi\\appdata\\local\\programs\\python\\python39\\lib\\site-packages\\sklearn\\linear_model\\_coordinate_descent.py:530: ConvergenceWarning: Objective did not converge. You might want to increase the number of iterations. Duality gap: 48.10583697564025, tolerance: 0.5057422924901187\n",
      "  model = cd_fast.enet_coordinate_descent(\n",
      "c:\\users\\kechi\\appdata\\local\\programs\\python\\python39\\lib\\site-packages\\sklearn\\linear_model\\_coordinate_descent.py:530: ConvergenceWarning: Objective did not converge. You might want to increase the number of iterations. Duality gap: 753.6636010444931, tolerance: 0.5122650793650796\n",
      "  model = cd_fast.enet_coordinate_descent(\n",
      "c:\\users\\kechi\\appdata\\local\\programs\\python\\python39\\lib\\site-packages\\sklearn\\linear_model\\_coordinate_descent.py:530: ConvergenceWarning: Objective did not converge. You might want to increase the number of iterations. Duality gap: 817.0864265969914, tolerance: 0.5290632411067191\n",
      "  model = cd_fast.enet_coordinate_descent(\n",
      "c:\\users\\kechi\\appdata\\local\\programs\\python\\python39\\lib\\site-packages\\sklearn\\linear_model\\_coordinate_descent.py:530: ConvergenceWarning: Objective did not converge. You might want to increase the number of iterations. Duality gap: 779.0688197861433, tolerance: 0.5188039525691701\n",
      "  model = cd_fast.enet_coordinate_descent(\n",
      "c:\\users\\kechi\\appdata\\local\\programs\\python\\python39\\lib\\site-packages\\sklearn\\linear_model\\_coordinate_descent.py:530: ConvergenceWarning: Objective did not converge. You might want to increase the number of iterations. Duality gap: 787.7747246211012, tolerance: 0.5432181818181822\n",
      "  model = cd_fast.enet_coordinate_descent(\n",
      "c:\\users\\kechi\\appdata\\local\\programs\\python\\python39\\lib\\site-packages\\sklearn\\linear_model\\_coordinate_descent.py:530: ConvergenceWarning: Objective did not converge. You might want to increase the number of iterations. Duality gap: 827.765475232441, tolerance: 0.5057422924901187\n",
      "  model = cd_fast.enet_coordinate_descent(\n",
      "c:\\users\\kechi\\appdata\\local\\programs\\python\\python39\\lib\\site-packages\\sklearn\\linear_model\\_coordinate_descent.py:530: ConvergenceWarning: Objective did not converge. You might want to increase the number of iterations. Duality gap: 123.23279090078701, tolerance: 0.5122650793650796\n",
      "  model = cd_fast.enet_coordinate_descent(\n"
     ]
    },
    {
     "name": "stderr",
     "output_type": "stream",
     "text": [
      "c:\\users\\kechi\\appdata\\local\\programs\\python\\python39\\lib\\site-packages\\sklearn\\linear_model\\_coordinate_descent.py:530: ConvergenceWarning: Objective did not converge. You might want to increase the number of iterations. Duality gap: 130.55786962192963, tolerance: 0.5290632411067191\n",
      "  model = cd_fast.enet_coordinate_descent(\n",
      "c:\\users\\kechi\\appdata\\local\\programs\\python\\python39\\lib\\site-packages\\sklearn\\linear_model\\_coordinate_descent.py:530: ConvergenceWarning: Objective did not converge. You might want to increase the number of iterations. Duality gap: 133.4849196001342, tolerance: 0.5188039525691701\n",
      "  model = cd_fast.enet_coordinate_descent(\n",
      "c:\\users\\kechi\\appdata\\local\\programs\\python\\python39\\lib\\site-packages\\sklearn\\linear_model\\_coordinate_descent.py:530: ConvergenceWarning: Objective did not converge. You might want to increase the number of iterations. Duality gap: 146.55827709447772, tolerance: 0.5432181818181822\n",
      "  model = cd_fast.enet_coordinate_descent(\n",
      "c:\\users\\kechi\\appdata\\local\\programs\\python\\python39\\lib\\site-packages\\sklearn\\linear_model\\_coordinate_descent.py:530: ConvergenceWarning: Objective did not converge. You might want to increase the number of iterations. Duality gap: 132.10307085156217, tolerance: 0.5057422924901187\n",
      "  model = cd_fast.enet_coordinate_descent(\n",
      "c:\\users\\kechi\\appdata\\local\\programs\\python\\python39\\lib\\site-packages\\sklearn\\linear_model\\_coordinate_descent.py:530: ConvergenceWarning: Objective did not converge. You might want to increase the number of iterations. Duality gap: 45.2672082710089, tolerance: 0.5122650793650796\n",
      "  model = cd_fast.enet_coordinate_descent(\n",
      "c:\\users\\kechi\\appdata\\local\\programs\\python\\python39\\lib\\site-packages\\sklearn\\linear_model\\_coordinate_descent.py:530: ConvergenceWarning: Objective did not converge. You might want to increase the number of iterations. Duality gap: 46.336587164228305, tolerance: 0.5290632411067191\n",
      "  model = cd_fast.enet_coordinate_descent(\n",
      "c:\\users\\kechi\\appdata\\local\\programs\\python\\python39\\lib\\site-packages\\sklearn\\linear_model\\_coordinate_descent.py:530: ConvergenceWarning: Objective did not converge. You might want to increase the number of iterations. Duality gap: 49.172492618019845, tolerance: 0.5188039525691701\n",
      "  model = cd_fast.enet_coordinate_descent(\n",
      "c:\\users\\kechi\\appdata\\local\\programs\\python\\python39\\lib\\site-packages\\sklearn\\linear_model\\_coordinate_descent.py:530: ConvergenceWarning: Objective did not converge. You might want to increase the number of iterations. Duality gap: 48.84696459018069, tolerance: 0.5432181818181822\n",
      "  model = cd_fast.enet_coordinate_descent(\n",
      "c:\\users\\kechi\\appdata\\local\\programs\\python\\python39\\lib\\site-packages\\sklearn\\linear_model\\_coordinate_descent.py:530: ConvergenceWarning: Objective did not converge. You might want to increase the number of iterations. Duality gap: 47.686202907189426, tolerance: 0.5057422924901187\n",
      "  model = cd_fast.enet_coordinate_descent(\n",
      "c:\\users\\kechi\\appdata\\local\\programs\\python\\python39\\lib\\site-packages\\sklearn\\linear_model\\_coordinate_descent.py:530: ConvergenceWarning: Objective did not converge. You might want to increase the number of iterations. Duality gap: 755.6237653261403, tolerance: 0.5122650793650796\n",
      "  model = cd_fast.enet_coordinate_descent(\n",
      "c:\\users\\kechi\\appdata\\local\\programs\\python\\python39\\lib\\site-packages\\sklearn\\linear_model\\_coordinate_descent.py:530: ConvergenceWarning: Objective did not converge. You might want to increase the number of iterations. Duality gap: 818.6092138064198, tolerance: 0.5290632411067191\n",
      "  model = cd_fast.enet_coordinate_descent(\n",
      "c:\\users\\kechi\\appdata\\local\\programs\\python\\python39\\lib\\site-packages\\sklearn\\linear_model\\_coordinate_descent.py:530: ConvergenceWarning: Objective did not converge. You might want to increase the number of iterations. Duality gap: 780.674074093489, tolerance: 0.5188039525691701\n",
      "  model = cd_fast.enet_coordinate_descent(\n",
      "c:\\users\\kechi\\appdata\\local\\programs\\python\\python39\\lib\\site-packages\\sklearn\\linear_model\\_coordinate_descent.py:530: ConvergenceWarning: Objective did not converge. You might want to increase the number of iterations. Duality gap: 789.6236786913407, tolerance: 0.5432181818181822\n",
      "  model = cd_fast.enet_coordinate_descent(\n",
      "c:\\users\\kechi\\appdata\\local\\programs\\python\\python39\\lib\\site-packages\\sklearn\\linear_model\\_coordinate_descent.py:530: ConvergenceWarning: Objective did not converge. You might want to increase the number of iterations. Duality gap: 829.7552959691399, tolerance: 0.5057422924901187\n",
      "  model = cd_fast.enet_coordinate_descent(\n",
      "c:\\users\\kechi\\appdata\\local\\programs\\python\\python39\\lib\\site-packages\\sklearn\\linear_model\\_coordinate_descent.py:530: ConvergenceWarning: Objective did not converge. You might want to increase the number of iterations. Duality gap: 123.76278441850482, tolerance: 0.5122650793650796\n",
      "  model = cd_fast.enet_coordinate_descent(\n",
      "c:\\users\\kechi\\appdata\\local\\programs\\python\\python39\\lib\\site-packages\\sklearn\\linear_model\\_coordinate_descent.py:530: ConvergenceWarning: Objective did not converge. You might want to increase the number of iterations. Duality gap: 131.12078414408583, tolerance: 0.5290632411067191\n",
      "  model = cd_fast.enet_coordinate_descent(\n",
      "c:\\users\\kechi\\appdata\\local\\programs\\python\\python39\\lib\\site-packages\\sklearn\\linear_model\\_coordinate_descent.py:530: ConvergenceWarning: Objective did not converge. You might want to increase the number of iterations. Duality gap: 134.1111625171751, tolerance: 0.5188039525691701\n",
      "  model = cd_fast.enet_coordinate_descent(\n",
      "c:\\users\\kechi\\appdata\\local\\programs\\python\\python39\\lib\\site-packages\\sklearn\\linear_model\\_coordinate_descent.py:530: ConvergenceWarning: Objective did not converge. You might want to increase the number of iterations. Duality gap: 147.2687394117284, tolerance: 0.5432181818181822\n",
      "  model = cd_fast.enet_coordinate_descent(\n",
      "c:\\users\\kechi\\appdata\\local\\programs\\python\\python39\\lib\\site-packages\\sklearn\\linear_model\\_coordinate_descent.py:530: ConvergenceWarning: Objective did not converge. You might want to increase the number of iterations. Duality gap: 132.80813762437634, tolerance: 0.5057422924901187\n",
      "  model = cd_fast.enet_coordinate_descent(\n",
      "c:\\users\\kechi\\appdata\\local\\programs\\python\\python39\\lib\\site-packages\\sklearn\\linear_model\\_coordinate_descent.py:530: ConvergenceWarning: Objective did not converge. You might want to increase the number of iterations. Duality gap: 44.73503718225536, tolerance: 0.5122650793650796\n",
      "  model = cd_fast.enet_coordinate_descent(\n",
      "c:\\users\\kechi\\appdata\\local\\programs\\python\\python39\\lib\\site-packages\\sklearn\\linear_model\\_coordinate_descent.py:530: ConvergenceWarning: Objective did not converge. You might want to increase the number of iterations. Duality gap: 45.80016292120986, tolerance: 0.5290632411067191\n",
      "  model = cd_fast.enet_coordinate_descent(\n",
      "c:\\users\\kechi\\appdata\\local\\programs\\python\\python39\\lib\\site-packages\\sklearn\\linear_model\\_coordinate_descent.py:530: ConvergenceWarning: Objective did not converge. You might want to increase the number of iterations. Duality gap: 48.7694621514718, tolerance: 0.5188039525691701\n",
      "  model = cd_fast.enet_coordinate_descent(\n",
      "c:\\users\\kechi\\appdata\\local\\programs\\python\\python39\\lib\\site-packages\\sklearn\\linear_model\\_coordinate_descent.py:530: ConvergenceWarning: Objective did not converge. You might want to increase the number of iterations. Duality gap: 48.40812276183735, tolerance: 0.5432181818181822\n",
      "  model = cd_fast.enet_coordinate_descent(\n",
      "c:\\users\\kechi\\appdata\\local\\programs\\python\\python39\\lib\\site-packages\\sklearn\\linear_model\\_coordinate_descent.py:530: ConvergenceWarning: Objective did not converge. You might want to increase the number of iterations. Duality gap: 47.29446510367707, tolerance: 0.5057422924901187\n",
      "  model = cd_fast.enet_coordinate_descent(\n",
      "c:\\users\\kechi\\appdata\\local\\programs\\python\\python39\\lib\\site-packages\\sklearn\\linear_model\\_coordinate_descent.py:530: ConvergenceWarning: Objective did not converge. You might want to increase the number of iterations. Duality gap: 757.5780115331482, tolerance: 0.5122650793650796\n",
      "  model = cd_fast.enet_coordinate_descent(\n",
      "c:\\users\\kechi\\appdata\\local\\programs\\python\\python39\\lib\\site-packages\\sklearn\\linear_model\\_coordinate_descent.py:530: ConvergenceWarning: Objective did not converge. You might want to increase the number of iterations. Duality gap: 820.127194973637, tolerance: 0.5290632411067191\n",
      "  model = cd_fast.enet_coordinate_descent(\n",
      "c:\\users\\kechi\\appdata\\local\\programs\\python\\python39\\lib\\site-packages\\sklearn\\linear_model\\_coordinate_descent.py:530: ConvergenceWarning: Objective did not converge. You might want to increase the number of iterations. Duality gap: 782.2740854463484, tolerance: 0.5188039525691701\n",
      "  model = cd_fast.enet_coordinate_descent(\n",
      "c:\\users\\kechi\\appdata\\local\\programs\\python\\python39\\lib\\site-packages\\sklearn\\linear_model\\_coordinate_descent.py:530: ConvergenceWarning: Objective did not converge. You might want to increase the number of iterations. Duality gap: 791.4664128624927, tolerance: 0.5432181818181822\n",
      "  model = cd_fast.enet_coordinate_descent(\n",
      "c:\\users\\kechi\\appdata\\local\\programs\\python\\python39\\lib\\site-packages\\sklearn\\linear_model\\_coordinate_descent.py:530: ConvergenceWarning: Objective did not converge. You might want to increase the number of iterations. Duality gap: 831.7399800514745, tolerance: 0.5057422924901187\n",
      "  model = cd_fast.enet_coordinate_descent(\n",
      "c:\\users\\kechi\\appdata\\local\\programs\\python\\python39\\lib\\site-packages\\sklearn\\linear_model\\_coordinate_descent.py:530: ConvergenceWarning: Objective did not converge. You might want to increase the number of iterations. Duality gap: 124.28454442919075, tolerance: 0.5122650793650796\n",
      "  model = cd_fast.enet_coordinate_descent(\n",
      "c:\\users\\kechi\\appdata\\local\\programs\\python\\python39\\lib\\site-packages\\sklearn\\linear_model\\_coordinate_descent.py:530: ConvergenceWarning: Objective did not converge. You might want to increase the number of iterations. Duality gap: 131.67332850492323, tolerance: 0.5290632411067191\n",
      "  model = cd_fast.enet_coordinate_descent(\n",
      "c:\\users\\kechi\\appdata\\local\\programs\\python\\python39\\lib\\site-packages\\sklearn\\linear_model\\_coordinate_descent.py:530: ConvergenceWarning: Objective did not converge. You might want to increase the number of iterations. Duality gap: 134.72025573592782, tolerance: 0.5188039525691701\n",
      "  model = cd_fast.enet_coordinate_descent(\n",
      "c:\\users\\kechi\\appdata\\local\\programs\\python\\python39\\lib\\site-packages\\sklearn\\linear_model\\_coordinate_descent.py:530: ConvergenceWarning: Objective did not converge. You might want to increase the number of iterations. Duality gap: 147.972137776076, tolerance: 0.5432181818181822\n",
      "  model = cd_fast.enet_coordinate_descent(\n",
      "c:\\users\\kechi\\appdata\\local\\programs\\python\\python39\\lib\\site-packages\\sklearn\\linear_model\\_coordinate_descent.py:530: ConvergenceWarning: Objective did not converge. You might want to increase the number of iterations. Duality gap: 133.5116131729985, tolerance: 0.5057422924901187\n",
      "  model = cd_fast.enet_coordinate_descent(\n",
      "c:\\users\\kechi\\appdata\\local\\programs\\python\\python39\\lib\\site-packages\\sklearn\\linear_model\\_coordinate_descent.py:530: ConvergenceWarning: Objective did not converge. You might want to increase the number of iterations. Duality gap: 44.2147706526075, tolerance: 0.5122650793650796\n",
      "  model = cd_fast.enet_coordinate_descent(\n",
      "c:\\users\\kechi\\appdata\\local\\programs\\python\\python39\\lib\\site-packages\\sklearn\\linear_model\\_coordinate_descent.py:530: ConvergenceWarning: Objective did not converge. You might want to increase the number of iterations. Duality gap: 45.272284824441385, tolerance: 0.5290632411067191\n",
      "  model = cd_fast.enet_coordinate_descent(\n",
      "c:\\users\\kechi\\appdata\\local\\programs\\python\\python39\\lib\\site-packages\\sklearn\\linear_model\\_coordinate_descent.py:530: ConvergenceWarning: Objective did not converge. You might want to increase the number of iterations. Duality gap: 48.40284391245317, tolerance: 0.5188039525691701\n",
      "  model = cd_fast.enet_coordinate_descent(\n",
      "c:\\users\\kechi\\appdata\\local\\programs\\python\\python39\\lib\\site-packages\\sklearn\\linear_model\\_coordinate_descent.py:530: ConvergenceWarning: Objective did not converge. You might want to increase the number of iterations. Duality gap: 47.98793352560427, tolerance: 0.5432181818181822\n",
      "  model = cd_fast.enet_coordinate_descent(\n",
      "c:\\users\\kechi\\appdata\\local\\programs\\python\\python39\\lib\\site-packages\\sklearn\\linear_model\\_coordinate_descent.py:530: ConvergenceWarning: Objective did not converge. You might want to increase the number of iterations. Duality gap: 46.904578866512466, tolerance: 0.5057422924901187\n",
      "  model = cd_fast.enet_coordinate_descent(\n"
     ]
    },
    {
     "name": "stderr",
     "output_type": "stream",
     "text": [
      "c:\\users\\kechi\\appdata\\local\\programs\\python\\python39\\lib\\site-packages\\sklearn\\linear_model\\_coordinate_descent.py:530: ConvergenceWarning: Objective did not converge. You might want to increase the number of iterations. Duality gap: 759.5262904263535, tolerance: 0.5122650793650796\n",
      "  model = cd_fast.enet_coordinate_descent(\n",
      "c:\\users\\kechi\\appdata\\local\\programs\\python\\python39\\lib\\site-packages\\sklearn\\linear_model\\_coordinate_descent.py:530: ConvergenceWarning: Objective did not converge. You might want to increase the number of iterations. Duality gap: 821.6431796897165, tolerance: 0.5290632411067191\n",
      "  model = cd_fast.enet_coordinate_descent(\n",
      "c:\\users\\kechi\\appdata\\local\\programs\\python\\python39\\lib\\site-packages\\sklearn\\linear_model\\_coordinate_descent.py:530: ConvergenceWarning: Objective did not converge. You might want to increase the number of iterations. Duality gap: 783.8687944081902, tolerance: 0.5188039525691701\n",
      "  model = cd_fast.enet_coordinate_descent(\n",
      "c:\\users\\kechi\\appdata\\local\\programs\\python\\python39\\lib\\site-packages\\sklearn\\linear_model\\_coordinate_descent.py:530: ConvergenceWarning: Objective did not converge. You might want to increase the number of iterations. Duality gap: 793.3028693097182, tolerance: 0.5432181818181822\n",
      "  model = cd_fast.enet_coordinate_descent(\n",
      "c:\\users\\kechi\\appdata\\local\\programs\\python\\python39\\lib\\site-packages\\sklearn\\linear_model\\_coordinate_descent.py:530: ConvergenceWarning: Objective did not converge. You might want to increase the number of iterations. Duality gap: 833.7143903196716, tolerance: 0.5057422924901187\n",
      "  model = cd_fast.enet_coordinate_descent(\n",
      "c:\\users\\kechi\\appdata\\local\\programs\\python\\python39\\lib\\site-packages\\sklearn\\linear_model\\_coordinate_descent.py:530: ConvergenceWarning: Objective did not converge. You might want to increase the number of iterations. Duality gap: 124.8037499213105, tolerance: 0.5122650793650796\n",
      "  model = cd_fast.enet_coordinate_descent(\n",
      "c:\\users\\kechi\\appdata\\local\\programs\\python\\python39\\lib\\site-packages\\sklearn\\linear_model\\_coordinate_descent.py:530: ConvergenceWarning: Objective did not converge. You might want to increase the number of iterations. Duality gap: 132.21102568721125, tolerance: 0.5290632411067191\n",
      "  model = cd_fast.enet_coordinate_descent(\n",
      "c:\\users\\kechi\\appdata\\local\\programs\\python\\python39\\lib\\site-packages\\sklearn\\linear_model\\_coordinate_descent.py:530: ConvergenceWarning: Objective did not converge. You might want to increase the number of iterations. Duality gap: 135.3279140046713, tolerance: 0.5188039525691701\n",
      "  model = cd_fast.enet_coordinate_descent(\n",
      "c:\\users\\kechi\\appdata\\local\\programs\\python\\python39\\lib\\site-packages\\sklearn\\linear_model\\_coordinate_descent.py:530: ConvergenceWarning: Objective did not converge. You might want to increase the number of iterations. Duality gap: 148.67659938106638, tolerance: 0.5432181818181822\n",
      "  model = cd_fast.enet_coordinate_descent(\n",
      "c:\\users\\kechi\\appdata\\local\\programs\\python\\python39\\lib\\site-packages\\sklearn\\linear_model\\_coordinate_descent.py:530: ConvergenceWarning: Objective did not converge. You might want to increase the number of iterations. Duality gap: 134.22035307049663, tolerance: 0.5057422924901187\n",
      "  model = cd_fast.enet_coordinate_descent(\n",
      "c:\\users\\kechi\\appdata\\local\\programs\\python\\python39\\lib\\site-packages\\sklearn\\linear_model\\_coordinate_descent.py:530: ConvergenceWarning: Objective did not converge. You might want to increase the number of iterations. Duality gap: 43.73098185833903, tolerance: 0.5122650793650796\n",
      "  model = cd_fast.enet_coordinate_descent(\n",
      "c:\\users\\kechi\\appdata\\local\\programs\\python\\python39\\lib\\site-packages\\sklearn\\linear_model\\_coordinate_descent.py:530: ConvergenceWarning: Objective did not converge. You might want to increase the number of iterations. Duality gap: 44.742477735521, tolerance: 0.5290632411067191\n",
      "  model = cd_fast.enet_coordinate_descent(\n",
      "c:\\users\\kechi\\appdata\\local\\programs\\python\\python39\\lib\\site-packages\\sklearn\\linear_model\\_coordinate_descent.py:530: ConvergenceWarning: Objective did not converge. You might want to increase the number of iterations. Duality gap: 48.04889946386497, tolerance: 0.5188039525691701\n",
      "  model = cd_fast.enet_coordinate_descent(\n",
      "c:\\users\\kechi\\appdata\\local\\programs\\python\\python39\\lib\\site-packages\\sklearn\\linear_model\\_coordinate_descent.py:530: ConvergenceWarning: Objective did not converge. You might want to increase the number of iterations. Duality gap: 47.58661566537688, tolerance: 0.5432181818181822\n",
      "  model = cd_fast.enet_coordinate_descent(\n",
      "c:\\users\\kechi\\appdata\\local\\programs\\python\\python39\\lib\\site-packages\\sklearn\\linear_model\\_coordinate_descent.py:530: ConvergenceWarning: Objective did not converge. You might want to increase the number of iterations. Duality gap: 46.54952031142457, tolerance: 0.5057422924901187\n",
      "  model = cd_fast.enet_coordinate_descent(\n",
      "c:\\users\\kechi\\appdata\\local\\programs\\python\\python39\\lib\\site-packages\\sklearn\\linear_model\\_coordinate_descent.py:530: ConvergenceWarning: Objective did not converge. You might want to increase the number of iterations. Duality gap: 761.4721163383593, tolerance: 0.5122650793650796\n",
      "  model = cd_fast.enet_coordinate_descent(\n",
      "c:\\users\\kechi\\appdata\\local\\programs\\python\\python39\\lib\\site-packages\\sklearn\\linear_model\\_coordinate_descent.py:530: ConvergenceWarning: Objective did not converge. You might want to increase the number of iterations. Duality gap: 823.1570429437834, tolerance: 0.5290632411067191\n",
      "  model = cd_fast.enet_coordinate_descent(\n",
      "c:\\users\\kechi\\appdata\\local\\programs\\python\\python39\\lib\\site-packages\\sklearn\\linear_model\\_coordinate_descent.py:530: ConvergenceWarning: Objective did not converge. You might want to increase the number of iterations. Duality gap: 785.4581414701522, tolerance: 0.5188039525691701\n",
      "  model = cd_fast.enet_coordinate_descent(\n",
      "c:\\users\\kechi\\appdata\\local\\programs\\python\\python39\\lib\\site-packages\\sklearn\\linear_model\\_coordinate_descent.py:530: ConvergenceWarning: Objective did not converge. You might want to increase the number of iterations. Duality gap: 795.1329900804672, tolerance: 0.5432181818181822\n",
      "  model = cd_fast.enet_coordinate_descent(\n",
      "c:\\users\\kechi\\appdata\\local\\programs\\python\\python39\\lib\\site-packages\\sklearn\\linear_model\\_coordinate_descent.py:530: ConvergenceWarning: Objective did not converge. You might want to increase the number of iterations. Duality gap: 835.6133964573748, tolerance: 0.5057422924901187\n",
      "  model = cd_fast.enet_coordinate_descent(\n",
      "c:\\users\\kechi\\appdata\\local\\programs\\python\\python39\\lib\\site-packages\\sklearn\\linear_model\\_coordinate_descent.py:530: ConvergenceWarning: Objective did not converge. You might want to increase the number of iterations. Duality gap: 125.3180624804905, tolerance: 0.5122650793650796\n",
      "  model = cd_fast.enet_coordinate_descent(\n",
      "c:\\users\\kechi\\appdata\\local\\programs\\python\\python39\\lib\\site-packages\\sklearn\\linear_model\\_coordinate_descent.py:530: ConvergenceWarning: Objective did not converge. You might want to increase the number of iterations. Duality gap: 132.73877674976305, tolerance: 0.5290632411067191\n",
      "  model = cd_fast.enet_coordinate_descent(\n",
      "c:\\users\\kechi\\appdata\\local\\programs\\python\\python39\\lib\\site-packages\\sklearn\\linear_model\\_coordinate_descent.py:530: ConvergenceWarning: Objective did not converge. You might want to increase the number of iterations. Duality gap: 135.92431245474182, tolerance: 0.5188039525691701\n",
      "  model = cd_fast.enet_coordinate_descent(\n",
      "c:\\users\\kechi\\appdata\\local\\programs\\python\\python39\\lib\\site-packages\\sklearn\\linear_model\\_coordinate_descent.py:530: ConvergenceWarning: Objective did not converge. You might want to increase the number of iterations. Duality gap: 149.37773877354448, tolerance: 0.5432181818181822\n",
      "  model = cd_fast.enet_coordinate_descent(\n",
      "c:\\users\\kechi\\appdata\\local\\programs\\python\\python39\\lib\\site-packages\\sklearn\\linear_model\\_coordinate_descent.py:530: ConvergenceWarning: Objective did not converge. You might want to increase the number of iterations. Duality gap: 134.92871798322048, tolerance: 0.5057422924901187\n",
      "  model = cd_fast.enet_coordinate_descent(\n",
      "c:\\users\\kechi\\appdata\\local\\programs\\python\\python39\\lib\\site-packages\\sklearn\\linear_model\\_coordinate_descent.py:530: ConvergenceWarning: Objective did not converge. You might want to increase the number of iterations. Duality gap: 43.26041519581696, tolerance: 0.5122650793650796\n",
      "  model = cd_fast.enet_coordinate_descent(\n",
      "c:\\users\\kechi\\appdata\\local\\programs\\python\\python39\\lib\\site-packages\\sklearn\\linear_model\\_coordinate_descent.py:530: ConvergenceWarning: Objective did not converge. You might want to increase the number of iterations. Duality gap: 44.15434823315275, tolerance: 0.5290632411067191\n",
      "  model = cd_fast.enet_coordinate_descent(\n",
      "c:\\users\\kechi\\appdata\\local\\programs\\python\\python39\\lib\\site-packages\\sklearn\\linear_model\\_coordinate_descent.py:530: ConvergenceWarning: Objective did not converge. You might want to increase the number of iterations. Duality gap: 47.70929580235644, tolerance: 0.5188039525691701\n",
      "  model = cd_fast.enet_coordinate_descent(\n",
      "c:\\users\\kechi\\appdata\\local\\programs\\python\\python39\\lib\\site-packages\\sklearn\\linear_model\\_coordinate_descent.py:530: ConvergenceWarning: Objective did not converge. You might want to increase the number of iterations. Duality gap: 47.1959468844275, tolerance: 0.5432181818181822\n",
      "  model = cd_fast.enet_coordinate_descent(\n",
      "c:\\users\\kechi\\appdata\\local\\programs\\python\\python39\\lib\\site-packages\\sklearn\\linear_model\\_coordinate_descent.py:530: ConvergenceWarning: Objective did not converge. You might want to increase the number of iterations. Duality gap: 46.21374740757264, tolerance: 0.5057422924901187\n",
      "  model = cd_fast.enet_coordinate_descent(\n",
      "c:\\users\\kechi\\appdata\\local\\programs\\python\\python39\\lib\\site-packages\\sklearn\\linear_model\\_coordinate_descent.py:530: ConvergenceWarning: Objective did not converge. You might want to increase the number of iterations. Duality gap: 763.4122695667468, tolerance: 0.5122650793650796\n",
      "  model = cd_fast.enet_coordinate_descent(\n",
      "c:\\users\\kechi\\appdata\\local\\programs\\python\\python39\\lib\\site-packages\\sklearn\\linear_model\\_coordinate_descent.py:530: ConvergenceWarning: Objective did not converge. You might want to increase the number of iterations. Duality gap: 824.6660734161371, tolerance: 0.5290632411067191\n",
      "  model = cd_fast.enet_coordinate_descent(\n",
      "c:\\users\\kechi\\appdata\\local\\programs\\python\\python39\\lib\\site-packages\\sklearn\\linear_model\\_coordinate_descent.py:530: ConvergenceWarning: Objective did not converge. You might want to increase the number of iterations. Duality gap: 787.0420670489275, tolerance: 0.5188039525691701\n",
      "  model = cd_fast.enet_coordinate_descent(\n"
     ]
    },
    {
     "name": "stderr",
     "output_type": "stream",
     "text": [
      "c:\\users\\kechi\\appdata\\local\\programs\\python\\python39\\lib\\site-packages\\sklearn\\linear_model\\_coordinate_descent.py:530: ConvergenceWarning: Objective did not converge. You might want to increase the number of iterations. Duality gap: 796.956717092384, tolerance: 0.5432181818181822\n",
      "  model = cd_fast.enet_coordinate_descent(\n",
      "c:\\users\\kechi\\appdata\\local\\programs\\python\\python39\\lib\\site-packages\\sklearn\\linear_model\\_coordinate_descent.py:530: ConvergenceWarning: Objective did not converge. You might want to increase the number of iterations. Duality gap: 837.5073183947214, tolerance: 0.5057422924901187\n",
      "  model = cd_fast.enet_coordinate_descent(\n",
      "c:\\users\\kechi\\appdata\\local\\programs\\python\\python39\\lib\\site-packages\\sklearn\\linear_model\\_coordinate_descent.py:530: ConvergenceWarning: Objective did not converge. You might want to increase the number of iterations. Duality gap: 125.82144283975077, tolerance: 0.5122650793650796\n",
      "  model = cd_fast.enet_coordinate_descent(\n",
      "c:\\users\\kechi\\appdata\\local\\programs\\python\\python39\\lib\\site-packages\\sklearn\\linear_model\\_coordinate_descent.py:530: ConvergenceWarning: Objective did not converge. You might want to increase the number of iterations. Duality gap: 133.2558786982886, tolerance: 0.5290632411067191\n",
      "  model = cd_fast.enet_coordinate_descent(\n",
      "c:\\users\\kechi\\appdata\\local\\programs\\python\\python39\\lib\\site-packages\\sklearn\\linear_model\\_coordinate_descent.py:530: ConvergenceWarning: Objective did not converge. You might want to increase the number of iterations. Duality gap: 136.50952919836251, tolerance: 0.5188039525691701\n",
      "  model = cd_fast.enet_coordinate_descent(\n",
      "c:\\users\\kechi\\appdata\\local\\programs\\python\\python39\\lib\\site-packages\\sklearn\\linear_model\\_coordinate_descent.py:530: ConvergenceWarning: Objective did not converge. You might want to increase the number of iterations. Duality gap: 150.07422656560522, tolerance: 0.5432181818181822\n",
      "  model = cd_fast.enet_coordinate_descent(\n",
      "c:\\users\\kechi\\appdata\\local\\programs\\python\\python39\\lib\\site-packages\\sklearn\\linear_model\\_coordinate_descent.py:530: ConvergenceWarning: Objective did not converge. You might want to increase the number of iterations. Duality gap: 135.63517226288087, tolerance: 0.5057422924901187\n",
      "  model = cd_fast.enet_coordinate_descent(\n",
      "c:\\users\\kechi\\appdata\\local\\programs\\python\\python39\\lib\\site-packages\\sklearn\\linear_model\\_coordinate_descent.py:530: ConvergenceWarning: Objective did not converge. You might want to increase the number of iterations. Duality gap: 42.76407460485078, tolerance: 0.5122650793650796\n",
      "  model = cd_fast.enet_coordinate_descent(\n",
      "c:\\users\\kechi\\appdata\\local\\programs\\python\\python39\\lib\\site-packages\\sklearn\\linear_model\\_coordinate_descent.py:530: ConvergenceWarning: Objective did not converge. You might want to increase the number of iterations. Duality gap: 43.60995181304982, tolerance: 0.5290632411067191\n",
      "  model = cd_fast.enet_coordinate_descent(\n",
      "c:\\users\\kechi\\appdata\\local\\programs\\python\\python39\\lib\\site-packages\\sklearn\\linear_model\\_coordinate_descent.py:530: ConvergenceWarning: Objective did not converge. You might want to increase the number of iterations. Duality gap: 47.4128048387645, tolerance: 0.5188039525691701\n",
      "  model = cd_fast.enet_coordinate_descent(\n",
      "c:\\users\\kechi\\appdata\\local\\programs\\python\\python39\\lib\\site-packages\\sklearn\\linear_model\\_coordinate_descent.py:530: ConvergenceWarning: Objective did not converge. You might want to increase the number of iterations. Duality gap: 46.80451578446052, tolerance: 0.5432181818181822\n",
      "  model = cd_fast.enet_coordinate_descent(\n",
      "c:\\users\\kechi\\appdata\\local\\programs\\python\\python39\\lib\\site-packages\\sklearn\\linear_model\\_coordinate_descent.py:530: ConvergenceWarning: Objective did not converge. You might want to increase the number of iterations. Duality gap: 45.89864766215305, tolerance: 0.5057422924901187\n",
      "  model = cd_fast.enet_coordinate_descent(\n",
      "c:\\users\\kechi\\appdata\\local\\programs\\python\\python39\\lib\\site-packages\\sklearn\\linear_model\\_coordinate_descent.py:530: ConvergenceWarning: Objective did not converge. You might want to increase the number of iterations. Duality gap: 765.3463240404812, tolerance: 0.5122650793650796\n",
      "  model = cd_fast.enet_coordinate_descent(\n",
      "c:\\users\\kechi\\appdata\\local\\programs\\python\\python39\\lib\\site-packages\\sklearn\\linear_model\\_coordinate_descent.py:530: ConvergenceWarning: Objective did not converge. You might want to increase the number of iterations. Duality gap: 826.1702238271814, tolerance: 0.5290632411067191\n",
      "  model = cd_fast.enet_coordinate_descent(\n",
      "c:\\users\\kechi\\appdata\\local\\programs\\python\\python39\\lib\\site-packages\\sklearn\\linear_model\\_coordinate_descent.py:530: ConvergenceWarning: Objective did not converge. You might want to increase the number of iterations. Duality gap: 788.6205114846261, tolerance: 0.5188039525691701\n",
      "  model = cd_fast.enet_coordinate_descent(\n",
      "c:\\users\\kechi\\appdata\\local\\programs\\python\\python39\\lib\\site-packages\\sklearn\\linear_model\\_coordinate_descent.py:530: ConvergenceWarning: Objective did not converge. You might want to increase the number of iterations. Duality gap: 798.7739921311887, tolerance: 0.5432181818181822\n",
      "  model = cd_fast.enet_coordinate_descent(\n",
      "c:\\users\\kechi\\appdata\\local\\programs\\python\\python39\\lib\\site-packages\\sklearn\\linear_model\\_coordinate_descent.py:530: ConvergenceWarning: Objective did not converge. You might want to increase the number of iterations. Duality gap: 839.3961109373715, tolerance: 0.5057422924901187\n",
      "  model = cd_fast.enet_coordinate_descent(\n",
      "c:\\users\\kechi\\appdata\\local\\programs\\python\\python39\\lib\\site-packages\\sklearn\\linear_model\\_coordinate_descent.py:530: ConvergenceWarning: Objective did not converge. You might want to increase the number of iterations. Duality gap: 126.31348412311526, tolerance: 0.5122650793650796\n",
      "  model = cd_fast.enet_coordinate_descent(\n",
      "c:\\users\\kechi\\appdata\\local\\programs\\python\\python39\\lib\\site-packages\\sklearn\\linear_model\\_coordinate_descent.py:530: ConvergenceWarning: Objective did not converge. You might want to increase the number of iterations. Duality gap: 133.76938475913235, tolerance: 0.5290632411067191\n",
      "  model = cd_fast.enet_coordinate_descent(\n",
      "c:\\users\\kechi\\appdata\\local\\programs\\python\\python39\\lib\\site-packages\\sklearn\\linear_model\\_coordinate_descent.py:530: ConvergenceWarning: Objective did not converge. You might want to increase the number of iterations. Duality gap: 137.04368876833257, tolerance: 0.5188039525691701\n",
      "  model = cd_fast.enet_coordinate_descent(\n",
      "c:\\users\\kechi\\appdata\\local\\programs\\python\\python39\\lib\\site-packages\\sklearn\\linear_model\\_coordinate_descent.py:530: ConvergenceWarning: Objective did not converge. You might want to increase the number of iterations. Duality gap: 150.75986164040967, tolerance: 0.5432181818181822\n",
      "  model = cd_fast.enet_coordinate_descent(\n",
      "c:\\users\\kechi\\appdata\\local\\programs\\python\\python39\\lib\\site-packages\\sklearn\\linear_model\\_coordinate_descent.py:530: ConvergenceWarning: Objective did not converge. You might want to increase the number of iterations. Duality gap: 136.32712995118533, tolerance: 0.5057422924901187\n",
      "  model = cd_fast.enet_coordinate_descent(\n",
      "c:\\users\\kechi\\appdata\\local\\programs\\python\\python39\\lib\\site-packages\\sklearn\\linear_model\\_coordinate_descent.py:530: ConvergenceWarning: Objective did not converge. You might want to increase the number of iterations. Duality gap: 42.2298456678986, tolerance: 0.5122650793650796\n",
      "  model = cd_fast.enet_coordinate_descent(\n",
      "c:\\users\\kechi\\appdata\\local\\programs\\python\\python39\\lib\\site-packages\\sklearn\\linear_model\\_coordinate_descent.py:530: ConvergenceWarning: Objective did not converge. You might want to increase the number of iterations. Duality gap: 43.13196055285503, tolerance: 0.5290632411067191\n",
      "  model = cd_fast.enet_coordinate_descent(\n",
      "c:\\users\\kechi\\appdata\\local\\programs\\python\\python39\\lib\\site-packages\\sklearn\\linear_model\\_coordinate_descent.py:530: ConvergenceWarning: Objective did not converge. You might want to increase the number of iterations. Duality gap: 47.146272680081864, tolerance: 0.5188039525691701\n",
      "  model = cd_fast.enet_coordinate_descent(\n",
      "c:\\users\\kechi\\appdata\\local\\programs\\python\\python39\\lib\\site-packages\\sklearn\\linear_model\\_coordinate_descent.py:530: ConvergenceWarning: Objective did not converge. You might want to increase the number of iterations. Duality gap: 46.42080039564753, tolerance: 0.5432181818181822\n",
      "  model = cd_fast.enet_coordinate_descent(\n",
      "c:\\users\\kechi\\appdata\\local\\programs\\python\\python39\\lib\\site-packages\\sklearn\\linear_model\\_coordinate_descent.py:530: ConvergenceWarning: Objective did not converge. You might want to increase the number of iterations. Duality gap: 45.59623954468421, tolerance: 0.5057422924901187\n",
      "  model = cd_fast.enet_coordinate_descent(\n",
      "c:\\users\\kechi\\appdata\\local\\programs\\python\\python39\\lib\\site-packages\\sklearn\\linear_model\\_coordinate_descent.py:530: ConvergenceWarning: Objective did not converge. You might want to increase the number of iterations. Duality gap: 767.2742298307322, tolerance: 0.5122650793650796\n",
      "  model = cd_fast.enet_coordinate_descent(\n",
      "c:\\users\\kechi\\appdata\\local\\programs\\python\\python39\\lib\\site-packages\\sklearn\\linear_model\\_coordinate_descent.py:530: ConvergenceWarning: Objective did not converge. You might want to increase the number of iterations. Duality gap: 827.6694467766024, tolerance: 0.5290632411067191\n",
      "  model = cd_fast.enet_coordinate_descent(\n",
      "c:\\users\\kechi\\appdata\\local\\programs\\python\\python39\\lib\\site-packages\\sklearn\\linear_model\\_coordinate_descent.py:530: ConvergenceWarning: Objective did not converge. You might want to increase the number of iterations. Duality gap: 790.19341503861, tolerance: 0.5188039525691701\n",
      "  model = cd_fast.enet_coordinate_descent(\n",
      "c:\\users\\kechi\\appdata\\local\\programs\\python\\python39\\lib\\site-packages\\sklearn\\linear_model\\_coordinate_descent.py:530: ConvergenceWarning: Objective did not converge. You might want to increase the number of iterations. Duality gap: 800.5847568485195, tolerance: 0.5432181818181822\n",
      "  model = cd_fast.enet_coordinate_descent(\n",
      "c:\\users\\kechi\\appdata\\local\\programs\\python\\python39\\lib\\site-packages\\sklearn\\linear_model\\_coordinate_descent.py:530: ConvergenceWarning: Objective did not converge. You might want to increase the number of iterations. Duality gap: 841.2797287814377, tolerance: 0.5057422924901187\n",
      "  model = cd_fast.enet_coordinate_descent(\n",
      "c:\\users\\kechi\\appdata\\local\\programs\\python\\python39\\lib\\site-packages\\sklearn\\linear_model\\_coordinate_descent.py:530: ConvergenceWarning: Objective did not converge. You might want to increase the number of iterations. Duality gap: 126.80466850362751, tolerance: 0.5122650793650796\n",
      "  model = cd_fast.enet_coordinate_descent(\n",
      "c:\\users\\kechi\\appdata\\local\\programs\\python\\python39\\lib\\site-packages\\sklearn\\linear_model\\_coordinate_descent.py:530: ConvergenceWarning: Objective did not converge. You might want to increase the number of iterations. Duality gap: 134.27506867224017, tolerance: 0.5290632411067191\n",
      "  model = cd_fast.enet_coordinate_descent(\n",
      "c:\\users\\kechi\\appdata\\local\\programs\\python\\python39\\lib\\site-packages\\sklearn\\linear_model\\_coordinate_descent.py:530: ConvergenceWarning: Objective did not converge. You might want to increase the number of iterations. Duality gap: 137.56663161328646, tolerance: 0.5188039525691701\n",
      "  model = cd_fast.enet_coordinate_descent(\n",
      "c:\\users\\kechi\\appdata\\local\\programs\\python\\python39\\lib\\site-packages\\sklearn\\linear_model\\_coordinate_descent.py:530: ConvergenceWarning: Objective did not converge. You might want to increase the number of iterations. Duality gap: 151.44305557892264, tolerance: 0.5432181818181822\n",
      "  model = cd_fast.enet_coordinate_descent(\n",
      "c:\\users\\kechi\\appdata\\local\\programs\\python\\python39\\lib\\site-packages\\sklearn\\linear_model\\_coordinate_descent.py:530: ConvergenceWarning: Objective did not converge. You might want to increase the number of iterations. Duality gap: 136.98694316451216, tolerance: 0.5057422924901187\n",
      "  model = cd_fast.enet_coordinate_descent(\n",
      "c:\\users\\kechi\\appdata\\local\\programs\\python\\python39\\lib\\site-packages\\sklearn\\linear_model\\_coordinate_descent.py:530: ConvergenceWarning: Objective did not converge. You might want to increase the number of iterations. Duality gap: 41.75329935462642, tolerance: 0.5122650793650796\n",
      "  model = cd_fast.enet_coordinate_descent(\n",
      "c:\\users\\kechi\\appdata\\local\\programs\\python\\python39\\lib\\site-packages\\sklearn\\linear_model\\_coordinate_descent.py:530: ConvergenceWarning: Objective did not converge. You might want to increase the number of iterations. Duality gap: 42.70354800026003, tolerance: 0.5290632411067191\n",
      "  model = cd_fast.enet_coordinate_descent(\n",
      "c:\\users\\kechi\\appdata\\local\\programs\\python\\python39\\lib\\site-packages\\sklearn\\linear_model\\_coordinate_descent.py:530: ConvergenceWarning: Objective did not converge. You might want to increase the number of iterations. Duality gap: 46.90282207439732, tolerance: 0.5188039525691701\n",
      "  model = cd_fast.enet_coordinate_descent(\n"
     ]
    },
    {
     "name": "stderr",
     "output_type": "stream",
     "text": [
      "c:\\users\\kechi\\appdata\\local\\programs\\python\\python39\\lib\\site-packages\\sklearn\\linear_model\\_coordinate_descent.py:530: ConvergenceWarning: Objective did not converge. You might want to increase the number of iterations. Duality gap: 46.028955536785574, tolerance: 0.5432181818181822\n",
      "  model = cd_fast.enet_coordinate_descent(\n",
      "c:\\users\\kechi\\appdata\\local\\programs\\python\\python39\\lib\\site-packages\\sklearn\\linear_model\\_coordinate_descent.py:530: ConvergenceWarning: Objective did not converge. You might want to increase the number of iterations. Duality gap: 45.305559498068874, tolerance: 0.5057422924901187\n",
      "  model = cd_fast.enet_coordinate_descent(\n",
      "c:\\users\\kechi\\appdata\\local\\programs\\python\\python39\\lib\\site-packages\\sklearn\\linear_model\\_coordinate_descent.py:530: ConvergenceWarning: Objective did not converge. You might want to increase the number of iterations. Duality gap: 818.5923068445163, tolerance: 0.5122650793650796\n",
      "  model = cd_fast.enet_coordinate_descent(\n",
      "c:\\users\\kechi\\appdata\\local\\programs\\python\\python39\\lib\\site-packages\\sklearn\\linear_model\\_coordinate_descent.py:530: ConvergenceWarning: Objective did not converge. You might want to increase the number of iterations. Duality gap: 879.9849031966975, tolerance: 0.5290632411067191\n",
      "  model = cd_fast.enet_coordinate_descent(\n",
      "c:\\users\\kechi\\appdata\\local\\programs\\python\\python39\\lib\\site-packages\\sklearn\\linear_model\\_coordinate_descent.py:530: ConvergenceWarning: Objective did not converge. You might want to increase the number of iterations. Duality gap: 843.8975559348921, tolerance: 0.5188039525691701\n",
      "  model = cd_fast.enet_coordinate_descent(\n",
      "c:\\users\\kechi\\appdata\\local\\programs\\python\\python39\\lib\\site-packages\\sklearn\\linear_model\\_coordinate_descent.py:530: ConvergenceWarning: Objective did not converge. You might want to increase the number of iterations. Duality gap: 862.7386170737686, tolerance: 0.5432181818181822\n",
      "  model = cd_fast.enet_coordinate_descent(\n",
      "c:\\users\\kechi\\appdata\\local\\programs\\python\\python39\\lib\\site-packages\\sklearn\\linear_model\\_coordinate_descent.py:530: ConvergenceWarning: Objective did not converge. You might want to increase the number of iterations. Duality gap: 881.1252741937511, tolerance: 0.5057422924901187\n",
      "  model = cd_fast.enet_coordinate_descent(\n",
      "c:\\users\\kechi\\appdata\\local\\programs\\python\\python39\\lib\\site-packages\\sklearn\\linear_model\\_coordinate_descent.py:530: ConvergenceWarning: Objective did not converge. You might want to increase the number of iterations. Duality gap: 203.00029983061137, tolerance: 0.5122650793650796\n",
      "  model = cd_fast.enet_coordinate_descent(\n",
      "c:\\users\\kechi\\appdata\\local\\programs\\python\\python39\\lib\\site-packages\\sklearn\\linear_model\\_coordinate_descent.py:530: ConvergenceWarning: Objective did not converge. You might want to increase the number of iterations. Duality gap: 210.26176526298553, tolerance: 0.5290632411067191\n",
      "  model = cd_fast.enet_coordinate_descent(\n",
      "c:\\users\\kechi\\appdata\\local\\programs\\python\\python39\\lib\\site-packages\\sklearn\\linear_model\\_coordinate_descent.py:530: ConvergenceWarning: Objective did not converge. You might want to increase the number of iterations. Duality gap: 204.57548542227855, tolerance: 0.5188039525691701\n",
      "  model = cd_fast.enet_coordinate_descent(\n",
      "c:\\users\\kechi\\appdata\\local\\programs\\python\\python39\\lib\\site-packages\\sklearn\\linear_model\\_coordinate_descent.py:530: ConvergenceWarning: Objective did not converge. You might want to increase the number of iterations. Duality gap: 217.24978081841311, tolerance: 0.5432181818181822\n",
      "  model = cd_fast.enet_coordinate_descent(\n",
      "c:\\users\\kechi\\appdata\\local\\programs\\python\\python39\\lib\\site-packages\\sklearn\\linear_model\\_coordinate_descent.py:530: ConvergenceWarning: Objective did not converge. You might want to increase the number of iterations. Duality gap: 205.9291458069467, tolerance: 0.5057422924901187\n",
      "  model = cd_fast.enet_coordinate_descent(\n",
      "c:\\users\\kechi\\appdata\\local\\programs\\python\\python39\\lib\\site-packages\\sklearn\\linear_model\\_coordinate_descent.py:530: ConvergenceWarning: Objective did not converge. You might want to increase the number of iterations. Duality gap: 173.54001155033293, tolerance: 0.5122650793650796\n",
      "  model = cd_fast.enet_coordinate_descent(\n",
      "c:\\users\\kechi\\appdata\\local\\programs\\python\\python39\\lib\\site-packages\\sklearn\\linear_model\\_coordinate_descent.py:530: ConvergenceWarning: Objective did not converge. You might want to increase the number of iterations. Duality gap: 176.5493867828724, tolerance: 0.5290632411067191\n",
      "  model = cd_fast.enet_coordinate_descent(\n",
      "c:\\users\\kechi\\appdata\\local\\programs\\python\\python39\\lib\\site-packages\\sklearn\\linear_model\\_coordinate_descent.py:530: ConvergenceWarning: Objective did not converge. You might want to increase the number of iterations. Duality gap: 170.3872427990744, tolerance: 0.5188039525691701\n",
      "  model = cd_fast.enet_coordinate_descent(\n",
      "c:\\users\\kechi\\appdata\\local\\programs\\python\\python39\\lib\\site-packages\\sklearn\\linear_model\\_coordinate_descent.py:530: ConvergenceWarning: Objective did not converge. You might want to increase the number of iterations. Duality gap: 176.19472578704693, tolerance: 0.5432181818181822\n",
      "  model = cd_fast.enet_coordinate_descent(\n",
      "c:\\users\\kechi\\appdata\\local\\programs\\python\\python39\\lib\\site-packages\\sklearn\\linear_model\\_coordinate_descent.py:530: ConvergenceWarning: Objective did not converge. You might want to increase the number of iterations. Duality gap: 171.70916025925573, tolerance: 0.5057422924901187\n",
      "  model = cd_fast.enet_coordinate_descent(\n",
      "c:\\users\\kechi\\appdata\\local\\programs\\python\\python39\\lib\\site-packages\\sklearn\\linear_model\\_coordinate_descent.py:530: ConvergenceWarning: Objective did not converge. You might want to increase the number of iterations. Duality gap: 836.6328625203764, tolerance: 0.5122650793650796\n",
      "  model = cd_fast.enet_coordinate_descent(\n",
      "c:\\users\\kechi\\appdata\\local\\programs\\python\\python39\\lib\\site-packages\\sklearn\\linear_model\\_coordinate_descent.py:530: ConvergenceWarning: Objective did not converge. You might want to increase the number of iterations. Duality gap: 894.4184299138676, tolerance: 0.5290632411067191\n",
      "  model = cd_fast.enet_coordinate_descent(\n",
      "c:\\users\\kechi\\appdata\\local\\programs\\python\\python39\\lib\\site-packages\\sklearn\\linear_model\\_coordinate_descent.py:530: ConvergenceWarning: Objective did not converge. You might want to increase the number of iterations. Duality gap: 859.5931448502033, tolerance: 0.5188039525691701\n",
      "  model = cd_fast.enet_coordinate_descent(\n",
      "c:\\users\\kechi\\appdata\\local\\programs\\python\\python39\\lib\\site-packages\\sklearn\\linear_model\\_coordinate_descent.py:530: ConvergenceWarning: Objective did not converge. You might want to increase the number of iterations. Duality gap: 880.1096521197614, tolerance: 0.5432181818181822\n",
      "  model = cd_fast.enet_coordinate_descent(\n",
      "c:\\users\\kechi\\appdata\\local\\programs\\python\\python39\\lib\\site-packages\\sklearn\\linear_model\\_coordinate_descent.py:530: ConvergenceWarning: Objective did not converge. You might want to increase the number of iterations. Duality gap: 898.4953112309752, tolerance: 0.5057422924901187\n",
      "  model = cd_fast.enet_coordinate_descent(\n",
      "c:\\users\\kechi\\appdata\\local\\programs\\python\\python39\\lib\\site-packages\\sklearn\\linear_model\\_coordinate_descent.py:530: ConvergenceWarning: Objective did not converge. You might want to increase the number of iterations. Duality gap: 198.14847686663865, tolerance: 0.5122650793650796\n",
      "  model = cd_fast.enet_coordinate_descent(\n",
      "c:\\users\\kechi\\appdata\\local\\programs\\python\\python39\\lib\\site-packages\\sklearn\\linear_model\\_coordinate_descent.py:530: ConvergenceWarning: Objective did not converge. You might want to increase the number of iterations. Duality gap: 206.24864661209273, tolerance: 0.5290632411067191\n",
      "  model = cd_fast.enet_coordinate_descent(\n",
      "c:\\users\\kechi\\appdata\\local\\programs\\python\\python39\\lib\\site-packages\\sklearn\\linear_model\\_coordinate_descent.py:530: ConvergenceWarning: Objective did not converge. You might want to increase the number of iterations. Duality gap: 201.36886329501385, tolerance: 0.5188039525691701\n",
      "  model = cd_fast.enet_coordinate_descent(\n",
      "c:\\users\\kechi\\appdata\\local\\programs\\python\\python39\\lib\\site-packages\\sklearn\\linear_model\\_coordinate_descent.py:530: ConvergenceWarning: Objective did not converge. You might want to increase the number of iterations. Duality gap: 215.6073549899379, tolerance: 0.5432181818181822\n",
      "  model = cd_fast.enet_coordinate_descent(\n",
      "c:\\users\\kechi\\appdata\\local\\programs\\python\\python39\\lib\\site-packages\\sklearn\\linear_model\\_coordinate_descent.py:530: ConvergenceWarning: Objective did not converge. You might want to increase the number of iterations. Duality gap: 202.8142375398791, tolerance: 0.5057422924901187\n",
      "  model = cd_fast.enet_coordinate_descent(\n",
      "c:\\users\\kechi\\appdata\\local\\programs\\python\\python39\\lib\\site-packages\\sklearn\\linear_model\\_coordinate_descent.py:530: ConvergenceWarning: Objective did not converge. You might want to increase the number of iterations. Duality gap: 113.75813261739705, tolerance: 0.5122650793650796\n",
      "  model = cd_fast.enet_coordinate_descent(\n",
      "c:\\users\\kechi\\appdata\\local\\programs\\python\\python39\\lib\\site-packages\\sklearn\\linear_model\\_coordinate_descent.py:530: ConvergenceWarning: Objective did not converge. You might want to increase the number of iterations. Duality gap: 120.24322665061449, tolerance: 0.5290632411067191\n",
      "  model = cd_fast.enet_coordinate_descent(\n",
      "c:\\users\\kechi\\appdata\\local\\programs\\python\\python39\\lib\\site-packages\\sklearn\\linear_model\\_coordinate_descent.py:530: ConvergenceWarning: Objective did not converge. You might want to increase the number of iterations. Duality gap: 123.11885286251103, tolerance: 0.5188039525691701\n",
      "  model = cd_fast.enet_coordinate_descent(\n",
      "c:\\users\\kechi\\appdata\\local\\programs\\python\\python39\\lib\\site-packages\\sklearn\\linear_model\\_coordinate_descent.py:530: ConvergenceWarning: Objective did not converge. You might want to increase the number of iterations. Duality gap: 128.60595512489712, tolerance: 0.5432181818181822\n",
      "  model = cd_fast.enet_coordinate_descent(\n",
      "c:\\users\\kechi\\appdata\\local\\programs\\python\\python39\\lib\\site-packages\\sklearn\\linear_model\\_coordinate_descent.py:530: ConvergenceWarning: Objective did not converge. You might want to increase the number of iterations. Duality gap: 117.08378249253505, tolerance: 0.5057422924901187\n",
      "  model = cd_fast.enet_coordinate_descent(\n",
      "c:\\users\\kechi\\appdata\\local\\programs\\python\\python39\\lib\\site-packages\\sklearn\\linear_model\\_coordinate_descent.py:530: ConvergenceWarning: Objective did not converge. You might want to increase the number of iterations. Duality gap: 854.1119058440689, tolerance: 0.5122650793650796\n",
      "  model = cd_fast.enet_coordinate_descent(\n",
      "c:\\users\\kechi\\appdata\\local\\programs\\python\\python39\\lib\\site-packages\\sklearn\\linear_model\\_coordinate_descent.py:530: ConvergenceWarning: Objective did not converge. You might want to increase the number of iterations. Duality gap: 908.398505252399, tolerance: 0.5290632411067191\n",
      "  model = cd_fast.enet_coordinate_descent(\n",
      "c:\\users\\kechi\\appdata\\local\\programs\\python\\python39\\lib\\site-packages\\sklearn\\linear_model\\_coordinate_descent.py:530: ConvergenceWarning: Objective did not converge. You might want to increase the number of iterations. Duality gap: 874.6285880974674, tolerance: 0.5188039525691701\n",
      "  model = cd_fast.enet_coordinate_descent(\n",
      "c:\\users\\kechi\\appdata\\local\\programs\\python\\python39\\lib\\site-packages\\sklearn\\linear_model\\_coordinate_descent.py:530: ConvergenceWarning: Objective did not converge. You might want to increase the number of iterations. Duality gap: 896.9116820517487, tolerance: 0.5432181818181822\n",
      "  model = cd_fast.enet_coordinate_descent(\n",
      "c:\\users\\kechi\\appdata\\local\\programs\\python\\python39\\lib\\site-packages\\sklearn\\linear_model\\_coordinate_descent.py:530: ConvergenceWarning: Objective did not converge. You might want to increase the number of iterations. Duality gap: 915.5061697166589, tolerance: 0.5057422924901187\n",
      "  model = cd_fast.enet_coordinate_descent(\n",
      "c:\\users\\kechi\\appdata\\local\\programs\\python\\python39\\lib\\site-packages\\sklearn\\linear_model\\_coordinate_descent.py:530: ConvergenceWarning: Objective did not converge. You might want to increase the number of iterations. Duality gap: 193.1285924002584, tolerance: 0.5122650793650796\n",
      "  model = cd_fast.enet_coordinate_descent(\n",
      "c:\\users\\kechi\\appdata\\local\\programs\\python\\python39\\lib\\site-packages\\sklearn\\linear_model\\_coordinate_descent.py:530: ConvergenceWarning: Objective did not converge. You might want to increase the number of iterations. Duality gap: 202.30130932947537, tolerance: 0.5290632411067191\n",
      "  model = cd_fast.enet_coordinate_descent(\n",
      "c:\\users\\kechi\\appdata\\local\\programs\\python\\python39\\lib\\site-packages\\sklearn\\linear_model\\_coordinate_descent.py:530: ConvergenceWarning: Objective did not converge. You might want to increase the number of iterations. Duality gap: 197.26579027099447, tolerance: 0.5188039525691701\n",
      "  model = cd_fast.enet_coordinate_descent(\n",
      "c:\\users\\kechi\\appdata\\local\\programs\\python\\python39\\lib\\site-packages\\sklearn\\linear_model\\_coordinate_descent.py:530: ConvergenceWarning: Objective did not converge. You might want to increase the number of iterations. Duality gap: 212.88563870555657, tolerance: 0.5432181818181822\n",
      "  model = cd_fast.enet_coordinate_descent(\n"
     ]
    },
    {
     "name": "stderr",
     "output_type": "stream",
     "text": [
      "c:\\users\\kechi\\appdata\\local\\programs\\python\\python39\\lib\\site-packages\\sklearn\\linear_model\\_coordinate_descent.py:530: ConvergenceWarning: Objective did not converge. You might want to increase the number of iterations. Duality gap: 199.25066379218333, tolerance: 0.5057422924901187\n",
      "  model = cd_fast.enet_coordinate_descent(\n",
      "c:\\users\\kechi\\appdata\\local\\programs\\python\\python39\\lib\\site-packages\\sklearn\\linear_model\\_coordinate_descent.py:530: ConvergenceWarning: Objective did not converge. You might want to increase the number of iterations. Duality gap: 66.30079940925725, tolerance: 0.5122650793650796\n",
      "  model = cd_fast.enet_coordinate_descent(\n",
      "c:\\users\\kechi\\appdata\\local\\programs\\python\\python39\\lib\\site-packages\\sklearn\\linear_model\\_coordinate_descent.py:530: ConvergenceWarning: Objective did not converge. You might want to increase the number of iterations. Duality gap: 74.8060931155707, tolerance: 0.5290632411067191\n",
      "  model = cd_fast.enet_coordinate_descent(\n",
      "c:\\users\\kechi\\appdata\\local\\programs\\python\\python39\\lib\\site-packages\\sklearn\\linear_model\\_coordinate_descent.py:530: ConvergenceWarning: Objective did not converge. You might want to increase the number of iterations. Duality gap: 85.3263790517903, tolerance: 0.5188039525691701\n",
      "  model = cd_fast.enet_coordinate_descent(\n",
      "c:\\users\\kechi\\appdata\\local\\programs\\python\\python39\\lib\\site-packages\\sklearn\\linear_model\\_coordinate_descent.py:530: ConvergenceWarning: Objective did not converge. You might want to increase the number of iterations. Duality gap: 91.61905023661663, tolerance: 0.5432181818181822\n",
      "  model = cd_fast.enet_coordinate_descent(\n",
      "c:\\users\\kechi\\appdata\\local\\programs\\python\\python39\\lib\\site-packages\\sklearn\\linear_model\\_coordinate_descent.py:530: ConvergenceWarning: Objective did not converge. You might want to increase the number of iterations. Duality gap: 75.77564666594388, tolerance: 0.5057422924901187\n",
      "  model = cd_fast.enet_coordinate_descent(\n",
      "c:\\users\\kechi\\appdata\\local\\programs\\python\\python39\\lib\\site-packages\\sklearn\\linear_model\\_coordinate_descent.py:530: ConvergenceWarning: Objective did not converge. You might want to increase the number of iterations. Duality gap: 871.1097352721667, tolerance: 0.5122650793650796\n",
      "  model = cd_fast.enet_coordinate_descent(\n",
      "c:\\users\\kechi\\appdata\\local\\programs\\python\\python39\\lib\\site-packages\\sklearn\\linear_model\\_coordinate_descent.py:530: ConvergenceWarning: Objective did not converge. You might want to increase the number of iterations. Duality gap: 921.9982585260111, tolerance: 0.5290632411067191\n",
      "  model = cd_fast.enet_coordinate_descent(\n",
      "c:\\users\\kechi\\appdata\\local\\programs\\python\\python39\\lib\\site-packages\\sklearn\\linear_model\\_coordinate_descent.py:530: ConvergenceWarning: Objective did not converge. You might want to increase the number of iterations. Duality gap: 889.2081996513632, tolerance: 0.5188039525691701\n",
      "  model = cd_fast.enet_coordinate_descent(\n",
      "c:\\users\\kechi\\appdata\\local\\programs\\python\\python39\\lib\\site-packages\\sklearn\\linear_model\\_coordinate_descent.py:530: ConvergenceWarning: Objective did not converge. You might want to increase the number of iterations. Duality gap: 913.097602590891, tolerance: 0.5432181818181822\n",
      "  model = cd_fast.enet_coordinate_descent(\n",
      "c:\\users\\kechi\\appdata\\local\\programs\\python\\python39\\lib\\site-packages\\sklearn\\linear_model\\_coordinate_descent.py:530: ConvergenceWarning: Objective did not converge. You might want to increase the number of iterations. Duality gap: 932.2193632137447, tolerance: 0.5057422924901187\n",
      "  model = cd_fast.enet_coordinate_descent(\n",
      "c:\\users\\kechi\\appdata\\local\\programs\\python\\python39\\lib\\site-packages\\sklearn\\linear_model\\_coordinate_descent.py:530: ConvergenceWarning: Objective did not converge. You might want to increase the number of iterations. Duality gap: 188.7045647640333, tolerance: 0.5122650793650796\n",
      "  model = cd_fast.enet_coordinate_descent(\n",
      "c:\\users\\kechi\\appdata\\local\\programs\\python\\python39\\lib\\site-packages\\sklearn\\linear_model\\_coordinate_descent.py:530: ConvergenceWarning: Objective did not converge. You might want to increase the number of iterations. Duality gap: 199.09786473411202, tolerance: 0.5290632411067191\n",
      "  model = cd_fast.enet_coordinate_descent(\n",
      "c:\\users\\kechi\\appdata\\local\\programs\\python\\python39\\lib\\site-packages\\sklearn\\linear_model\\_coordinate_descent.py:530: ConvergenceWarning: Objective did not converge. You might want to increase the number of iterations. Duality gap: 193.90662187736004, tolerance: 0.5188039525691701\n",
      "  model = cd_fast.enet_coordinate_descent(\n",
      "c:\\users\\kechi\\appdata\\local\\programs\\python\\python39\\lib\\site-packages\\sklearn\\linear_model\\_coordinate_descent.py:530: ConvergenceWarning: Objective did not converge. You might want to increase the number of iterations. Duality gap: 210.0385461961851, tolerance: 0.5432181818181822\n",
      "  model = cd_fast.enet_coordinate_descent(\n",
      "c:\\users\\kechi\\appdata\\local\\programs\\python\\python39\\lib\\site-packages\\sklearn\\linear_model\\_coordinate_descent.py:530: ConvergenceWarning: Objective did not converge. You might want to increase the number of iterations. Duality gap: 195.5156234099651, tolerance: 0.5057422924901187\n",
      "  model = cd_fast.enet_coordinate_descent(\n",
      "c:\\users\\kechi\\appdata\\local\\programs\\python\\python39\\lib\\site-packages\\sklearn\\linear_model\\_coordinate_descent.py:530: ConvergenceWarning: Objective did not converge. You might want to increase the number of iterations. Duality gap: 53.16483647372044, tolerance: 0.5122650793650796\n",
      "  model = cd_fast.enet_coordinate_descent(\n",
      "c:\\users\\kechi\\appdata\\local\\programs\\python\\python39\\lib\\site-packages\\sklearn\\linear_model\\_coordinate_descent.py:530: ConvergenceWarning: Objective did not converge. You might want to increase the number of iterations. Duality gap: 61.12897356767737, tolerance: 0.5290632411067191\n",
      "  model = cd_fast.enet_coordinate_descent(\n",
      "c:\\users\\kechi\\appdata\\local\\programs\\python\\python39\\lib\\site-packages\\sklearn\\linear_model\\_coordinate_descent.py:530: ConvergenceWarning: Objective did not converge. You might want to increase the number of iterations. Duality gap: 58.97491369166302, tolerance: 0.5188039525691701\n",
      "  model = cd_fast.enet_coordinate_descent(\n",
      "c:\\users\\kechi\\appdata\\local\\programs\\python\\python39\\lib\\site-packages\\sklearn\\linear_model\\_coordinate_descent.py:530: ConvergenceWarning: Objective did not converge. You might want to increase the number of iterations. Duality gap: 65.00540352510914, tolerance: 0.5432181818181822\n",
      "  model = cd_fast.enet_coordinate_descent(\n",
      "c:\\users\\kechi\\appdata\\local\\programs\\python\\python39\\lib\\site-packages\\sklearn\\linear_model\\_coordinate_descent.py:530: ConvergenceWarning: Objective did not converge. You might want to increase the number of iterations. Duality gap: 57.906018234747876, tolerance: 0.5057422924901187\n",
      "  model = cd_fast.enet_coordinate_descent(\n",
      "c:\\users\\kechi\\appdata\\local\\programs\\python\\python39\\lib\\site-packages\\sklearn\\linear_model\\_coordinate_descent.py:530: ConvergenceWarning: Objective did not converge. You might want to increase the number of iterations. Duality gap: 887.3520777934492, tolerance: 0.5122650793650796\n",
      "  model = cd_fast.enet_coordinate_descent(\n",
      "c:\\users\\kechi\\appdata\\local\\programs\\python\\python39\\lib\\site-packages\\sklearn\\linear_model\\_coordinate_descent.py:530: ConvergenceWarning: Objective did not converge. You might want to increase the number of iterations. Duality gap: 935.3711820340845, tolerance: 0.5290632411067191\n",
      "  model = cd_fast.enet_coordinate_descent(\n",
      "c:\\users\\kechi\\appdata\\local\\programs\\python\\python39\\lib\\site-packages\\sklearn\\linear_model\\_coordinate_descent.py:530: ConvergenceWarning: Objective did not converge. You might want to increase the number of iterations. Duality gap: 903.4090727291994, tolerance: 0.5188039525691701\n",
      "  model = cd_fast.enet_coordinate_descent(\n",
      "c:\\users\\kechi\\appdata\\local\\programs\\python\\python39\\lib\\site-packages\\sklearn\\linear_model\\_coordinate_descent.py:530: ConvergenceWarning: Objective did not converge. You might want to increase the number of iterations. Duality gap: 928.6194136382173, tolerance: 0.5432181818181822\n",
      "  model = cd_fast.enet_coordinate_descent(\n",
      "c:\\users\\kechi\\appdata\\local\\programs\\python\\python39\\lib\\site-packages\\sklearn\\linear_model\\_coordinate_descent.py:530: ConvergenceWarning: Objective did not converge. You might want to increase the number of iterations. Duality gap: 948.3453743715438, tolerance: 0.5057422924901187\n",
      "  model = cd_fast.enet_coordinate_descent(\n",
      "c:\\users\\kechi\\appdata\\local\\programs\\python\\python39\\lib\\site-packages\\sklearn\\linear_model\\_coordinate_descent.py:530: ConvergenceWarning: Objective did not converge. You might want to increase the number of iterations. Duality gap: 185.3615626377362, tolerance: 0.5122650793650796\n",
      "  model = cd_fast.enet_coordinate_descent(\n",
      "c:\\users\\kechi\\appdata\\local\\programs\\python\\python39\\lib\\site-packages\\sklearn\\linear_model\\_coordinate_descent.py:530: ConvergenceWarning: Objective did not converge. You might want to increase the number of iterations. Duality gap: 195.82538553639984, tolerance: 0.5290632411067191\n",
      "  model = cd_fast.enet_coordinate_descent(\n",
      "c:\\users\\kechi\\appdata\\local\\programs\\python\\python39\\lib\\site-packages\\sklearn\\linear_model\\_coordinate_descent.py:530: ConvergenceWarning: Objective did not converge. You might want to increase the number of iterations. Duality gap: 191.640508695851, tolerance: 0.5188039525691701\n",
      "  model = cd_fast.enet_coordinate_descent(\n",
      "c:\\users\\kechi\\appdata\\local\\programs\\python\\python39\\lib\\site-packages\\sklearn\\linear_model\\_coordinate_descent.py:530: ConvergenceWarning: Objective did not converge. You might want to increase the number of iterations. Duality gap: 207.6609788152195, tolerance: 0.5432181818181822\n",
      "  model = cd_fast.enet_coordinate_descent(\n",
      "c:\\users\\kechi\\appdata\\local\\programs\\python\\python39\\lib\\site-packages\\sklearn\\linear_model\\_coordinate_descent.py:530: ConvergenceWarning: Objective did not converge. You might want to increase the number of iterations. Duality gap: 192.6797516140333, tolerance: 0.5057422924901187\n",
      "  model = cd_fast.enet_coordinate_descent(\n",
      "c:\\users\\kechi\\appdata\\local\\programs\\python\\python39\\lib\\site-packages\\sklearn\\linear_model\\_coordinate_descent.py:530: ConvergenceWarning: Objective did not converge. You might want to increase the number of iterations. Duality gap: 46.611340763900984, tolerance: 0.5122650793650796\n",
      "  model = cd_fast.enet_coordinate_descent(\n",
      "c:\\users\\kechi\\appdata\\local\\programs\\python\\python39\\lib\\site-packages\\sklearn\\linear_model\\_coordinate_descent.py:530: ConvergenceWarning: Objective did not converge. You might want to increase the number of iterations. Duality gap: 41.86430931315408, tolerance: 0.5290632411067191\n",
      "  model = cd_fast.enet_coordinate_descent(\n",
      "c:\\users\\kechi\\appdata\\local\\programs\\python\\python39\\lib\\site-packages\\sklearn\\linear_model\\_coordinate_descent.py:530: ConvergenceWarning: Objective did not converge. You might want to increase the number of iterations. Duality gap: 48.163829645059394, tolerance: 0.5188039525691701\n",
      "  model = cd_fast.enet_coordinate_descent(\n",
      "c:\\users\\kechi\\appdata\\local\\programs\\python\\python39\\lib\\site-packages\\sklearn\\linear_model\\_coordinate_descent.py:530: ConvergenceWarning: Objective did not converge. You might want to increase the number of iterations. Duality gap: 45.75945932888159, tolerance: 0.5432181818181822\n",
      "  model = cd_fast.enet_coordinate_descent(\n"
     ]
    },
    {
     "name": "stderr",
     "output_type": "stream",
     "text": [
      "c:\\users\\kechi\\appdata\\local\\programs\\python\\python39\\lib\\site-packages\\sklearn\\linear_model\\_coordinate_descent.py:530: ConvergenceWarning: Objective did not converge. You might want to increase the number of iterations. Duality gap: 37.2757089125202, tolerance: 0.5057422924901187\n",
      "  model = cd_fast.enet_coordinate_descent(\n",
      "c:\\users\\kechi\\appdata\\local\\programs\\python\\python39\\lib\\site-packages\\sklearn\\linear_model\\_coordinate_descent.py:530: ConvergenceWarning: Objective did not converge. You might want to increase the number of iterations. Duality gap: 903.1557418391842, tolerance: 0.5122650793650796\n",
      "  model = cd_fast.enet_coordinate_descent(\n",
      "c:\\users\\kechi\\appdata\\local\\programs\\python\\python39\\lib\\site-packages\\sklearn\\linear_model\\_coordinate_descent.py:530: ConvergenceWarning: Objective did not converge. You might want to increase the number of iterations. Duality gap: 948.4240115136405, tolerance: 0.5290632411067191\n",
      "  model = cd_fast.enet_coordinate_descent(\n",
      "c:\\users\\kechi\\appdata\\local\\programs\\python\\python39\\lib\\site-packages\\sklearn\\linear_model\\_coordinate_descent.py:530: ConvergenceWarning: Objective did not converge. You might want to increase the number of iterations. Duality gap: 916.9967081078352, tolerance: 0.5188039525691701\n",
      "  model = cd_fast.enet_coordinate_descent(\n",
      "c:\\users\\kechi\\appdata\\local\\programs\\python\\python39\\lib\\site-packages\\sklearn\\linear_model\\_coordinate_descent.py:530: ConvergenceWarning: Objective did not converge. You might want to increase the number of iterations. Duality gap: 943.3788831042965, tolerance: 0.5432181818181822\n",
      "  model = cd_fast.enet_coordinate_descent(\n",
      "c:\\users\\kechi\\appdata\\local\\programs\\python\\python39\\lib\\site-packages\\sklearn\\linear_model\\_coordinate_descent.py:530: ConvergenceWarning: Objective did not converge. You might want to increase the number of iterations. Duality gap: 963.7599768358617, tolerance: 0.5057422924901187\n",
      "  model = cd_fast.enet_coordinate_descent(\n",
      "c:\\users\\kechi\\appdata\\local\\programs\\python\\python39\\lib\\site-packages\\sklearn\\linear_model\\_coordinate_descent.py:530: ConvergenceWarning: Objective did not converge. You might want to increase the number of iterations. Duality gap: 183.17837590881697, tolerance: 0.5122650793650796\n",
      "  model = cd_fast.enet_coordinate_descent(\n",
      "c:\\users\\kechi\\appdata\\local\\programs\\python\\python39\\lib\\site-packages\\sklearn\\linear_model\\_coordinate_descent.py:530: ConvergenceWarning: Objective did not converge. You might want to increase the number of iterations. Duality gap: 193.16211827906068, tolerance: 0.5290632411067191\n",
      "  model = cd_fast.enet_coordinate_descent(\n",
      "c:\\users\\kechi\\appdata\\local\\programs\\python\\python39\\lib\\site-packages\\sklearn\\linear_model\\_coordinate_descent.py:530: ConvergenceWarning: Objective did not converge. You might want to increase the number of iterations. Duality gap: 191.73797979925854, tolerance: 0.5188039525691701\n",
      "  model = cd_fast.enet_coordinate_descent(\n",
      "c:\\users\\kechi\\appdata\\local\\programs\\python\\python39\\lib\\site-packages\\sklearn\\linear_model\\_coordinate_descent.py:530: ConvergenceWarning: Objective did not converge. You might want to increase the number of iterations. Duality gap: 206.25622676749518, tolerance: 0.5432181818181822\n",
      "  model = cd_fast.enet_coordinate_descent(\n",
      "c:\\users\\kechi\\appdata\\local\\programs\\python\\python39\\lib\\site-packages\\sklearn\\linear_model\\_coordinate_descent.py:530: ConvergenceWarning: Objective did not converge. You might want to increase the number of iterations. Duality gap: 190.6363647457554, tolerance: 0.5057422924901187\n",
      "  model = cd_fast.enet_coordinate_descent(\n",
      "c:\\users\\kechi\\appdata\\local\\programs\\python\\python39\\lib\\site-packages\\sklearn\\linear_model\\_coordinate_descent.py:530: ConvergenceWarning: Objective did not converge. You might want to increase the number of iterations. Duality gap: 27.890203989262446, tolerance: 0.5122650793650796\n",
      "  model = cd_fast.enet_coordinate_descent(\n",
      "c:\\users\\kechi\\appdata\\local\\programs\\python\\python39\\lib\\site-packages\\sklearn\\linear_model\\_coordinate_descent.py:530: ConvergenceWarning: Objective did not converge. You might want to increase the number of iterations. Duality gap: 29.54339655367106, tolerance: 0.5290632411067191\n",
      "  model = cd_fast.enet_coordinate_descent(\n",
      "c:\\users\\kechi\\appdata\\local\\programs\\python\\python39\\lib\\site-packages\\sklearn\\linear_model\\_coordinate_descent.py:530: ConvergenceWarning: Objective did not converge. You might want to increase the number of iterations. Duality gap: 34.28543959894161, tolerance: 0.5188039525691701\n",
      "  model = cd_fast.enet_coordinate_descent(\n",
      "c:\\users\\kechi\\appdata\\local\\programs\\python\\python39\\lib\\site-packages\\sklearn\\linear_model\\_coordinate_descent.py:530: ConvergenceWarning: Objective did not converge. You might want to increase the number of iterations. Duality gap: 35.11522650532446, tolerance: 0.5432181818181822\n",
      "  model = cd_fast.enet_coordinate_descent(\n",
      "c:\\users\\kechi\\appdata\\local\\programs\\python\\python39\\lib\\site-packages\\sklearn\\linear_model\\_coordinate_descent.py:530: ConvergenceWarning: Objective did not converge. You might want to increase the number of iterations. Duality gap: 28.558536514243457, tolerance: 0.5057422924901187\n",
      "  model = cd_fast.enet_coordinate_descent(\n",
      "c:\\users\\kechi\\appdata\\local\\programs\\python\\python39\\lib\\site-packages\\sklearn\\linear_model\\_coordinate_descent.py:530: ConvergenceWarning: Objective did not converge. You might want to increase the number of iterations. Duality gap: 918.5390610798324, tolerance: 0.5122650793650796\n",
      "  model = cd_fast.enet_coordinate_descent(\n",
      "c:\\users\\kechi\\appdata\\local\\programs\\python\\python39\\lib\\site-packages\\sklearn\\linear_model\\_coordinate_descent.py:530: ConvergenceWarning: Objective did not converge. You might want to increase the number of iterations. Duality gap: 961.0584685834318, tolerance: 0.5290632411067191\n",
      "  model = cd_fast.enet_coordinate_descent(\n",
      "c:\\users\\kechi\\appdata\\local\\programs\\python\\python39\\lib\\site-packages\\sklearn\\linear_model\\_coordinate_descent.py:530: ConvergenceWarning: Objective did not converge. You might want to increase the number of iterations. Duality gap: 930.2645134201041, tolerance: 0.5188039525691701\n",
      "  model = cd_fast.enet_coordinate_descent(\n",
      "c:\\users\\kechi\\appdata\\local\\programs\\python\\python39\\lib\\site-packages\\sklearn\\linear_model\\_coordinate_descent.py:530: ConvergenceWarning: Objective did not converge. You might want to increase the number of iterations. Duality gap: 957.4031193071485, tolerance: 0.5432181818181822\n",
      "  model = cd_fast.enet_coordinate_descent(\n",
      "c:\\users\\kechi\\appdata\\local\\programs\\python\\python39\\lib\\site-packages\\sklearn\\linear_model\\_coordinate_descent.py:530: ConvergenceWarning: Objective did not converge. You might want to increase the number of iterations. Duality gap: 979.0698328590447, tolerance: 0.5057422924901187\n",
      "  model = cd_fast.enet_coordinate_descent(\n",
      "c:\\users\\kechi\\appdata\\local\\programs\\python\\python39\\lib\\site-packages\\sklearn\\linear_model\\_coordinate_descent.py:530: ConvergenceWarning: Objective did not converge. You might want to increase the number of iterations. Duality gap: 182.6435155621713, tolerance: 0.5122650793650796\n",
      "  model = cd_fast.enet_coordinate_descent(\n",
      "c:\\users\\kechi\\appdata\\local\\programs\\python\\python39\\lib\\site-packages\\sklearn\\linear_model\\_coordinate_descent.py:530: ConvergenceWarning: Objective did not converge. You might want to increase the number of iterations. Duality gap: 190.79398033465793, tolerance: 0.5290632411067191\n",
      "  model = cd_fast.enet_coordinate_descent(\n",
      "c:\\users\\kechi\\appdata\\local\\programs\\python\\python39\\lib\\site-packages\\sklearn\\linear_model\\_coordinate_descent.py:530: ConvergenceWarning: Objective did not converge. You might want to increase the number of iterations. Duality gap: 191.72751429110897, tolerance: 0.5188039525691701\n",
      "  model = cd_fast.enet_coordinate_descent(\n",
      "c:\\users\\kechi\\appdata\\local\\programs\\python\\python39\\lib\\site-packages\\sklearn\\linear_model\\_coordinate_descent.py:530: ConvergenceWarning: Objective did not converge. You might want to increase the number of iterations. Duality gap: 205.308655205924, tolerance: 0.5432181818181822\n",
      "  model = cd_fast.enet_coordinate_descent(\n",
      "c:\\users\\kechi\\appdata\\local\\programs\\python\\python39\\lib\\site-packages\\sklearn\\linear_model\\_coordinate_descent.py:530: ConvergenceWarning: Objective did not converge. You might want to increase the number of iterations. Duality gap: 190.17863622777676, tolerance: 0.5057422924901187\n",
      "  model = cd_fast.enet_coordinate_descent(\n",
      "c:\\users\\kechi\\appdata\\local\\programs\\python\\python39\\lib\\site-packages\\sklearn\\linear_model\\_coordinate_descent.py:530: ConvergenceWarning: Objective did not converge. You might want to increase the number of iterations. Duality gap: 26.448614562202394, tolerance: 0.5122650793650796\n",
      "  model = cd_fast.enet_coordinate_descent(\n",
      "c:\\users\\kechi\\appdata\\local\\programs\\python\\python39\\lib\\site-packages\\sklearn\\linear_model\\_coordinate_descent.py:530: ConvergenceWarning: Objective did not converge. You might want to increase the number of iterations. Duality gap: 31.119395565057047, tolerance: 0.5290632411067191\n",
      "  model = cd_fast.enet_coordinate_descent(\n",
      "c:\\users\\kechi\\appdata\\local\\programs\\python\\python39\\lib\\site-packages\\sklearn\\linear_model\\_coordinate_descent.py:530: ConvergenceWarning: Objective did not converge. You might want to increase the number of iterations. Duality gap: 34.93823833393242, tolerance: 0.5188039525691701\n",
      "  model = cd_fast.enet_coordinate_descent(\n",
      "c:\\users\\kechi\\appdata\\local\\programs\\python\\python39\\lib\\site-packages\\sklearn\\linear_model\\_coordinate_descent.py:530: ConvergenceWarning: Objective did not converge. You might want to increase the number of iterations. Duality gap: 32.90914413771039, tolerance: 0.5432181818181822\n",
      "  model = cd_fast.enet_coordinate_descent(\n",
      "c:\\users\\kechi\\appdata\\local\\programs\\python\\python39\\lib\\site-packages\\sklearn\\linear_model\\_coordinate_descent.py:530: ConvergenceWarning: Objective did not converge. You might want to increase the number of iterations. Duality gap: 29.88032387080191, tolerance: 0.5057422924901187\n",
      "  model = cd_fast.enet_coordinate_descent(\n",
      "c:\\users\\kechi\\appdata\\local\\programs\\python\\python39\\lib\\site-packages\\sklearn\\linear_model\\_coordinate_descent.py:530: ConvergenceWarning: Objective did not converge. You might want to increase the number of iterations. Duality gap: 933.4281480211447, tolerance: 0.5122650793650796\n",
      "  model = cd_fast.enet_coordinate_descent(\n",
      "c:\\users\\kechi\\appdata\\local\\programs\\python\\python39\\lib\\site-packages\\sklearn\\linear_model\\_coordinate_descent.py:530: ConvergenceWarning: Objective did not converge. You might want to increase the number of iterations. Duality gap: 973.2395990563313, tolerance: 0.5290632411067191\n",
      "  model = cd_fast.enet_coordinate_descent(\n",
      "c:\\users\\kechi\\appdata\\local\\programs\\python\\python39\\lib\\site-packages\\sklearn\\linear_model\\_coordinate_descent.py:530: ConvergenceWarning: Objective did not converge. You might want to increase the number of iterations. Duality gap: 943.4113797038956, tolerance: 0.5188039525691701\n",
      "  model = cd_fast.enet_coordinate_descent(\n",
      "c:\\users\\kechi\\appdata\\local\\programs\\python\\python39\\lib\\site-packages\\sklearn\\linear_model\\_coordinate_descent.py:530: ConvergenceWarning: Objective did not converge. You might want to increase the number of iterations. Duality gap: 970.7984842457554, tolerance: 0.5432181818181822\n",
      "  model = cd_fast.enet_coordinate_descent(\n",
      "c:\\users\\kechi\\appdata\\local\\programs\\python\\python39\\lib\\site-packages\\sklearn\\linear_model\\_coordinate_descent.py:530: ConvergenceWarning: Objective did not converge. You might want to increase the number of iterations. Duality gap: 993.9486525074918, tolerance: 0.5057422924901187\n",
      "  model = cd_fast.enet_coordinate_descent(\n",
      "c:\\users\\kechi\\appdata\\local\\programs\\python\\python39\\lib\\site-packages\\sklearn\\linear_model\\_coordinate_descent.py:530: ConvergenceWarning: Objective did not converge. You might want to increase the number of iterations. Duality gap: 182.70916999449977, tolerance: 0.5122650793650796\n",
      "  model = cd_fast.enet_coordinate_descent(\n",
      "c:\\users\\kechi\\appdata\\local\\programs\\python\\python39\\lib\\site-packages\\sklearn\\linear_model\\_coordinate_descent.py:530: ConvergenceWarning: Objective did not converge. You might want to increase the number of iterations. Duality gap: 189.17624198225178, tolerance: 0.5290632411067191\n",
      "  model = cd_fast.enet_coordinate_descent(\n",
      "c:\\users\\kechi\\appdata\\local\\programs\\python\\python39\\lib\\site-packages\\sklearn\\linear_model\\_coordinate_descent.py:530: ConvergenceWarning: Objective did not converge. You might want to increase the number of iterations. Duality gap: 191.69864590469257, tolerance: 0.5188039525691701\n",
      "  model = cd_fast.enet_coordinate_descent(\n",
      "c:\\users\\kechi\\appdata\\local\\programs\\python\\python39\\lib\\site-packages\\sklearn\\linear_model\\_coordinate_descent.py:530: ConvergenceWarning: Objective did not converge. You might want to increase the number of iterations. Duality gap: 204.25406164937692, tolerance: 0.5432181818181822\n",
      "  model = cd_fast.enet_coordinate_descent(\n"
     ]
    },
    {
     "name": "stderr",
     "output_type": "stream",
     "text": [
      "c:\\users\\kechi\\appdata\\local\\programs\\python\\python39\\lib\\site-packages\\sklearn\\linear_model\\_coordinate_descent.py:530: ConvergenceWarning: Objective did not converge. You might want to increase the number of iterations. Duality gap: 190.1032219646536, tolerance: 0.5057422924901187\n",
      "  model = cd_fast.enet_coordinate_descent(\n",
      "c:\\users\\kechi\\appdata\\local\\programs\\python\\python39\\lib\\site-packages\\sklearn\\linear_model\\_coordinate_descent.py:530: ConvergenceWarning: Objective did not converge. You might want to increase the number of iterations. Duality gap: 27.58248958016049, tolerance: 0.5122650793650796\n",
      "  model = cd_fast.enet_coordinate_descent(\n",
      "c:\\users\\kechi\\appdata\\local\\programs\\python\\python39\\lib\\site-packages\\sklearn\\linear_model\\_coordinate_descent.py:530: ConvergenceWarning: Objective did not converge. You might want to increase the number of iterations. Duality gap: 31.75128930446369, tolerance: 0.5290632411067191\n",
      "  model = cd_fast.enet_coordinate_descent(\n",
      "c:\\users\\kechi\\appdata\\local\\programs\\python\\python39\\lib\\site-packages\\sklearn\\linear_model\\_coordinate_descent.py:530: ConvergenceWarning: Objective did not converge. You might want to increase the number of iterations. Duality gap: 37.046567866240174, tolerance: 0.5188039525691701\n",
      "  model = cd_fast.enet_coordinate_descent(\n",
      "c:\\users\\kechi\\appdata\\local\\programs\\python\\python39\\lib\\site-packages\\sklearn\\linear_model\\_coordinate_descent.py:530: ConvergenceWarning: Objective did not converge. You might want to increase the number of iterations. Duality gap: 34.258284203489914, tolerance: 0.5432181818181822\n",
      "  model = cd_fast.enet_coordinate_descent(\n",
      "c:\\users\\kechi\\appdata\\local\\programs\\python\\python39\\lib\\site-packages\\sklearn\\linear_model\\_coordinate_descent.py:530: ConvergenceWarning: Objective did not converge. You might want to increase the number of iterations. Duality gap: 31.19724623540921, tolerance: 0.5057422924901187\n",
      "  model = cd_fast.enet_coordinate_descent(\n",
      "c:\\users\\kechi\\appdata\\local\\programs\\python\\python39\\lib\\site-packages\\sklearn\\linear_model\\_coordinate_descent.py:530: ConvergenceWarning: Objective did not converge. You might want to increase the number of iterations. Duality gap: 947.8536551838903, tolerance: 0.5122650793650796\n",
      "  model = cd_fast.enet_coordinate_descent(\n",
      "c:\\users\\kechi\\appdata\\local\\programs\\python\\python39\\lib\\site-packages\\sklearn\\linear_model\\_coordinate_descent.py:530: ConvergenceWarning: Objective did not converge. You might want to increase the number of iterations. Duality gap: 984.9831003026511, tolerance: 0.5290632411067191\n",
      "  model = cd_fast.enet_coordinate_descent(\n",
      "c:\\users\\kechi\\appdata\\local\\programs\\python\\python39\\lib\\site-packages\\sklearn\\linear_model\\_coordinate_descent.py:530: ConvergenceWarning: Objective did not converge. You might want to increase the number of iterations. Duality gap: 956.1485991821655, tolerance: 0.5188039525691701\n",
      "  model = cd_fast.enet_coordinate_descent(\n",
      "c:\\users\\kechi\\appdata\\local\\programs\\python\\python39\\lib\\site-packages\\sklearn\\linear_model\\_coordinate_descent.py:530: ConvergenceWarning: Objective did not converge. You might want to increase the number of iterations. Duality gap: 983.5466188622452, tolerance: 0.5432181818181822\n",
      "  model = cd_fast.enet_coordinate_descent(\n",
      "c:\\users\\kechi\\appdata\\local\\programs\\python\\python39\\lib\\site-packages\\sklearn\\linear_model\\_coordinate_descent.py:530: ConvergenceWarning: Objective did not converge. You might want to increase the number of iterations. Duality gap: 1007.9687064438772, tolerance: 0.5057422924901187\n",
      "  model = cd_fast.enet_coordinate_descent(\n",
      "c:\\users\\kechi\\appdata\\local\\programs\\python\\python39\\lib\\site-packages\\sklearn\\linear_model\\_coordinate_descent.py:530: ConvergenceWarning: Objective did not converge. You might want to increase the number of iterations. Duality gap: 183.558128607406, tolerance: 0.5122650793650796\n",
      "  model = cd_fast.enet_coordinate_descent(\n",
      "c:\\users\\kechi\\appdata\\local\\programs\\python\\python39\\lib\\site-packages\\sklearn\\linear_model\\_coordinate_descent.py:530: ConvergenceWarning: Objective did not converge. You might want to increase the number of iterations. Duality gap: 189.8765147011946, tolerance: 0.5290632411067191\n",
      "  model = cd_fast.enet_coordinate_descent(\n",
      "c:\\users\\kechi\\appdata\\local\\programs\\python\\python39\\lib\\site-packages\\sklearn\\linear_model\\_coordinate_descent.py:530: ConvergenceWarning: Objective did not converge. You might want to increase the number of iterations. Duality gap: 192.5568410372772, tolerance: 0.5188039525691701\n",
      "  model = cd_fast.enet_coordinate_descent(\n",
      "c:\\users\\kechi\\appdata\\local\\programs\\python\\python39\\lib\\site-packages\\sklearn\\linear_model\\_coordinate_descent.py:530: ConvergenceWarning: Objective did not converge. You might want to increase the number of iterations. Duality gap: 204.06181402506593, tolerance: 0.5432181818181822\n",
      "  model = cd_fast.enet_coordinate_descent(\n",
      "c:\\users\\kechi\\appdata\\local\\programs\\python\\python39\\lib\\site-packages\\sklearn\\linear_model\\_coordinate_descent.py:530: ConvergenceWarning: Objective did not converge. You might want to increase the number of iterations. Duality gap: 190.68265435586557, tolerance: 0.5057422924901187\n",
      "  model = cd_fast.enet_coordinate_descent(\n",
      "c:\\users\\kechi\\appdata\\local\\programs\\python\\python39\\lib\\site-packages\\sklearn\\linear_model\\_coordinate_descent.py:530: ConvergenceWarning: Objective did not converge. You might want to increase the number of iterations. Duality gap: 28.752129620055342, tolerance: 0.5122650793650796\n",
      "  model = cd_fast.enet_coordinate_descent(\n",
      "c:\\users\\kechi\\appdata\\local\\programs\\python\\python39\\lib\\site-packages\\sklearn\\linear_model\\_coordinate_descent.py:530: ConvergenceWarning: Objective did not converge. You might want to increase the number of iterations. Duality gap: 30.71333358476111, tolerance: 0.5290632411067191\n",
      "  model = cd_fast.enet_coordinate_descent(\n",
      "c:\\users\\kechi\\appdata\\local\\programs\\python\\python39\\lib\\site-packages\\sklearn\\linear_model\\_coordinate_descent.py:530: ConvergenceWarning: Objective did not converge. You might want to increase the number of iterations. Duality gap: 39.227847013114264, tolerance: 0.5188039525691701\n",
      "  model = cd_fast.enet_coordinate_descent(\n",
      "c:\\users\\kechi\\appdata\\local\\programs\\python\\python39\\lib\\site-packages\\sklearn\\linear_model\\_coordinate_descent.py:530: ConvergenceWarning: Objective did not converge. You might want to increase the number of iterations. Duality gap: 35.556900166538654, tolerance: 0.5432181818181822\n",
      "  model = cd_fast.enet_coordinate_descent(\n",
      "c:\\users\\kechi\\appdata\\local\\programs\\python\\python39\\lib\\site-packages\\sklearn\\linear_model\\_coordinate_descent.py:530: ConvergenceWarning: Objective did not converge. You might want to increase the number of iterations. Duality gap: 32.77608901937709, tolerance: 0.5057422924901187\n",
      "  model = cd_fast.enet_coordinate_descent(\n",
      "c:\\users\\kechi\\appdata\\local\\programs\\python\\python39\\lib\\site-packages\\sklearn\\linear_model\\_coordinate_descent.py:530: ConvergenceWarning: Objective did not converge. You might want to increase the number of iterations. Duality gap: 961.8292908946527, tolerance: 0.5122650793650796\n",
      "  model = cd_fast.enet_coordinate_descent(\n",
      "c:\\users\\kechi\\appdata\\local\\programs\\python\\python39\\lib\\site-packages\\sklearn\\linear_model\\_coordinate_descent.py:530: ConvergenceWarning: Objective did not converge. You might want to increase the number of iterations. Duality gap: 996.3273321971153, tolerance: 0.5290632411067191\n",
      "  model = cd_fast.enet_coordinate_descent(\n",
      "c:\\users\\kechi\\appdata\\local\\programs\\python\\python39\\lib\\site-packages\\sklearn\\linear_model\\_coordinate_descent.py:530: ConvergenceWarning: Objective did not converge. You might want to increase the number of iterations. Duality gap: 968.4888355979715, tolerance: 0.5188039525691701\n",
      "  model = cd_fast.enet_coordinate_descent(\n",
      "c:\\users\\kechi\\appdata\\local\\programs\\python\\python39\\lib\\site-packages\\sklearn\\linear_model\\_coordinate_descent.py:530: ConvergenceWarning: Objective did not converge. You might want to increase the number of iterations. Duality gap: 995.7246035234344, tolerance: 0.5432181818181822\n",
      "  model = cd_fast.enet_coordinate_descent(\n",
      "c:\\users\\kechi\\appdata\\local\\programs\\python\\python39\\lib\\site-packages\\sklearn\\linear_model\\_coordinate_descent.py:530: ConvergenceWarning: Objective did not converge. You might want to increase the number of iterations. Duality gap: 1021.9870067592481, tolerance: 0.5057422924901187\n",
      "  model = cd_fast.enet_coordinate_descent(\n",
      "c:\\users\\kechi\\appdata\\local\\programs\\python\\python39\\lib\\site-packages\\sklearn\\linear_model\\_coordinate_descent.py:530: ConvergenceWarning: Objective did not converge. You might want to increase the number of iterations. Duality gap: 185.72200744475379, tolerance: 0.5122650793650796\n",
      "  model = cd_fast.enet_coordinate_descent(\n",
      "c:\\users\\kechi\\appdata\\local\\programs\\python\\python39\\lib\\site-packages\\sklearn\\linear_model\\_coordinate_descent.py:530: ConvergenceWarning: Objective did not converge. You might want to increase the number of iterations. Duality gap: 190.53609144744692, tolerance: 0.5290632411067191\n",
      "  model = cd_fast.enet_coordinate_descent(\n",
      "c:\\users\\kechi\\appdata\\local\\programs\\python\\python39\\lib\\site-packages\\sklearn\\linear_model\\_coordinate_descent.py:530: ConvergenceWarning: Objective did not converge. You might want to increase the number of iterations. Duality gap: 194.49369693943925, tolerance: 0.5188039525691701\n",
      "  model = cd_fast.enet_coordinate_descent(\n",
      "c:\\users\\kechi\\appdata\\local\\programs\\python\\python39\\lib\\site-packages\\sklearn\\linear_model\\_coordinate_descent.py:530: ConvergenceWarning: Objective did not converge. You might want to increase the number of iterations. Duality gap: 205.67722693307945, tolerance: 0.5432181818181822\n",
      "  model = cd_fast.enet_coordinate_descent(\n"
     ]
    },
    {
     "name": "stderr",
     "output_type": "stream",
     "text": [
      "c:\\users\\kechi\\appdata\\local\\programs\\python\\python39\\lib\\site-packages\\sklearn\\linear_model\\_coordinate_descent.py:530: ConvergenceWarning: Objective did not converge. You might want to increase the number of iterations. Duality gap: 192.27182223311456, tolerance: 0.5057422924901187\n",
      "  model = cd_fast.enet_coordinate_descent(\n",
      "c:\\users\\kechi\\appdata\\local\\programs\\python\\python39\\lib\\site-packages\\sklearn\\linear_model\\_coordinate_descent.py:530: ConvergenceWarning: Objective did not converge. You might want to increase the number of iterations. Duality gap: 29.863734050361728, tolerance: 0.5122650793650796\n",
      "  model = cd_fast.enet_coordinate_descent(\n",
      "c:\\users\\kechi\\appdata\\local\\programs\\python\\python39\\lib\\site-packages\\sklearn\\linear_model\\_coordinate_descent.py:530: ConvergenceWarning: Objective did not converge. You might want to increase the number of iterations. Duality gap: 31.361929758565985, tolerance: 0.5290632411067191\n",
      "  model = cd_fast.enet_coordinate_descent(\n",
      "c:\\users\\kechi\\appdata\\local\\programs\\python\\python39\\lib\\site-packages\\sklearn\\linear_model\\_coordinate_descent.py:530: ConvergenceWarning: Objective did not converge. You might want to increase the number of iterations. Duality gap: 41.54644810421653, tolerance: 0.5188039525691701\n",
      "  model = cd_fast.enet_coordinate_descent(\n",
      "c:\\users\\kechi\\appdata\\local\\programs\\python\\python39\\lib\\site-packages\\sklearn\\linear_model\\_coordinate_descent.py:530: ConvergenceWarning: Objective did not converge. You might want to increase the number of iterations. Duality gap: 36.5268021248671, tolerance: 0.5432181818181822\n",
      "  model = cd_fast.enet_coordinate_descent(\n",
      "c:\\users\\kechi\\appdata\\local\\programs\\python\\python39\\lib\\site-packages\\sklearn\\linear_model\\_coordinate_descent.py:530: ConvergenceWarning: Objective did not converge. You might want to increase the number of iterations. Duality gap: 34.3545168372102, tolerance: 0.5057422924901187\n",
      "  model = cd_fast.enet_coordinate_descent(\n",
      "c:\\users\\kechi\\appdata\\local\\programs\\python\\python39\\lib\\site-packages\\sklearn\\linear_model\\_coordinate_descent.py:530: ConvergenceWarning: Objective did not converge. You might want to increase the number of iterations. Duality gap: 1129.4556094007035, tolerance: 0.5122650793650796\n",
      "  model = cd_fast.enet_coordinate_descent(\n",
      "c:\\users\\kechi\\appdata\\local\\programs\\python\\python39\\lib\\site-packages\\sklearn\\linear_model\\_coordinate_descent.py:530: ConvergenceWarning: Objective did not converge. You might want to increase the number of iterations. Duality gap: 1176.0177184745223, tolerance: 0.5290632411067191\n",
      "  model = cd_fast.enet_coordinate_descent(\n",
      "c:\\users\\kechi\\appdata\\local\\programs\\python\\python39\\lib\\site-packages\\sklearn\\linear_model\\_coordinate_descent.py:530: ConvergenceWarning: Objective did not converge. You might want to increase the number of iterations. Duality gap: 1141.027526619849, tolerance: 0.5188039525691701\n",
      "  model = cd_fast.enet_coordinate_descent(\n",
      "c:\\users\\kechi\\appdata\\local\\programs\\python\\python39\\lib\\site-packages\\sklearn\\linear_model\\_coordinate_descent.py:530: ConvergenceWarning: Objective did not converge. You might want to increase the number of iterations. Duality gap: 1196.9728287714706, tolerance: 0.5432181818181822\n",
      "  model = cd_fast.enet_coordinate_descent(\n",
      "c:\\users\\kechi\\appdata\\local\\programs\\python\\python39\\lib\\site-packages\\sklearn\\linear_model\\_coordinate_descent.py:530: ConvergenceWarning: Objective did not converge. You might want to increase the number of iterations. Duality gap: 1147.0778612857373, tolerance: 0.5057422924901187\n",
      "  model = cd_fast.enet_coordinate_descent(\n",
      "c:\\users\\kechi\\appdata\\local\\programs\\python\\python39\\lib\\site-packages\\sklearn\\linear_model\\_coordinate_descent.py:530: ConvergenceWarning: Objective did not converge. You might want to increase the number of iterations. Duality gap: 809.5106842221339, tolerance: 0.5122650793650796\n",
      "  model = cd_fast.enet_coordinate_descent(\n",
      "c:\\users\\kechi\\appdata\\local\\programs\\python\\python39\\lib\\site-packages\\sklearn\\linear_model\\_coordinate_descent.py:530: ConvergenceWarning: Objective did not converge. You might want to increase the number of iterations. Duality gap: 807.2031052198331, tolerance: 0.5290632411067191\n",
      "  model = cd_fast.enet_coordinate_descent(\n",
      "c:\\users\\kechi\\appdata\\local\\programs\\python\\python39\\lib\\site-packages\\sklearn\\linear_model\\_coordinate_descent.py:530: ConvergenceWarning: Objective did not converge. You might want to increase the number of iterations. Duality gap: 779.1905612613348, tolerance: 0.5188039525691701\n",
      "  model = cd_fast.enet_coordinate_descent(\n",
      "c:\\users\\kechi\\appdata\\local\\programs\\python\\python39\\lib\\site-packages\\sklearn\\linear_model\\_coordinate_descent.py:530: ConvergenceWarning: Objective did not converge. You might want to increase the number of iterations. Duality gap: 804.052233313517, tolerance: 0.5432181818181822\n",
      "  model = cd_fast.enet_coordinate_descent(\n",
      "c:\\users\\kechi\\appdata\\local\\programs\\python\\python39\\lib\\site-packages\\sklearn\\linear_model\\_coordinate_descent.py:530: ConvergenceWarning: Objective did not converge. You might want to increase the number of iterations. Duality gap: 786.6087287908198, tolerance: 0.5057422924901187\n",
      "  model = cd_fast.enet_coordinate_descent(\n",
      "c:\\users\\kechi\\appdata\\local\\programs\\python\\python39\\lib\\site-packages\\sklearn\\linear_model\\_coordinate_descent.py:530: ConvergenceWarning: Objective did not converge. You might want to increase the number of iterations. Duality gap: 809.4770692278796, tolerance: 0.5122650793650796\n",
      "  model = cd_fast.enet_coordinate_descent(\n",
      "c:\\users\\kechi\\appdata\\local\\programs\\python\\python39\\lib\\site-packages\\sklearn\\linear_model\\_coordinate_descent.py:530: ConvergenceWarning: Objective did not converge. You might want to increase the number of iterations. Duality gap: 807.1418690292116, tolerance: 0.5290632411067191\n",
      "  model = cd_fast.enet_coordinate_descent(\n",
      "c:\\users\\kechi\\appdata\\local\\programs\\python\\python39\\lib\\site-packages\\sklearn\\linear_model\\_coordinate_descent.py:530: ConvergenceWarning: Objective did not converge. You might want to increase the number of iterations. Duality gap: 779.1141066436076, tolerance: 0.5188039525691701\n",
      "  model = cd_fast.enet_coordinate_descent(\n",
      "c:\\users\\kechi\\appdata\\local\\programs\\python\\python39\\lib\\site-packages\\sklearn\\linear_model\\_coordinate_descent.py:530: ConvergenceWarning: Objective did not converge. You might want to increase the number of iterations. Duality gap: 803.9381618603132, tolerance: 0.5432181818181822\n",
      "  model = cd_fast.enet_coordinate_descent(\n",
      "c:\\users\\kechi\\appdata\\local\\programs\\python\\python39\\lib\\site-packages\\sklearn\\linear_model\\_coordinate_descent.py:530: ConvergenceWarning: Objective did not converge. You might want to increase the number of iterations. Duality gap: 786.5346619936967, tolerance: 0.5057422924901187\n",
      "  model = cd_fast.enet_coordinate_descent(\n",
      "c:\\users\\kechi\\appdata\\local\\programs\\python\\python39\\lib\\site-packages\\sklearn\\linear_model\\_coordinate_descent.py:530: ConvergenceWarning: Objective did not converge. You might want to increase the number of iterations. Duality gap: 1169.8541426102497, tolerance: 0.5122650793650796\n",
      "  model = cd_fast.enet_coordinate_descent(\n",
      "c:\\users\\kechi\\appdata\\local\\programs\\python\\python39\\lib\\site-packages\\sklearn\\linear_model\\_coordinate_descent.py:530: ConvergenceWarning: Objective did not converge. You might want to increase the number of iterations. Duality gap: 1216.7148527901832, tolerance: 0.5290632411067191\n",
      "  model = cd_fast.enet_coordinate_descent(\n",
      "c:\\users\\kechi\\appdata\\local\\programs\\python\\python39\\lib\\site-packages\\sklearn\\linear_model\\_coordinate_descent.py:530: ConvergenceWarning: Objective did not converge. You might want to increase the number of iterations. Duality gap: 1187.2485746770506, tolerance: 0.5188039525691701\n",
      "  model = cd_fast.enet_coordinate_descent(\n",
      "c:\\users\\kechi\\appdata\\local\\programs\\python\\python39\\lib\\site-packages\\sklearn\\linear_model\\_coordinate_descent.py:530: ConvergenceWarning: Objective did not converge. You might want to increase the number of iterations. Duality gap: 1248.3407753231286, tolerance: 0.5432181818181822\n",
      "  model = cd_fast.enet_coordinate_descent(\n",
      "c:\\users\\kechi\\appdata\\local\\programs\\python\\python39\\lib\\site-packages\\sklearn\\linear_model\\_coordinate_descent.py:530: ConvergenceWarning: Objective did not converge. You might want to increase the number of iterations. Duality gap: 1184.5009813891636, tolerance: 0.5057422924901187\n",
      "  model = cd_fast.enet_coordinate_descent(\n",
      "c:\\users\\kechi\\appdata\\local\\programs\\python\\python39\\lib\\site-packages\\sklearn\\linear_model\\_coordinate_descent.py:530: ConvergenceWarning: Objective did not converge. You might want to increase the number of iterations. Duality gap: 23.797877783795116, tolerance: 0.5122650793650796\n",
      "  model = cd_fast.enet_coordinate_descent(\n",
      "c:\\users\\kechi\\appdata\\local\\programs\\python\\python39\\lib\\site-packages\\sklearn\\linear_model\\_coordinate_descent.py:530: ConvergenceWarning: Objective did not converge. You might want to increase the number of iterations. Duality gap: 35.22645292512186, tolerance: 0.5290632411067191\n",
      "  model = cd_fast.enet_coordinate_descent(\n",
      "c:\\users\\kechi\\appdata\\local\\programs\\python\\python39\\lib\\site-packages\\sklearn\\linear_model\\_coordinate_descent.py:530: ConvergenceWarning: Objective did not converge. You might want to increase the number of iterations. Duality gap: 37.315385236519546, tolerance: 0.5188039525691701\n",
      "  model = cd_fast.enet_coordinate_descent(\n",
      "c:\\users\\kechi\\appdata\\local\\programs\\python\\python39\\lib\\site-packages\\sklearn\\linear_model\\_coordinate_descent.py:530: ConvergenceWarning: Objective did not converge. You might want to increase the number of iterations. Duality gap: 48.25523717926933, tolerance: 0.5432181818181822\n",
      "  model = cd_fast.enet_coordinate_descent(\n",
      "c:\\users\\kechi\\appdata\\local\\programs\\python\\python39\\lib\\site-packages\\sklearn\\linear_model\\_coordinate_descent.py:530: ConvergenceWarning: Objective did not converge. You might want to increase the number of iterations. Duality gap: 34.050468540971565, tolerance: 0.5057422924901187\n",
      "  model = cd_fast.enet_coordinate_descent(\n",
      "c:\\users\\kechi\\appdata\\local\\programs\\python\\python39\\lib\\site-packages\\sklearn\\linear_model\\_coordinate_descent.py:530: ConvergenceWarning: Objective did not converge. You might want to increase the number of iterations. Duality gap: 1184.396851366236, tolerance: 0.5122650793650796\n",
      "  model = cd_fast.enet_coordinate_descent(\n"
     ]
    },
    {
     "name": "stderr",
     "output_type": "stream",
     "text": [
      "c:\\users\\kechi\\appdata\\local\\programs\\python\\python39\\lib\\site-packages\\sklearn\\linear_model\\_coordinate_descent.py:530: ConvergenceWarning: Objective did not converge. You might want to increase the number of iterations. Duality gap: 1230.857577536944, tolerance: 0.5290632411067191\n",
      "  model = cd_fast.enet_coordinate_descent(\n",
      "c:\\users\\kechi\\appdata\\local\\programs\\python\\python39\\lib\\site-packages\\sklearn\\linear_model\\_coordinate_descent.py:530: ConvergenceWarning: Objective did not converge. You might want to increase the number of iterations. Duality gap: 1207.47430839031, tolerance: 0.5188039525691701\n",
      "  model = cd_fast.enet_coordinate_descent(\n",
      "c:\\users\\kechi\\appdata\\local\\programs\\python\\python39\\lib\\site-packages\\sklearn\\linear_model\\_coordinate_descent.py:530: ConvergenceWarning: Objective did not converge. You might want to increase the number of iterations. Duality gap: 1276.0484781645548, tolerance: 0.5432181818181822\n",
      "  model = cd_fast.enet_coordinate_descent(\n",
      "c:\\users\\kechi\\appdata\\local\\programs\\python\\python39\\lib\\site-packages\\sklearn\\linear_model\\_coordinate_descent.py:530: ConvergenceWarning: Objective did not converge. You might want to increase the number of iterations. Duality gap: 1202.0473288113599, tolerance: 0.5057422924901187\n",
      "  model = cd_fast.enet_coordinate_descent(\n",
      "c:\\users\\kechi\\appdata\\local\\programs\\python\\python39\\lib\\site-packages\\sklearn\\linear_model\\_coordinate_descent.py:530: ConvergenceWarning: Objective did not converge. You might want to increase the number of iterations. Duality gap: 18.534445804004577, tolerance: 0.5122650793650796\n",
      "  model = cd_fast.enet_coordinate_descent(\n",
      "c:\\users\\kechi\\appdata\\local\\programs\\python\\python39\\lib\\site-packages\\sklearn\\linear_model\\_coordinate_descent.py:530: ConvergenceWarning: Objective did not converge. You might want to increase the number of iterations. Duality gap: 24.53144561869533, tolerance: 0.5290632411067191\n",
      "  model = cd_fast.enet_coordinate_descent(\n",
      "c:\\users\\kechi\\appdata\\local\\programs\\python\\python39\\lib\\site-packages\\sklearn\\linear_model\\_coordinate_descent.py:530: ConvergenceWarning: Objective did not converge. You might want to increase the number of iterations. Duality gap: 23.980581653884087, tolerance: 0.5188039525691701\n",
      "  model = cd_fast.enet_coordinate_descent(\n",
      "c:\\users\\kechi\\appdata\\local\\programs\\python\\python39\\lib\\site-packages\\sklearn\\linear_model\\_coordinate_descent.py:530: ConvergenceWarning: Objective did not converge. You might want to increase the number of iterations. Duality gap: 30.352392801074984, tolerance: 0.5432181818181822\n",
      "  model = cd_fast.enet_coordinate_descent(\n",
      "c:\\users\\kechi\\appdata\\local\\programs\\python\\python39\\lib\\site-packages\\sklearn\\linear_model\\_coordinate_descent.py:530: ConvergenceWarning: Objective did not converge. You might want to increase the number of iterations. Duality gap: 22.00545533135096, tolerance: 0.5057422924901187\n",
      "  model = cd_fast.enet_coordinate_descent(\n",
      "c:\\users\\kechi\\appdata\\local\\programs\\python\\python39\\lib\\site-packages\\sklearn\\linear_model\\_coordinate_descent.py:530: ConvergenceWarning: Objective did not converge. You might want to increase the number of iterations. Duality gap: 1180.5402240875053, tolerance: 0.5122650793650796\n",
      "  model = cd_fast.enet_coordinate_descent(\n",
      "c:\\users\\kechi\\appdata\\local\\programs\\python\\python39\\lib\\site-packages\\sklearn\\linear_model\\_coordinate_descent.py:530: ConvergenceWarning: Objective did not converge. You might want to increase the number of iterations. Duality gap: 1231.857599968521, tolerance: 0.5290632411067191\n",
      "  model = cd_fast.enet_coordinate_descent(\n",
      "c:\\users\\kechi\\appdata\\local\\programs\\python\\python39\\lib\\site-packages\\sklearn\\linear_model\\_coordinate_descent.py:530: ConvergenceWarning: Objective did not converge. You might want to increase the number of iterations. Duality gap: 1208.3540299871156, tolerance: 0.5188039525691701\n",
      "  model = cd_fast.enet_coordinate_descent(\n",
      "c:\\users\\kechi\\appdata\\local\\programs\\python\\python39\\lib\\site-packages\\sklearn\\linear_model\\_coordinate_descent.py:530: ConvergenceWarning: Objective did not converge. You might want to increase the number of iterations. Duality gap: 1287.7674785891934, tolerance: 0.5432181818181822\n",
      "  model = cd_fast.enet_coordinate_descent(\n",
      "c:\\users\\kechi\\appdata\\local\\programs\\python\\python39\\lib\\site-packages\\sklearn\\linear_model\\_coordinate_descent.py:530: ConvergenceWarning: Objective did not converge. You might want to increase the number of iterations. Duality gap: 1200.678505124909, tolerance: 0.5057422924901187\n",
      "  model = cd_fast.enet_coordinate_descent(\n",
      "c:\\users\\kechi\\appdata\\local\\programs\\python\\python39\\lib\\site-packages\\sklearn\\linear_model\\_coordinate_descent.py:530: ConvergenceWarning: Objective did not converge. You might want to increase the number of iterations. Duality gap: 19.73254883873301, tolerance: 0.5122650793650796\n",
      "  model = cd_fast.enet_coordinate_descent(\n",
      "c:\\users\\kechi\\appdata\\local\\programs\\python\\python39\\lib\\site-packages\\sklearn\\linear_model\\_coordinate_descent.py:530: ConvergenceWarning: Objective did not converge. You might want to increase the number of iterations. Duality gap: 23.667736604321362, tolerance: 0.5290632411067191\n",
      "  model = cd_fast.enet_coordinate_descent(\n",
      "c:\\users\\kechi\\appdata\\local\\programs\\python\\python39\\lib\\site-packages\\sklearn\\linear_model\\_coordinate_descent.py:530: ConvergenceWarning: Objective did not converge. You might want to increase the number of iterations. Duality gap: 23.66206730237286, tolerance: 0.5188039525691701\n",
      "  model = cd_fast.enet_coordinate_descent(\n",
      "c:\\users\\kechi\\appdata\\local\\programs\\python\\python39\\lib\\site-packages\\sklearn\\linear_model\\_coordinate_descent.py:530: ConvergenceWarning: Objective did not converge. You might want to increase the number of iterations. Duality gap: 30.08693084724166, tolerance: 0.5432181818181822\n",
      "  model = cd_fast.enet_coordinate_descent(\n",
      "c:\\users\\kechi\\appdata\\local\\programs\\python\\python39\\lib\\site-packages\\sklearn\\linear_model\\_coordinate_descent.py:530: ConvergenceWarning: Objective did not converge. You might want to increase the number of iterations. Duality gap: 23.32169578175649, tolerance: 0.5057422924901187\n",
      "  model = cd_fast.enet_coordinate_descent(\n",
      "c:\\users\\kechi\\appdata\\local\\programs\\python\\python39\\lib\\site-packages\\sklearn\\linear_model\\_coordinate_descent.py:530: ConvergenceWarning: Objective did not converge. You might want to increase the number of iterations. Duality gap: 1164.207846985279, tolerance: 0.5122650793650796\n",
      "  model = cd_fast.enet_coordinate_descent(\n",
      "c:\\users\\kechi\\appdata\\local\\programs\\python\\python39\\lib\\site-packages\\sklearn\\linear_model\\_coordinate_descent.py:530: ConvergenceWarning: Objective did not converge. You might want to increase the number of iterations. Duality gap: 1216.9541362469713, tolerance: 0.5290632411067191\n",
      "  model = cd_fast.enet_coordinate_descent(\n",
      "c:\\users\\kechi\\appdata\\local\\programs\\python\\python39\\lib\\site-packages\\sklearn\\linear_model\\_coordinate_descent.py:530: ConvergenceWarning: Objective did not converge. You might want to increase the number of iterations. Duality gap: 1195.9288043153426, tolerance: 0.5188039525691701\n",
      "  model = cd_fast.enet_coordinate_descent(\n",
      "c:\\users\\kechi\\appdata\\local\\programs\\python\\python39\\lib\\site-packages\\sklearn\\linear_model\\_coordinate_descent.py:530: ConvergenceWarning: Objective did not converge. You might want to increase the number of iterations. Duality gap: 1285.6044216245375, tolerance: 0.5432181818181822\n",
      "  model = cd_fast.enet_coordinate_descent(\n",
      "c:\\users\\kechi\\appdata\\local\\programs\\python\\python39\\lib\\site-packages\\sklearn\\linear_model\\_coordinate_descent.py:530: ConvergenceWarning: Objective did not converge. You might want to increase the number of iterations. Duality gap: 1185.467733879305, tolerance: 0.5057422924901187\n",
      "  model = cd_fast.enet_coordinate_descent(\n",
      "c:\\users\\kechi\\appdata\\local\\programs\\python\\python39\\lib\\site-packages\\sklearn\\linear_model\\_coordinate_descent.py:530: ConvergenceWarning: Objective did not converge. You might want to increase the number of iterations. Duality gap: 23.074637473925122, tolerance: 0.5122650793650796\n",
      "  model = cd_fast.enet_coordinate_descent(\n",
      "c:\\users\\kechi\\appdata\\local\\programs\\python\\python39\\lib\\site-packages\\sklearn\\linear_model\\_coordinate_descent.py:530: ConvergenceWarning: Objective did not converge. You might want to increase the number of iterations. Duality gap: 26.28340078859901, tolerance: 0.5290632411067191\n",
      "  model = cd_fast.enet_coordinate_descent(\n",
      "c:\\users\\kechi\\appdata\\local\\programs\\python\\python39\\lib\\site-packages\\sklearn\\linear_model\\_coordinate_descent.py:530: ConvergenceWarning: Objective did not converge. You might want to increase the number of iterations. Duality gap: 25.610470638072343, tolerance: 0.5188039525691701\n",
      "  model = cd_fast.enet_coordinate_descent(\n",
      "c:\\users\\kechi\\appdata\\local\\programs\\python\\python39\\lib\\site-packages\\sklearn\\linear_model\\_coordinate_descent.py:530: ConvergenceWarning: Objective did not converge. You might want to increase the number of iterations. Duality gap: 29.58801764835448, tolerance: 0.5432181818181822\n",
      "  model = cd_fast.enet_coordinate_descent(\n",
      "c:\\users\\kechi\\appdata\\local\\programs\\python\\python39\\lib\\site-packages\\sklearn\\linear_model\\_coordinate_descent.py:530: ConvergenceWarning: Objective did not converge. You might want to increase the number of iterations. Duality gap: 26.394281876777768, tolerance: 0.5057422924901187\n",
      "  model = cd_fast.enet_coordinate_descent(\n",
      "c:\\users\\kechi\\appdata\\local\\programs\\python\\python39\\lib\\site-packages\\sklearn\\linear_model\\_coordinate_descent.py:530: ConvergenceWarning: Objective did not converge. You might want to increase the number of iterations. Duality gap: 1145.6608150242118, tolerance: 0.5122650793650796\n",
      "  model = cd_fast.enet_coordinate_descent(\n"
     ]
    },
    {
     "name": "stderr",
     "output_type": "stream",
     "text": [
      "c:\\users\\kechi\\appdata\\local\\programs\\python\\python39\\lib\\site-packages\\sklearn\\linear_model\\_coordinate_descent.py:530: ConvergenceWarning: Objective did not converge. You might want to increase the number of iterations. Duality gap: 1196.6914599226511, tolerance: 0.5290632411067191\n",
      "  model = cd_fast.enet_coordinate_descent(\n",
      "c:\\users\\kechi\\appdata\\local\\programs\\python\\python39\\lib\\site-packages\\sklearn\\linear_model\\_coordinate_descent.py:530: ConvergenceWarning: Objective did not converge. You might want to increase the number of iterations. Duality gap: 1177.9004784599467, tolerance: 0.5188039525691701\n",
      "  model = cd_fast.enet_coordinate_descent(\n",
      "c:\\users\\kechi\\appdata\\local\\programs\\python\\python39\\lib\\site-packages\\sklearn\\linear_model\\_coordinate_descent.py:530: ConvergenceWarning: Objective did not converge. You might want to increase the number of iterations. Duality gap: 1275.7154250169306, tolerance: 0.5432181818181822\n",
      "  model = cd_fast.enet_coordinate_descent(\n",
      "c:\\users\\kechi\\appdata\\local\\programs\\python\\python39\\lib\\site-packages\\sklearn\\linear_model\\_coordinate_descent.py:530: ConvergenceWarning: Objective did not converge. You might want to increase the number of iterations. Duality gap: 1174.2211040832335, tolerance: 0.5057422924901187\n",
      "  model = cd_fast.enet_coordinate_descent(\n",
      "c:\\users\\kechi\\appdata\\local\\programs\\python\\python39\\lib\\site-packages\\sklearn\\linear_model\\_coordinate_descent.py:530: ConvergenceWarning: Objective did not converge. You might want to increase the number of iterations. Duality gap: 29.28448829698027, tolerance: 0.5122650793650796\n",
      "  model = cd_fast.enet_coordinate_descent(\n",
      "c:\\users\\kechi\\appdata\\local\\programs\\python\\python39\\lib\\site-packages\\sklearn\\linear_model\\_coordinate_descent.py:530: ConvergenceWarning: Objective did not converge. You might want to increase the number of iterations. Duality gap: 31.25057245988819, tolerance: 0.5290632411067191\n",
      "  model = cd_fast.enet_coordinate_descent(\n",
      "c:\\users\\kechi\\appdata\\local\\programs\\python\\python39\\lib\\site-packages\\sklearn\\linear_model\\_coordinate_descent.py:530: ConvergenceWarning: Objective did not converge. You might want to increase the number of iterations. Duality gap: 30.311857336249773, tolerance: 0.5188039525691701\n",
      "  model = cd_fast.enet_coordinate_descent(\n",
      "c:\\users\\kechi\\appdata\\local\\programs\\python\\python39\\lib\\site-packages\\sklearn\\linear_model\\_coordinate_descent.py:530: ConvergenceWarning: Objective did not converge. You might want to increase the number of iterations. Duality gap: 33.09875465999528, tolerance: 0.5432181818181822\n",
      "  model = cd_fast.enet_coordinate_descent(\n",
      "c:\\users\\kechi\\appdata\\local\\programs\\python\\python39\\lib\\site-packages\\sklearn\\linear_model\\_coordinate_descent.py:530: ConvergenceWarning: Objective did not converge. You might want to increase the number of iterations. Duality gap: 30.066111400804743, tolerance: 0.5057422924901187\n",
      "  model = cd_fast.enet_coordinate_descent(\n",
      "c:\\users\\kechi\\appdata\\local\\programs\\python\\python39\\lib\\site-packages\\sklearn\\linear_model\\_coordinate_descent.py:530: ConvergenceWarning: Objective did not converge. You might want to increase the number of iterations. Duality gap: 1136.3399490240718, tolerance: 0.5122650793650796\n",
      "  model = cd_fast.enet_coordinate_descent(\n",
      "c:\\users\\kechi\\appdata\\local\\programs\\python\\python39\\lib\\site-packages\\sklearn\\linear_model\\_coordinate_descent.py:530: ConvergenceWarning: Objective did not converge. You might want to increase the number of iterations. Duality gap: 1184.6243611086607, tolerance: 0.5290632411067191\n",
      "  model = cd_fast.enet_coordinate_descent(\n",
      "c:\\users\\kechi\\appdata\\local\\programs\\python\\python39\\lib\\site-packages\\sklearn\\linear_model\\_coordinate_descent.py:530: ConvergenceWarning: Objective did not converge. You might want to increase the number of iterations. Duality gap: 1163.7523470158987, tolerance: 0.5188039525691701\n",
      "  model = cd_fast.enet_coordinate_descent(\n",
      "c:\\users\\kechi\\appdata\\local\\programs\\python\\python39\\lib\\site-packages\\sklearn\\linear_model\\_coordinate_descent.py:530: ConvergenceWarning: Objective did not converge. You might want to increase the number of iterations. Duality gap: 1277.1117945188003, tolerance: 0.5432181818181822\n",
      "  model = cd_fast.enet_coordinate_descent(\n",
      "c:\\users\\kechi\\appdata\\local\\programs\\python\\python39\\lib\\site-packages\\sklearn\\linear_model\\_coordinate_descent.py:530: ConvergenceWarning: Objective did not converge. You might want to increase the number of iterations. Duality gap: 1167.8167807595294, tolerance: 0.5057422924901187\n",
      "  model = cd_fast.enet_coordinate_descent(\n",
      "c:\\users\\kechi\\appdata\\local\\programs\\python\\python39\\lib\\site-packages\\sklearn\\linear_model\\_coordinate_descent.py:530: ConvergenceWarning: Objective did not converge. You might want to increase the number of iterations. Duality gap: 36.66731751258561, tolerance: 0.5122650793650796\n",
      "  model = cd_fast.enet_coordinate_descent(\n",
      "c:\\users\\kechi\\appdata\\local\\programs\\python\\python39\\lib\\site-packages\\sklearn\\linear_model\\_coordinate_descent.py:530: ConvergenceWarning: Objective did not converge. You might want to increase the number of iterations. Duality gap: 35.86505753998847, tolerance: 0.5290632411067191\n",
      "  model = cd_fast.enet_coordinate_descent(\n",
      "c:\\users\\kechi\\appdata\\local\\programs\\python\\python39\\lib\\site-packages\\sklearn\\linear_model\\_coordinate_descent.py:530: ConvergenceWarning: Objective did not converge. You might want to increase the number of iterations. Duality gap: 34.73967341376584, tolerance: 0.5188039525691701\n",
      "  model = cd_fast.enet_coordinate_descent(\n",
      "c:\\users\\kechi\\appdata\\local\\programs\\python\\python39\\lib\\site-packages\\sklearn\\linear_model\\_coordinate_descent.py:530: ConvergenceWarning: Objective did not converge. You might want to increase the number of iterations. Duality gap: 36.91477385715882, tolerance: 0.5432181818181822\n",
      "  model = cd_fast.enet_coordinate_descent(\n",
      "c:\\users\\kechi\\appdata\\local\\programs\\python\\python39\\lib\\site-packages\\sklearn\\linear_model\\_coordinate_descent.py:530: ConvergenceWarning: Objective did not converge. You might want to increase the number of iterations. Duality gap: 36.57984287308756, tolerance: 0.5057422924901187\n",
      "  model = cd_fast.enet_coordinate_descent(\n",
      "c:\\users\\kechi\\appdata\\local\\programs\\python\\python39\\lib\\site-packages\\sklearn\\linear_model\\_coordinate_descent.py:530: ConvergenceWarning: Objective did not converge. You might want to increase the number of iterations. Duality gap: 0.6865353754540138, tolerance: 0.5122650793650796\n",
      "  model = cd_fast.enet_coordinate_descent(\n",
      "c:\\users\\kechi\\appdata\\local\\programs\\python\\python39\\lib\\site-packages\\sklearn\\linear_model\\_coordinate_descent.py:530: ConvergenceWarning: Objective did not converge. You might want to increase the number of iterations. Duality gap: 1.4725584981019892, tolerance: 0.5290632411067191\n",
      "  model = cd_fast.enet_coordinate_descent(\n",
      "c:\\users\\kechi\\appdata\\local\\programs\\python\\python39\\lib\\site-packages\\sklearn\\linear_model\\_coordinate_descent.py:530: ConvergenceWarning: Objective did not converge. You might want to increase the number of iterations. Duality gap: 1.4793417180544566, tolerance: 0.5188039525691701\n",
      "  model = cd_fast.enet_coordinate_descent(\n",
      "c:\\users\\kechi\\appdata\\local\\programs\\python\\python39\\lib\\site-packages\\sklearn\\linear_model\\_coordinate_descent.py:530: ConvergenceWarning: Objective did not converge. You might want to increase the number of iterations. Duality gap: 1.8756543846423028, tolerance: 0.5432181818181822\n",
      "  model = cd_fast.enet_coordinate_descent(\n",
      "c:\\users\\kechi\\appdata\\local\\programs\\python\\python39\\lib\\site-packages\\sklearn\\linear_model\\_coordinate_descent.py:530: ConvergenceWarning: Objective did not converge. You might want to increase the number of iterations. Duality gap: 0.9621331499826056, tolerance: 0.5057422924901187\n",
      "  model = cd_fast.enet_coordinate_descent(\n",
      "c:\\users\\kechi\\appdata\\local\\programs\\python\\python39\\lib\\site-packages\\sklearn\\linear_model\\_coordinate_descent.py:530: ConvergenceWarning: Objective did not converge. You might want to increase the number of iterations. Duality gap: 1142.3567023256155, tolerance: 0.5122650793650796\n",
      "  model = cd_fast.enet_coordinate_descent(\n",
      "c:\\users\\kechi\\appdata\\local\\programs\\python\\python39\\lib\\site-packages\\sklearn\\linear_model\\_coordinate_descent.py:530: ConvergenceWarning: Objective did not converge. You might want to increase the number of iterations. Duality gap: 1194.9322231775861, tolerance: 0.5290632411067191\n",
      "  model = cd_fast.enet_coordinate_descent(\n",
      "c:\\users\\kechi\\appdata\\local\\programs\\python\\python39\\lib\\site-packages\\sklearn\\linear_model\\_coordinate_descent.py:530: ConvergenceWarning: Objective did not converge. You might want to increase the number of iterations. Duality gap: 1168.1848948819204, tolerance: 0.5188039525691701\n",
      "  model = cd_fast.enet_coordinate_descent(\n",
      "c:\\users\\kechi\\appdata\\local\\programs\\python\\python39\\lib\\site-packages\\sklearn\\linear_model\\_coordinate_descent.py:530: ConvergenceWarning: Objective did not converge. You might want to increase the number of iterations. Duality gap: 1308.6166036513234, tolerance: 0.5432181818181822\n",
      "  model = cd_fast.enet_coordinate_descent(\n",
      "c:\\users\\kechi\\appdata\\local\\programs\\python\\python39\\lib\\site-packages\\sklearn\\linear_model\\_coordinate_descent.py:530: ConvergenceWarning: Objective did not converge. You might want to increase the number of iterations. Duality gap: 1178.9073840696115, tolerance: 0.5057422924901187\n",
      "  model = cd_fast.enet_coordinate_descent(\n",
      "c:\\users\\kechi\\appdata\\local\\programs\\python\\python39\\lib\\site-packages\\sklearn\\linear_model\\_coordinate_descent.py:530: ConvergenceWarning: Objective did not converge. You might want to increase the number of iterations. Duality gap: 43.81713012555082, tolerance: 0.5122650793650796\n",
      "  model = cd_fast.enet_coordinate_descent(\n",
      "c:\\users\\kechi\\appdata\\local\\programs\\python\\python39\\lib\\site-packages\\sklearn\\linear_model\\_coordinate_descent.py:530: ConvergenceWarning: Objective did not converge. You might want to increase the number of iterations. Duality gap: 37.36756441813333, tolerance: 0.5290632411067191\n",
      "  model = cd_fast.enet_coordinate_descent(\n",
      "c:\\users\\kechi\\appdata\\local\\programs\\python\\python39\\lib\\site-packages\\sklearn\\linear_model\\_coordinate_descent.py:530: ConvergenceWarning: Objective did not converge. You might want to increase the number of iterations. Duality gap: 36.26020952108337, tolerance: 0.5188039525691701\n",
      "  model = cd_fast.enet_coordinate_descent(\n",
      "c:\\users\\kechi\\appdata\\local\\programs\\python\\python39\\lib\\site-packages\\sklearn\\linear_model\\_coordinate_descent.py:530: ConvergenceWarning: Objective did not converge. You might want to increase the number of iterations. Duality gap: 36.97697648014895, tolerance: 0.5432181818181822\n",
      "  model = cd_fast.enet_coordinate_descent(\n",
      "c:\\users\\kechi\\appdata\\local\\programs\\python\\python39\\lib\\site-packages\\sklearn\\linear_model\\_coordinate_descent.py:530: ConvergenceWarning: Objective did not converge. You might want to increase the number of iterations. Duality gap: 41.96925892791967, tolerance: 0.5057422924901187\n",
      "  model = cd_fast.enet_coordinate_descent(\n",
      "c:\\users\\kechi\\appdata\\local\\programs\\python\\python39\\lib\\site-packages\\sklearn\\linear_model\\_coordinate_descent.py:530: ConvergenceWarning: Objective did not converge. You might want to increase the number of iterations. Duality gap: 2.808643049687646, tolerance: 0.5122650793650796\n",
      "  model = cd_fast.enet_coordinate_descent(\n",
      "c:\\users\\kechi\\appdata\\local\\programs\\python\\python39\\lib\\site-packages\\sklearn\\linear_model\\_coordinate_descent.py:530: ConvergenceWarning: Objective did not converge. You might want to increase the number of iterations. Duality gap: 4.857967430733822, tolerance: 0.5290632411067191\n",
      "  model = cd_fast.enet_coordinate_descent(\n"
     ]
    },
    {
     "name": "stderr",
     "output_type": "stream",
     "text": [
      "c:\\users\\kechi\\appdata\\local\\programs\\python\\python39\\lib\\site-packages\\sklearn\\linear_model\\_coordinate_descent.py:530: ConvergenceWarning: Objective did not converge. You might want to increase the number of iterations. Duality gap: 4.872476610255831, tolerance: 0.5188039525691701\n",
      "  model = cd_fast.enet_coordinate_descent(\n",
      "c:\\users\\kechi\\appdata\\local\\programs\\python\\python39\\lib\\site-packages\\sklearn\\linear_model\\_coordinate_descent.py:530: ConvergenceWarning: Objective did not converge. You might want to increase the number of iterations. Duality gap: 5.785900443635285, tolerance: 0.5432181818181822\n",
      "  model = cd_fast.enet_coordinate_descent(\n",
      "c:\\users\\kechi\\appdata\\local\\programs\\python\\python39\\lib\\site-packages\\sklearn\\linear_model\\_coordinate_descent.py:530: ConvergenceWarning: Objective did not converge. You might want to increase the number of iterations. Duality gap: 3.5731840455021597, tolerance: 0.5057422924901187\n",
      "  model = cd_fast.enet_coordinate_descent(\n",
      "c:\\users\\kechi\\appdata\\local\\programs\\python\\python39\\lib\\site-packages\\sklearn\\linear_model\\_coordinate_descent.py:530: ConvergenceWarning: Objective did not converge. You might want to increase the number of iterations. Duality gap: 1152.7251372383844, tolerance: 0.5122650793650796\n",
      "  model = cd_fast.enet_coordinate_descent(\n",
      "c:\\users\\kechi\\appdata\\local\\programs\\python\\python39\\lib\\site-packages\\sklearn\\linear_model\\_coordinate_descent.py:530: ConvergenceWarning: Objective did not converge. You might want to increase the number of iterations. Duality gap: 1204.2832498711934, tolerance: 0.5290632411067191\n",
      "  model = cd_fast.enet_coordinate_descent(\n",
      "c:\\users\\kechi\\appdata\\local\\programs\\python\\python39\\lib\\site-packages\\sklearn\\linear_model\\_coordinate_descent.py:530: ConvergenceWarning: Objective did not converge. You might want to increase the number of iterations. Duality gap: 1147.909405997966, tolerance: 0.5188039525691701\n",
      "  model = cd_fast.enet_coordinate_descent(\n",
      "c:\\users\\kechi\\appdata\\local\\programs\\python\\python39\\lib\\site-packages\\sklearn\\linear_model\\_coordinate_descent.py:530: ConvergenceWarning: Objective did not converge. You might want to increase the number of iterations. Duality gap: 1322.5548356952852, tolerance: 0.5432181818181822\n",
      "  model = cd_fast.enet_coordinate_descent(\n",
      "c:\\users\\kechi\\appdata\\local\\programs\\python\\python39\\lib\\site-packages\\sklearn\\linear_model\\_coordinate_descent.py:530: ConvergenceWarning: Objective did not converge. You might want to increase the number of iterations. Duality gap: 1195.0528520919854, tolerance: 0.5057422924901187\n",
      "  model = cd_fast.enet_coordinate_descent(\n",
      "c:\\users\\kechi\\appdata\\local\\programs\\python\\python39\\lib\\site-packages\\sklearn\\linear_model\\_coordinate_descent.py:530: ConvergenceWarning: Objective did not converge. You might want to increase the number of iterations. Duality gap: 46.50343217194376, tolerance: 0.5122650793650796\n",
      "  model = cd_fast.enet_coordinate_descent(\n",
      "c:\\users\\kechi\\appdata\\local\\programs\\python\\python39\\lib\\site-packages\\sklearn\\linear_model\\_coordinate_descent.py:530: ConvergenceWarning: Objective did not converge. You might want to increase the number of iterations. Duality gap: 52.012276102869464, tolerance: 0.5290632411067191\n",
      "  model = cd_fast.enet_coordinate_descent(\n",
      "c:\\users\\kechi\\appdata\\local\\programs\\python\\python39\\lib\\site-packages\\sklearn\\linear_model\\_coordinate_descent.py:530: ConvergenceWarning: Objective did not converge. You might want to increase the number of iterations. Duality gap: 56.09918894087889, tolerance: 0.5188039525691701\n",
      "  model = cd_fast.enet_coordinate_descent(\n",
      "c:\\users\\kechi\\appdata\\local\\programs\\python\\python39\\lib\\site-packages\\sklearn\\linear_model\\_coordinate_descent.py:530: ConvergenceWarning: Objective did not converge. You might want to increase the number of iterations. Duality gap: 57.358637441537326, tolerance: 0.5432181818181822\n",
      "  model = cd_fast.enet_coordinate_descent(\n",
      "c:\\users\\kechi\\appdata\\local\\programs\\python\\python39\\lib\\site-packages\\sklearn\\linear_model\\_coordinate_descent.py:530: ConvergenceWarning: Objective did not converge. You might want to increase the number of iterations. Duality gap: 49.56328308207054, tolerance: 0.5057422924901187\n",
      "  model = cd_fast.enet_coordinate_descent(\n",
      "c:\\users\\kechi\\appdata\\local\\programs\\python\\python39\\lib\\site-packages\\sklearn\\linear_model\\_coordinate_descent.py:530: ConvergenceWarning: Objective did not converge. You might want to increase the number of iterations. Duality gap: 9.693452421300094, tolerance: 0.5122650793650796\n",
      "  model = cd_fast.enet_coordinate_descent(\n",
      "c:\\users\\kechi\\appdata\\local\\programs\\python\\python39\\lib\\site-packages\\sklearn\\linear_model\\_coordinate_descent.py:530: ConvergenceWarning: Objective did not converge. You might want to increase the number of iterations. Duality gap: 14.026628714679816, tolerance: 0.5290632411067191\n",
      "  model = cd_fast.enet_coordinate_descent(\n",
      "c:\\users\\kechi\\appdata\\local\\programs\\python\\python39\\lib\\site-packages\\sklearn\\linear_model\\_coordinate_descent.py:530: ConvergenceWarning: Objective did not converge. You might want to increase the number of iterations. Duality gap: 14.075184369053261, tolerance: 0.5188039525691701\n",
      "  model = cd_fast.enet_coordinate_descent(\n",
      "c:\\users\\kechi\\appdata\\local\\programs\\python\\python39\\lib\\site-packages\\sklearn\\linear_model\\_coordinate_descent.py:530: ConvergenceWarning: Objective did not converge. You might want to increase the number of iterations. Duality gap: 15.819917450659602, tolerance: 0.5432181818181822\n",
      "  model = cd_fast.enet_coordinate_descent(\n",
      "c:\\users\\kechi\\appdata\\local\\programs\\python\\python39\\lib\\site-packages\\sklearn\\linear_model\\_coordinate_descent.py:530: ConvergenceWarning: Objective did not converge. You might want to increase the number of iterations. Duality gap: 11.538986065627682, tolerance: 0.5057422924901187\n",
      "  model = cd_fast.enet_coordinate_descent(\n",
      "c:\\users\\kechi\\appdata\\local\\programs\\python\\python39\\lib\\site-packages\\sklearn\\linear_model\\_coordinate_descent.py:530: ConvergenceWarning: Objective did not converge. You might want to increase the number of iterations. Duality gap: 1115.3382720052032, tolerance: 0.5122650793650796\n",
      "  model = cd_fast.enet_coordinate_descent(\n",
      "c:\\users\\kechi\\appdata\\local\\programs\\python\\python39\\lib\\site-packages\\sklearn\\linear_model\\_coordinate_descent.py:530: ConvergenceWarning: Objective did not converge. You might want to increase the number of iterations. Duality gap: 1147.3535488127031, tolerance: 0.5290632411067191\n",
      "  model = cd_fast.enet_coordinate_descent(\n",
      "c:\\users\\kechi\\appdata\\local\\programs\\python\\python39\\lib\\site-packages\\sklearn\\linear_model\\_coordinate_descent.py:530: ConvergenceWarning: Objective did not converge. You might want to increase the number of iterations. Duality gap: 1087.5366141827085, tolerance: 0.5188039525691701\n",
      "  model = cd_fast.enet_coordinate_descent(\n",
      "c:\\users\\kechi\\appdata\\local\\programs\\python\\python39\\lib\\site-packages\\sklearn\\linear_model\\_coordinate_descent.py:530: ConvergenceWarning: Objective did not converge. You might want to increase the number of iterations. Duality gap: 1271.1046244990769, tolerance: 0.5432181818181822\n",
      "  model = cd_fast.enet_coordinate_descent(\n",
      "c:\\users\\kechi\\appdata\\local\\programs\\python\\python39\\lib\\site-packages\\sklearn\\linear_model\\_coordinate_descent.py:530: ConvergenceWarning: Objective did not converge. You might want to increase the number of iterations. Duality gap: 1153.3930857983723, tolerance: 0.5057422924901187\n",
      "  model = cd_fast.enet_coordinate_descent(\n",
      "c:\\users\\kechi\\appdata\\local\\programs\\python\\python39\\lib\\site-packages\\sklearn\\linear_model\\_coordinate_descent.py:530: ConvergenceWarning: Objective did not converge. You might want to increase the number of iterations. Duality gap: 62.982690264154144, tolerance: 0.5122650793650796\n",
      "  model = cd_fast.enet_coordinate_descent(\n",
      "c:\\users\\kechi\\appdata\\local\\programs\\python\\python39\\lib\\site-packages\\sklearn\\linear_model\\_coordinate_descent.py:530: ConvergenceWarning: Objective did not converge. You might want to increase the number of iterations. Duality gap: 76.30765347576761, tolerance: 0.5290632411067191\n",
      "  model = cd_fast.enet_coordinate_descent(\n",
      "c:\\users\\kechi\\appdata\\local\\programs\\python\\python39\\lib\\site-packages\\sklearn\\linear_model\\_coordinate_descent.py:530: ConvergenceWarning: Objective did not converge. You might want to increase the number of iterations. Duality gap: 84.17711839988044, tolerance: 0.5188039525691701\n",
      "  model = cd_fast.enet_coordinate_descent(\n",
      "c:\\users\\kechi\\appdata\\local\\programs\\python\\python39\\lib\\site-packages\\sklearn\\linear_model\\_coordinate_descent.py:530: ConvergenceWarning: Objective did not converge. You might want to increase the number of iterations. Duality gap: 81.51955819233427, tolerance: 0.5432181818181822\n",
      "  model = cd_fast.enet_coordinate_descent(\n",
      "c:\\users\\kechi\\appdata\\local\\programs\\python\\python39\\lib\\site-packages\\sklearn\\linear_model\\_coordinate_descent.py:530: ConvergenceWarning: Objective did not converge. You might want to increase the number of iterations. Duality gap: 69.09316999466353, tolerance: 0.5057422924901187\n",
      "  model = cd_fast.enet_coordinate_descent(\n",
      "c:\\users\\kechi\\appdata\\local\\programs\\python\\python39\\lib\\site-packages\\sklearn\\linear_model\\_coordinate_descent.py:530: ConvergenceWarning: Objective did not converge. You might want to increase the number of iterations. Duality gap: 5.18683679324738, tolerance: 0.5122650793650796\n",
      "  model = cd_fast.enet_coordinate_descent(\n",
      "c:\\users\\kechi\\appdata\\local\\programs\\python\\python39\\lib\\site-packages\\sklearn\\linear_model\\_coordinate_descent.py:530: ConvergenceWarning: Objective did not converge. You might want to increase the number of iterations. Duality gap: 6.799459562254526, tolerance: 0.5290632411067191\n",
      "  model = cd_fast.enet_coordinate_descent(\n",
      "c:\\users\\kechi\\appdata\\local\\programs\\python\\python39\\lib\\site-packages\\sklearn\\linear_model\\_coordinate_descent.py:530: ConvergenceWarning: Objective did not converge. You might want to increase the number of iterations. Duality gap: 8.569509605148824, tolerance: 0.5188039525691701\n",
      "  model = cd_fast.enet_coordinate_descent(\n",
      "c:\\users\\kechi\\appdata\\local\\programs\\python\\python39\\lib\\site-packages\\sklearn\\linear_model\\_coordinate_descent.py:530: ConvergenceWarning: Objective did not converge. You might want to increase the number of iterations. Duality gap: 7.401808160711482, tolerance: 0.5432181818181822\n",
      "  model = cd_fast.enet_coordinate_descent(\n",
      "c:\\users\\kechi\\appdata\\local\\programs\\python\\python39\\lib\\site-packages\\sklearn\\linear_model\\_coordinate_descent.py:530: ConvergenceWarning: Objective did not converge. You might want to increase the number of iterations. Duality gap: 6.655706058007468, tolerance: 0.5057422924901187\n",
      "  model = cd_fast.enet_coordinate_descent(\n",
      "c:\\users\\kechi\\appdata\\local\\programs\\python\\python39\\lib\\site-packages\\sklearn\\linear_model\\_coordinate_descent.py:530: ConvergenceWarning: Objective did not converge. You might want to increase the number of iterations. Duality gap: 2027.7785140692822, tolerance: 0.5122650793650796\n",
      "  model = cd_fast.enet_coordinate_descent(\n",
      "c:\\users\\kechi\\appdata\\local\\programs\\python\\python39\\lib\\site-packages\\sklearn\\linear_model\\_coordinate_descent.py:530: ConvergenceWarning: Objective did not converge. You might want to increase the number of iterations. Duality gap: 2058.832192506267, tolerance: 0.5290632411067191\n",
      "  model = cd_fast.enet_coordinate_descent(\n",
      "c:\\users\\kechi\\appdata\\local\\programs\\python\\python39\\lib\\site-packages\\sklearn\\linear_model\\_coordinate_descent.py:530: ConvergenceWarning: Objective did not converge. You might want to increase the number of iterations. Duality gap: 2014.8154507633212, tolerance: 0.5188039525691701\n",
      "  model = cd_fast.enet_coordinate_descent(\n",
      "c:\\users\\kechi\\appdata\\local\\programs\\python\\python39\\lib\\site-packages\\sklearn\\linear_model\\_coordinate_descent.py:530: ConvergenceWarning: Objective did not converge. You might want to increase the number of iterations. Duality gap: 2087.23929298526, tolerance: 0.5432181818181822\n",
      "  model = cd_fast.enet_coordinate_descent(\n",
      "c:\\users\\kechi\\appdata\\local\\programs\\python\\python39\\lib\\site-packages\\sklearn\\linear_model\\_coordinate_descent.py:530: ConvergenceWarning: Objective did not converge. You might want to increase the number of iterations. Duality gap: 1977.4300446501686, tolerance: 0.5057422924901187\n",
      "  model = cd_fast.enet_coordinate_descent(\n"
     ]
    },
    {
     "name": "stderr",
     "output_type": "stream",
     "text": [
      "c:\\users\\kechi\\appdata\\local\\programs\\python\\python39\\lib\\site-packages\\sklearn\\linear_model\\_coordinate_descent.py:530: ConvergenceWarning: Objective did not converge. You might want to increase the number of iterations. Duality gap: 2018.1526139507725, tolerance: 0.5122650793650796\n",
      "  model = cd_fast.enet_coordinate_descent(\n",
      "c:\\users\\kechi\\appdata\\local\\programs\\python\\python39\\lib\\site-packages\\sklearn\\linear_model\\_coordinate_descent.py:530: ConvergenceWarning: Objective did not converge. You might want to increase the number of iterations. Duality gap: 2045.886577052449, tolerance: 0.5290632411067191\n",
      "  model = cd_fast.enet_coordinate_descent(\n",
      "c:\\users\\kechi\\appdata\\local\\programs\\python\\python39\\lib\\site-packages\\sklearn\\linear_model\\_coordinate_descent.py:530: ConvergenceWarning: Objective did not converge. You might want to increase the number of iterations. Duality gap: 2001.8996819144763, tolerance: 0.5188039525691701\n",
      "  model = cd_fast.enet_coordinate_descent(\n",
      "c:\\users\\kechi\\appdata\\local\\programs\\python\\python39\\lib\\site-packages\\sklearn\\linear_model\\_coordinate_descent.py:530: ConvergenceWarning: Objective did not converge. You might want to increase the number of iterations. Duality gap: 2071.6031522144613, tolerance: 0.5432181818181822\n",
      "  model = cd_fast.enet_coordinate_descent(\n",
      "c:\\users\\kechi\\appdata\\local\\programs\\python\\python39\\lib\\site-packages\\sklearn\\linear_model\\_coordinate_descent.py:530: ConvergenceWarning: Objective did not converge. You might want to increase the number of iterations. Duality gap: 1964.9898322734416, tolerance: 0.5057422924901187\n",
      "  model = cd_fast.enet_coordinate_descent(\n",
      "c:\\users\\kechi\\appdata\\local\\programs\\python\\python39\\lib\\site-packages\\sklearn\\linear_model\\_coordinate_descent.py:530: ConvergenceWarning: Objective did not converge. You might want to increase the number of iterations. Duality gap: 2018.1526139449543, tolerance: 0.5122650793650796\n",
      "  model = cd_fast.enet_coordinate_descent(\n",
      "c:\\users\\kechi\\appdata\\local\\programs\\python\\python39\\lib\\site-packages\\sklearn\\linear_model\\_coordinate_descent.py:530: ConvergenceWarning: Objective did not converge. You might want to increase the number of iterations. Duality gap: 2045.8865770429852, tolerance: 0.5290632411067191\n",
      "  model = cd_fast.enet_coordinate_descent(\n",
      "c:\\users\\kechi\\appdata\\local\\programs\\python\\python39\\lib\\site-packages\\sklearn\\linear_model\\_coordinate_descent.py:530: ConvergenceWarning: Objective did not converge. You might want to increase the number of iterations. Duality gap: 2001.8996818994685, tolerance: 0.5188039525691701\n",
      "  model = cd_fast.enet_coordinate_descent(\n",
      "c:\\users\\kechi\\appdata\\local\\programs\\python\\python39\\lib\\site-packages\\sklearn\\linear_model\\_coordinate_descent.py:530: ConvergenceWarning: Objective did not converge. You might want to increase the number of iterations. Duality gap: 2071.603152203737, tolerance: 0.5432181818181822\n",
      "  model = cd_fast.enet_coordinate_descent(\n",
      "c:\\users\\kechi\\appdata\\local\\programs\\python\\python39\\lib\\site-packages\\sklearn\\linear_model\\_coordinate_descent.py:530: ConvergenceWarning: Objective did not converge. You might want to increase the number of iterations. Duality gap: 1964.9898322620984, tolerance: 0.5057422924901187\n",
      "  model = cd_fast.enet_coordinate_descent(\n",
      "c:\\users\\kechi\\appdata\\local\\programs\\python\\python39\\lib\\site-packages\\sklearn\\linear_model\\_coordinate_descent.py:530: ConvergenceWarning: Objective did not converge. You might want to increase the number of iterations. Duality gap: 48.27264065467216, tolerance: 0.5122650793650796\n",
      "  model = cd_fast.enet_coordinate_descent(\n",
      "c:\\users\\kechi\\appdata\\local\\programs\\python\\python39\\lib\\site-packages\\sklearn\\linear_model\\_coordinate_descent.py:530: ConvergenceWarning: Objective did not converge. You might want to increase the number of iterations. Duality gap: 59.195005663542815, tolerance: 0.5290632411067191\n",
      "  model = cd_fast.enet_coordinate_descent(\n",
      "c:\\users\\kechi\\appdata\\local\\programs\\python\\python39\\lib\\site-packages\\sklearn\\linear_model\\_coordinate_descent.py:530: ConvergenceWarning: Objective did not converge. You might want to increase the number of iterations. Duality gap: 56.24535437622171, tolerance: 0.5188039525691701\n",
      "  model = cd_fast.enet_coordinate_descent(\n",
      "c:\\users\\kechi\\appdata\\local\\programs\\python\\python39\\lib\\site-packages\\sklearn\\linear_model\\_coordinate_descent.py:530: ConvergenceWarning: Objective did not converge. You might want to increase the number of iterations. Duality gap: 68.22886641942887, tolerance: 0.5432181818181822\n",
      "  model = cd_fast.enet_coordinate_descent(\n",
      "c:\\users\\kechi\\appdata\\local\\programs\\python\\python39\\lib\\site-packages\\sklearn\\linear_model\\_coordinate_descent.py:530: ConvergenceWarning: Objective did not converge. You might want to increase the number of iterations. Duality gap: 52.579673622140945, tolerance: 0.5057422924901187\n",
      "  model = cd_fast.enet_coordinate_descent(\n",
      "c:\\users\\kechi\\appdata\\local\\programs\\python\\python39\\lib\\site-packages\\sklearn\\linear_model\\_coordinate_descent.py:530: ConvergenceWarning: Objective did not converge. You might want to increase the number of iterations. Duality gap: 24.707316902921775, tolerance: 0.5122650793650796\n",
      "  model = cd_fast.enet_coordinate_descent(\n",
      "c:\\users\\kechi\\appdata\\local\\programs\\python\\python39\\lib\\site-packages\\sklearn\\linear_model\\_coordinate_descent.py:530: ConvergenceWarning: Objective did not converge. You might want to increase the number of iterations. Duality gap: 32.34802372413469, tolerance: 0.5290632411067191\n",
      "  model = cd_fast.enet_coordinate_descent(\n",
      "c:\\users\\kechi\\appdata\\local\\programs\\python\\python39\\lib\\site-packages\\sklearn\\linear_model\\_coordinate_descent.py:530: ConvergenceWarning: Objective did not converge. You might want to increase the number of iterations. Duality gap: 30.31084381886376, tolerance: 0.5188039525691701\n",
      "  model = cd_fast.enet_coordinate_descent(\n",
      "c:\\users\\kechi\\appdata\\local\\programs\\python\\python39\\lib\\site-packages\\sklearn\\linear_model\\_coordinate_descent.py:530: ConvergenceWarning: Objective did not converge. You might want to increase the number of iterations. Duality gap: 35.95953462872967, tolerance: 0.5432181818181822\n",
      "  model = cd_fast.enet_coordinate_descent(\n",
      "c:\\users\\kechi\\appdata\\local\\programs\\python\\python39\\lib\\site-packages\\sklearn\\linear_model\\_coordinate_descent.py:530: ConvergenceWarning: Objective did not converge. You might want to increase the number of iterations. Duality gap: 25.189028339471406, tolerance: 0.5057422924901187\n",
      "  model = cd_fast.enet_coordinate_descent(\n",
      "c:\\users\\kechi\\appdata\\local\\programs\\python\\python39\\lib\\site-packages\\sklearn\\linear_model\\_coordinate_descent.py:530: ConvergenceWarning: Objective did not converge. You might want to increase the number of iterations. Duality gap: 7.186963741824002, tolerance: 0.5122650793650796\n",
      "  model = cd_fast.enet_coordinate_descent(\n",
      "c:\\users\\kechi\\appdata\\local\\programs\\python\\python39\\lib\\site-packages\\sklearn\\linear_model\\_coordinate_descent.py:530: ConvergenceWarning: Objective did not converge. You might want to increase the number of iterations. Duality gap: 11.735947278694766, tolerance: 0.5290632411067191\n",
      "  model = cd_fast.enet_coordinate_descent(\n",
      "c:\\users\\kechi\\appdata\\local\\programs\\python\\python39\\lib\\site-packages\\sklearn\\linear_model\\_coordinate_descent.py:530: ConvergenceWarning: Objective did not converge. You might want to increase the number of iterations. Duality gap: 10.473700068328071, tolerance: 0.5188039525691701\n",
      "  model = cd_fast.enet_coordinate_descent(\n",
      "c:\\users\\kechi\\appdata\\local\\programs\\python\\python39\\lib\\site-packages\\sklearn\\linear_model\\_coordinate_descent.py:530: ConvergenceWarning: Objective did not converge. You might want to increase the number of iterations. Duality gap: 14.051769073004834, tolerance: 0.5432181818181822\n",
      "  model = cd_fast.enet_coordinate_descent(\n",
      "c:\\users\\kechi\\appdata\\local\\programs\\python\\python39\\lib\\site-packages\\sklearn\\linear_model\\_coordinate_descent.py:530: ConvergenceWarning: Objective did not converge. You might want to increase the number of iterations. Duality gap: 7.389521210285238, tolerance: 0.5057422924901187\n",
      "  model = cd_fast.enet_coordinate_descent(\n",
      "c:\\users\\kechi\\appdata\\local\\programs\\python\\python39\\lib\\site-packages\\sklearn\\linear_model\\_coordinate_descent.py:530: ConvergenceWarning: Objective did not converge. You might want to increase the number of iterations. Duality gap: 0.5489097434319774, tolerance: 0.5290632411067191\n",
      "  model = cd_fast.enet_coordinate_descent(\n",
      "c:\\users\\kechi\\appdata\\local\\programs\\python\\python39\\lib\\site-packages\\sklearn\\linear_model\\_coordinate_descent.py:530: ConvergenceWarning: Objective did not converge. You might want to increase the number of iterations. Duality gap: 1.053209671971672, tolerance: 0.5432181818181822\n",
      "  model = cd_fast.enet_coordinate_descent(\n"
     ]
    },
    {
     "name": "stderr",
     "output_type": "stream",
     "text": [
      "c:\\users\\kechi\\appdata\\local\\programs\\python\\python39\\lib\\site-packages\\sklearn\\linear_model\\_coordinate_descent.py:530: ConvergenceWarning: Objective did not converge. You might want to increase the number of iterations. Duality gap: 2490.690171366343, tolerance: 0.5122650793650796\n",
      "  model = cd_fast.enet_coordinate_descent(\n",
      "c:\\users\\kechi\\appdata\\local\\programs\\python\\python39\\lib\\site-packages\\sklearn\\linear_model\\_coordinate_descent.py:530: ConvergenceWarning: Objective did not converge. You might want to increase the number of iterations. Duality gap: 2565.558909161469, tolerance: 0.5290632411067191\n",
      "  model = cd_fast.enet_coordinate_descent(\n",
      "c:\\users\\kechi\\appdata\\local\\programs\\python\\python39\\lib\\site-packages\\sklearn\\linear_model\\_coordinate_descent.py:530: ConvergenceWarning: Objective did not converge. You might want to increase the number of iterations. Duality gap: 2515.230460343119, tolerance: 0.5188039525691701\n",
      "  model = cd_fast.enet_coordinate_descent(\n",
      "c:\\users\\kechi\\appdata\\local\\programs\\python\\python39\\lib\\site-packages\\sklearn\\linear_model\\_coordinate_descent.py:530: ConvergenceWarning: Objective did not converge. You might want to increase the number of iterations. Duality gap: 2628.805377498918, tolerance: 0.5432181818181822\n",
      "  model = cd_fast.enet_coordinate_descent(\n",
      "c:\\users\\kechi\\appdata\\local\\programs\\python\\python39\\lib\\site-packages\\sklearn\\linear_model\\_coordinate_descent.py:530: ConvergenceWarning: Objective did not converge. You might want to increase the number of iterations. Duality gap: 2453.739371368905, tolerance: 0.5057422924901187\n",
      "  model = cd_fast.enet_coordinate_descent(\n",
      "c:\\users\\kechi\\appdata\\local\\programs\\python\\python39\\lib\\site-packages\\sklearn\\linear_model\\_coordinate_descent.py:530: ConvergenceWarning: Objective did not converge. You might want to increase the number of iterations. Duality gap: 2490.6700564321345, tolerance: 0.5122650793650796\n",
      "  model = cd_fast.enet_coordinate_descent(\n",
      "c:\\users\\kechi\\appdata\\local\\programs\\python\\python39\\lib\\site-packages\\sklearn\\linear_model\\_coordinate_descent.py:530: ConvergenceWarning: Objective did not converge. You might want to increase the number of iterations. Duality gap: 2565.5309028350925, tolerance: 0.5290632411067191\n",
      "  model = cd_fast.enet_coordinate_descent(\n",
      "c:\\users\\kechi\\appdata\\local\\programs\\python\\python39\\lib\\site-packages\\sklearn\\linear_model\\_coordinate_descent.py:530: ConvergenceWarning: Objective did not converge. You might want to increase the number of iterations. Duality gap: 2515.201948439862, tolerance: 0.5188039525691701\n",
      "  model = cd_fast.enet_coordinate_descent(\n",
      "c:\\users\\kechi\\appdata\\local\\programs\\python\\python39\\lib\\site-packages\\sklearn\\linear_model\\_coordinate_descent.py:530: ConvergenceWarning: Objective did not converge. You might want to increase the number of iterations. Duality gap: 2628.770132024362, tolerance: 0.5432181818181822\n",
      "  model = cd_fast.enet_coordinate_descent(\n",
      "c:\\users\\kechi\\appdata\\local\\programs\\python\\python39\\lib\\site-packages\\sklearn\\linear_model\\_coordinate_descent.py:530: ConvergenceWarning: Objective did not converge. You might want to increase the number of iterations. Duality gap: 2453.712329135539, tolerance: 0.5057422924901187\n",
      "  model = cd_fast.enet_coordinate_descent(\n",
      "c:\\users\\kechi\\appdata\\local\\programs\\python\\python39\\lib\\site-packages\\sklearn\\linear_model\\_coordinate_descent.py:530: ConvergenceWarning: Objective did not converge. You might want to increase the number of iterations. Duality gap: 2490.6700564321345, tolerance: 0.5122650793650796\n",
      "  model = cd_fast.enet_coordinate_descent(\n",
      "c:\\users\\kechi\\appdata\\local\\programs\\python\\python39\\lib\\site-packages\\sklearn\\linear_model\\_coordinate_descent.py:530: ConvergenceWarning: Objective did not converge. You might want to increase the number of iterations. Duality gap: 2565.5309028350925, tolerance: 0.5290632411067191\n",
      "  model = cd_fast.enet_coordinate_descent(\n",
      "c:\\users\\kechi\\appdata\\local\\programs\\python\\python39\\lib\\site-packages\\sklearn\\linear_model\\_coordinate_descent.py:530: ConvergenceWarning: Objective did not converge. You might want to increase the number of iterations. Duality gap: 2515.201948439861, tolerance: 0.5188039525691701\n",
      "  model = cd_fast.enet_coordinate_descent(\n",
      "c:\\users\\kechi\\appdata\\local\\programs\\python\\python39\\lib\\site-packages\\sklearn\\linear_model\\_coordinate_descent.py:530: ConvergenceWarning: Objective did not converge. You might want to increase the number of iterations. Duality gap: 2628.770132024361, tolerance: 0.5432181818181822\n",
      "  model = cd_fast.enet_coordinate_descent(\n",
      "c:\\users\\kechi\\appdata\\local\\programs\\python\\python39\\lib\\site-packages\\sklearn\\linear_model\\_coordinate_descent.py:530: ConvergenceWarning: Objective did not converge. You might want to increase the number of iterations. Duality gap: 2453.71232913554, tolerance: 0.5057422924901187\n",
      "  model = cd_fast.enet_coordinate_descent(\n",
      "c:\\users\\kechi\\appdata\\local\\programs\\python\\python39\\lib\\site-packages\\sklearn\\linear_model\\_coordinate_descent.py:530: ConvergenceWarning: Objective did not converge. You might want to increase the number of iterations. Duality gap: 41.33589019328943, tolerance: 0.6525088607594937\n",
      "  model = cd_fast.enet_coordinate_descent(\n"
     ]
    },
    {
     "data": {
      "text/plain": [
       "{'alpha': 0.1, 'l1_ratio': 0.9, 'max_iter': 10}"
      ]
     },
     "execution_count": 139,
     "metadata": {},
     "output_type": "execute_result"
    }
   ],
   "source": [
    "# определим гиперпараметры\n",
    "parameters = {\"max_iter\": [1, 5, 10],\n",
    "                      \"alpha\": [0.0001, 0.01, 0.1, 1, 10, 100],\n",
    "                      \"l1_ratio\": np.arange(0.0, 1.0, 0.1)}\n",
    "clf = GridSearchCV(ElasticNet(), parameters, cv=5)\n",
    "clf.fit(X_train, y_train)\n",
    "clf.best_params_"
   ]
  },
  {
   "cell_type": "code",
   "execution_count": 51,
   "id": "happy-donna",
   "metadata": {},
   "outputs": [
    {
     "output_type": "execute_result",
     "data": {
      "text/plain": [
       "0.999854839486669"
      ]
     },
     "metadata": {},
     "execution_count": 51
    }
   ],
   "source": [
    "clf.best_score_"
   ]
  }
 ],
 "metadata": {
  "kernelspec": {
   "name": "python391jvsc74a57bd0c84b3ebeaacc2468b6e8413dbf910eb26a379e79a4c82eb165563ba392456739",
   "display_name": "Python 3.9.1 64-bit"
  },
  "language_info": {
   "codemirror_mode": {
    "name": "ipython",
    "version": 3
   },
   "file_extension": ".py",
   "mimetype": "text/x-python",
   "name": "python",
   "nbconvert_exporter": "python",
   "pygments_lexer": "ipython3",
   "version": "3.9.1"
  }
 },
 "nbformat": 4,
 "nbformat_minor": 5
}