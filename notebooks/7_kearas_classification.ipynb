{
 "cells": [
  {
   "cell_type": "code",
   "execution_count": 1,
   "metadata": {
    "id": "pv5AU6Ou1SDY"
   },
   "outputs": [],
   "source": [
    "import tensorflow as tf\n",
    "from tensorflow import keras\n",
    "import numpy as np\n",
    "import matplotlib.pyplot as plt\n",
    "import pandas as pd \n",
    "from sklearn.model_selection import train_test_split"
   ]
  },
  {
   "cell_type": "code",
   "execution_count": 2,
   "metadata": {
    "id": "ThLeWsE2Fqdp"
   },
   "outputs": [],
   "source": [
    "df = pd.read_csv(\"D:/Fork/data-analysis/Data/Bank Marketing Data Set/bank_preprocessed.csv\")"
   ]
  },
  {
   "cell_type": "markdown",
   "metadata": {},
   "source": [
    "Для начала преобразуем датасет: удалим 1 лишний дулбирующий столбец целевого признака"
   ]
  },
  {
   "cell_type": "code",
   "execution_count": 3,
   "metadata": {
    "id": "ftrPIkAdCZzQ"
   },
   "outputs": [],
   "source": [
    "df.rename(columns={'y_yes': 'y'}, inplace=True)\n",
    "df.drop('y_no', axis=1, inplace=True)"
   ]
  },
  {
   "cell_type": "code",
   "execution_count": 4,
   "metadata": {
    "colab": {
     "base_uri": "https://localhost:8080/",
     "height": 234
    },
    "id": "VfV1PJXAB3KO",
    "outputId": "d8e15124-fd36-4c10-bad5-e478d670203e"
   },
   "outputs": [
    {
     "output_type": "execute_result",
     "data": {
      "text/plain": [
       "   age  balance  day  duration  campaign  pdays  previous  job_admin.  \\\n",
       "0   30     1787   19        79         1     -1         0           0   \n",
       "1   33     4789   11       220         1    339         4           0   \n",
       "2   35     1350   16       185         1    330         1           0   \n",
       "3   30     1476    3       199         4     -1         0           0   \n",
       "4   59        0    5       226         1     -1         0           0   \n",
       "\n",
       "   job_blue-collar  job_entrepreneur  ...  month_mar  month_may  month_nov  \\\n",
       "0                0                 0  ...          0          0          0   \n",
       "1                0                 0  ...          0          1          0   \n",
       "2                0                 0  ...          0          0          0   \n",
       "3                0                 0  ...          0          0          0   \n",
       "4                1                 0  ...          0          1          0   \n",
       "\n",
       "   month_oct  month_sep  poutcome_failure  poutcome_other  poutcome_success  \\\n",
       "0          1          0                 0               0                 0   \n",
       "1          0          0                 1               0                 0   \n",
       "2          0          0                 1               0                 0   \n",
       "3          0          0                 0               0                 0   \n",
       "4          0          0                 0               0                 0   \n",
       "\n",
       "   poutcome_unknown  y  \n",
       "0                 1  0  \n",
       "1                 0  0  \n",
       "2                 0  0  \n",
       "3                 1  0  \n",
       "4                 1  0  \n",
       "\n",
       "[5 rows x 52 columns]"
      ],
      "text/html": "<div>\n<style scoped>\n    .dataframe tbody tr th:only-of-type {\n        vertical-align: middle;\n    }\n\n    .dataframe tbody tr th {\n        vertical-align: top;\n    }\n\n    .dataframe thead th {\n        text-align: right;\n    }\n</style>\n<table border=\"1\" class=\"dataframe\">\n  <thead>\n    <tr style=\"text-align: right;\">\n      <th></th>\n      <th>age</th>\n      <th>balance</th>\n      <th>day</th>\n      <th>duration</th>\n      <th>campaign</th>\n      <th>pdays</th>\n      <th>previous</th>\n      <th>job_admin.</th>\n      <th>job_blue-collar</th>\n      <th>job_entrepreneur</th>\n      <th>...</th>\n      <th>month_mar</th>\n      <th>month_may</th>\n      <th>month_nov</th>\n      <th>month_oct</th>\n      <th>month_sep</th>\n      <th>poutcome_failure</th>\n      <th>poutcome_other</th>\n      <th>poutcome_success</th>\n      <th>poutcome_unknown</th>\n      <th>y</th>\n    </tr>\n  </thead>\n  <tbody>\n    <tr>\n      <th>0</th>\n      <td>30</td>\n      <td>1787</td>\n      <td>19</td>\n      <td>79</td>\n      <td>1</td>\n      <td>-1</td>\n      <td>0</td>\n      <td>0</td>\n      <td>0</td>\n      <td>0</td>\n      <td>...</td>\n      <td>0</td>\n      <td>0</td>\n      <td>0</td>\n      <td>1</td>\n      <td>0</td>\n      <td>0</td>\n      <td>0</td>\n      <td>0</td>\n      <td>1</td>\n      <td>0</td>\n    </tr>\n    <tr>\n      <th>1</th>\n      <td>33</td>\n      <td>4789</td>\n      <td>11</td>\n      <td>220</td>\n      <td>1</td>\n      <td>339</td>\n      <td>4</td>\n      <td>0</td>\n      <td>0</td>\n      <td>0</td>\n      <td>...</td>\n      <td>0</td>\n      <td>1</td>\n      <td>0</td>\n      <td>0</td>\n      <td>0</td>\n      <td>1</td>\n      <td>0</td>\n      <td>0</td>\n      <td>0</td>\n      <td>0</td>\n    </tr>\n    <tr>\n      <th>2</th>\n      <td>35</td>\n      <td>1350</td>\n      <td>16</td>\n      <td>185</td>\n      <td>1</td>\n      <td>330</td>\n      <td>1</td>\n      <td>0</td>\n      <td>0</td>\n      <td>0</td>\n      <td>...</td>\n      <td>0</td>\n      <td>0</td>\n      <td>0</td>\n      <td>0</td>\n      <td>0</td>\n      <td>1</td>\n      <td>0</td>\n      <td>0</td>\n      <td>0</td>\n      <td>0</td>\n    </tr>\n    <tr>\n      <th>3</th>\n      <td>30</td>\n      <td>1476</td>\n      <td>3</td>\n      <td>199</td>\n      <td>4</td>\n      <td>-1</td>\n      <td>0</td>\n      <td>0</td>\n      <td>0</td>\n      <td>0</td>\n      <td>...</td>\n      <td>0</td>\n      <td>0</td>\n      <td>0</td>\n      <td>0</td>\n      <td>0</td>\n      <td>0</td>\n      <td>0</td>\n      <td>0</td>\n      <td>1</td>\n      <td>0</td>\n    </tr>\n    <tr>\n      <th>4</th>\n      <td>59</td>\n      <td>0</td>\n      <td>5</td>\n      <td>226</td>\n      <td>1</td>\n      <td>-1</td>\n      <td>0</td>\n      <td>0</td>\n      <td>1</td>\n      <td>0</td>\n      <td>...</td>\n      <td>0</td>\n      <td>1</td>\n      <td>0</td>\n      <td>0</td>\n      <td>0</td>\n      <td>0</td>\n      <td>0</td>\n      <td>0</td>\n      <td>1</td>\n      <td>0</td>\n    </tr>\n  </tbody>\n</table>\n<p>5 rows × 52 columns</p>\n</div>"
     },
     "metadata": {},
     "execution_count": 4
    }
   ],
   "source": [
    "df.head()"
   ]
  },
  {
   "cell_type": "code",
   "execution_count": 5,
   "metadata": {
    "colab": {
     "base_uri": "https://localhost:8080/"
    },
    "id": "iR2EUw-kCzBn",
    "outputId": "c6212176-af12-4ecd-8b13-3f7f4d97ecfa"
   },
   "outputs": [
    {
     "output_type": "stream",
     "name": "stdout",
     "text": [
      "<class 'pandas.core.frame.DataFrame'>\nInt64Index: 4521 entries, 0 to 4520\nData columns (total 52 columns):\n #   Column               Non-Null Count  Dtype\n---  ------               --------------  -----\n 0   age                  4521 non-null   int64\n 1   balance              4521 non-null   int64\n 2   day                  4521 non-null   int64\n 3   duration             4521 non-null   int64\n 4   campaign             4521 non-null   int64\n 5   pdays                4521 non-null   int64\n 6   previous             4521 non-null   int64\n 7   job_admin.           4521 non-null   int64\n 8   job_blue-collar      4521 non-null   int64\n 9   job_entrepreneur     4521 non-null   int64\n 10  job_housemaid        4521 non-null   int64\n 11  job_management       4521 non-null   int64\n 12  job_retired          4521 non-null   int64\n 13  job_self-employed    4521 non-null   int64\n 14  job_services         4521 non-null   int64\n 15  job_student          4521 non-null   int64\n 16  job_technician       4521 non-null   int64\n 17  job_unemployed       4521 non-null   int64\n 18  job_unknown          4521 non-null   int64\n 19  marital_divorced     4521 non-null   int64\n 20  marital_married      4521 non-null   int64\n 21  marital_single       4521 non-null   int64\n 22  education_primary    4521 non-null   int64\n 23  education_secondary  4521 non-null   int64\n 24  education_tertiary   4521 non-null   int64\n 25  education_unknown    4521 non-null   int64\n 26  default_no           4521 non-null   int64\n 27  default_yes          4521 non-null   int64\n 28  housing_no           4521 non-null   int64\n 29  housing_yes          4521 non-null   int64\n 30  loan_no              4521 non-null   int64\n 31  loan_yes             4521 non-null   int64\n 32  contact_cellular     4521 non-null   int64\n 33  contact_telephone    4521 non-null   int64\n 34  contact_unknown      4521 non-null   int64\n 35  month_apr            4521 non-null   int64\n 36  month_aug            4521 non-null   int64\n 37  month_dec            4521 non-null   int64\n 38  month_feb            4521 non-null   int64\n 39  month_jan            4521 non-null   int64\n 40  month_jul            4521 non-null   int64\n 41  month_jun            4521 non-null   int64\n 42  month_mar            4521 non-null   int64\n 43  month_may            4521 non-null   int64\n 44  month_nov            4521 non-null   int64\n 45  month_oct            4521 non-null   int64\n 46  month_sep            4521 non-null   int64\n 47  poutcome_failure     4521 non-null   int64\n 48  poutcome_other       4521 non-null   int64\n 49  poutcome_success     4521 non-null   int64\n 50  poutcome_unknown     4521 non-null   int64\n 51  y                    4521 non-null   int64\ndtypes: int64(52)\nmemory usage: 1.8 MB\n"
     ]
    }
   ],
   "source": [
    "df.info()"
   ]
  },
  {
   "cell_type": "markdown",
   "metadata": {},
   "source": [
    "Разобьем выборку на обучающую и тестовую"
   ]
  },
  {
   "cell_type": "code",
   "execution_count": 6,
   "metadata": {
    "id": "3w09lMNmF0bT"
   },
   "outputs": [],
   "source": [
    "X = df.iloc[:, :-1].values\n",
    "y = df.iloc[:, 51].values\n",
    "X_train, X_test, y_train, y_test = train_test_split(X, y, test_size=0.20)"
   ]
  },
  {
   "cell_type": "code",
   "execution_count": 10,
   "metadata": {
    "colab": {
     "base_uri": "https://localhost:8080/"
    },
    "id": "oxRCFkhvDAcf",
    "outputId": "c04b1df2-4804-4724-cf93-ae67b9c61252"
   },
   "outputs": [
    {
     "output_type": "execute_result",
     "data": {
      "text/plain": [
       "array([1, 1, 0, 0, 0, 0, 0, 0, 0, 0, 1, 1, 0, 0, 0, 0, 1, 0, 0, 0, 0, 1,\n",
       "       0, 0, 0, 0, 0, 0, 0, 0, 0, 0, 0, 1, 0, 0, 0, 0, 0, 0, 0, 0, 0, 1,\n",
       "       0, 0, 0, 0, 0, 1, 0, 0, 0, 0, 0, 0, 0, 0, 1, 0, 0, 0, 0, 1, 0, 0,\n",
       "       0, 0, 0, 0, 0, 0, 0, 0, 0, 0, 0, 0, 0, 0, 0, 0, 1, 0, 0, 0, 0, 0,\n",
       "       1, 0, 1, 0, 0, 0, 0, 1, 0, 1, 0, 0, 0, 0, 0, 0, 0, 0, 0, 0, 0, 0,\n",
       "       0, 0, 0, 0, 0, 0, 0, 0, 0, 0, 0, 0, 0, 0, 0, 0, 0, 0, 0, 0, 1, 0,\n",
       "       0, 0, 0, 0, 1, 0, 0, 0, 0, 0, 0, 1, 0, 0, 0, 0, 0, 0, 0, 0, 1, 1,\n",
       "       0, 0, 0, 0, 0, 0, 0, 0, 0, 0, 0, 0, 0, 0, 0, 0, 0, 0, 0, 0, 0, 0,\n",
       "       0, 0, 0, 0, 0, 0, 0, 0, 0, 0, 0, 0, 0, 0, 0, 1, 0, 0, 0, 0, 0, 1,\n",
       "       0, 0, 0, 0, 0, 0, 0, 0, 0, 1, 0, 0, 0, 0, 0, 0, 0, 1, 0, 0, 0, 0,\n",
       "       0, 0, 0, 1, 0, 0, 1, 0, 0, 0, 0, 0, 1, 0, 0, 0, 0, 0, 0, 0, 0, 0,\n",
       "       1, 0, 0, 0, 1, 0, 1, 1, 0, 1, 0, 0, 0, 0, 0, 0, 0, 0, 0, 1, 0, 0,\n",
       "       0, 0, 0, 0, 0, 1, 1, 0, 0, 0, 0, 0, 0, 0, 0, 0, 0, 0, 0, 0, 0, 0,\n",
       "       0, 0, 0, 0, 1, 0, 0, 0, 0, 0, 0, 0, 0, 1, 1, 0, 1, 0, 0, 0, 0, 1,\n",
       "       0, 0, 0, 0, 1, 0, 0, 1, 0, 0, 0, 0, 0, 0, 1, 0, 1, 0, 0, 0, 0, 0,\n",
       "       0, 0, 1, 0, 0, 0, 1, 1, 0, 0, 1, 0, 1, 0, 0, 0, 0, 0, 1, 0, 0, 0,\n",
       "       0, 0, 0, 0, 0, 0, 0, 0, 0, 0, 0, 0, 0, 0, 0, 0, 0, 0, 0, 1, 0, 0,\n",
       "       0, 1, 0, 0, 0, 1, 0, 0, 0, 0, 0, 0, 0, 1, 0, 0, 0, 0, 1, 0, 1, 0,\n",
       "       0, 0, 0, 0, 0, 0, 0, 1, 0, 0, 1, 0, 0, 0, 0, 0, 0, 1, 0, 1, 0, 0,\n",
       "       0, 0, 0, 0, 0, 0, 0, 0, 0, 0, 0, 0, 0, 0, 0, 1, 0, 0, 0, 0, 0, 0,\n",
       "       0, 0, 0, 0, 0, 0, 0, 0, 0, 0, 0, 0, 0, 0, 0, 0, 0, 0, 0, 0, 0, 1,\n",
       "       0, 0, 0, 1, 0, 0, 0, 0, 0, 1, 0, 0, 0, 0, 0, 0, 0, 0, 1, 0, 0, 0,\n",
       "       0, 0, 0, 0, 0, 0, 0, 0, 0, 0, 0, 0, 0, 0, 0, 0, 0, 0, 0, 1, 0, 0,\n",
       "       0, 1, 0, 0, 0, 1, 0, 0, 0, 0, 0, 0, 0, 0, 0, 0, 0, 0, 0, 0, 0, 0,\n",
       "       0, 0, 0, 0, 0, 0, 0, 0, 0, 0, 1, 1, 0, 0, 0, 0, 0, 1, 0, 0, 0, 0,\n",
       "       0, 0, 0, 0, 0, 0, 0, 0, 0, 0, 0, 0, 0, 0, 0, 0, 0, 0, 0, 0, 0, 0,\n",
       "       0, 0, 0, 1, 0, 0, 0, 1, 0, 0, 0, 0, 0, 0, 0, 0, 0, 0, 0, 0, 0, 0,\n",
       "       0, 0, 0, 0, 1, 1, 0, 0, 0, 0, 1, 0, 0, 0, 0, 0, 0, 0, 0, 0, 0, 0,\n",
       "       0, 0, 0, 0, 0, 0, 0, 0, 0, 0, 0, 0, 1, 0, 0, 0, 0, 0, 0, 0, 1, 0,\n",
       "       0, 0, 0, 1, 0, 0, 0, 0, 0, 0, 1, 0, 1, 0, 0, 0, 0, 1, 0, 0, 0, 0,\n",
       "       0, 0, 0, 1, 0, 1, 0, 0, 0, 0, 0, 1, 0, 0, 0, 0, 0, 0, 0, 0, 0, 0,\n",
       "       0, 0, 0, 0, 0, 1, 0, 0, 0, 0, 0, 0, 0, 0, 0, 0, 0, 0, 0, 0, 0, 0,\n",
       "       0, 0, 0, 0, 0, 0, 0, 0, 1, 0, 0, 0, 0, 1, 0, 0, 0, 0, 0, 0, 1, 0,\n",
       "       0, 0, 0, 1, 0, 0, 0, 0, 0, 0, 0, 0, 0, 0, 0, 0, 0, 0, 0, 0, 0, 0,\n",
       "       0, 0, 0, 0, 1, 0, 0, 1, 1, 0, 0, 0, 0, 1, 0, 0, 0, 0, 0, 0, 0, 0,\n",
       "       0, 0, 0, 0, 0, 0, 0, 0, 0, 0, 0, 0, 0, 0, 0, 0, 0, 0, 0, 0, 0, 0,\n",
       "       0, 0, 0, 0, 0, 0, 0, 0, 0, 0, 1, 1, 0, 0, 0, 1, 1, 0, 0, 0, 0, 1,\n",
       "       1, 0, 0, 0, 0, 1, 0, 0, 0, 0, 1, 0, 0, 0, 0, 0, 0, 0, 0, 0, 0, 0,\n",
       "       1, 0, 0, 0, 0, 0, 1, 0, 0, 1, 1, 0, 0, 0, 0, 0, 0, 0, 0, 0, 1, 0,\n",
       "       0, 0, 0, 0, 0, 0, 0, 0, 0, 0, 0, 0, 0, 0, 0, 0, 1, 0, 0, 0, 0, 1,\n",
       "       0, 0, 1, 0, 0, 0, 0, 0, 0, 1, 0, 0, 0, 1, 0, 0, 0, 0, 0, 0, 0, 1,\n",
       "       0, 0, 0], dtype=int64)"
      ]
     },
     "metadata": {},
     "execution_count": 10
    }
   ],
   "source": [
    "y_test"
   ]
  },
  {
   "cell_type": "markdown",
   "metadata": {},
   "source": [
    "Создадим Sequential model №1: на 1 слое 10 нейронов, на 2 - 5, на 3 - 1 выходной нейрон, активационные функции: relu и сигмоида"
   ]
  },
  {
   "cell_type": "code",
   "execution_count": 11,
   "metadata": {
    "id": "4i4I9pl-MmWY"
   },
   "outputs": [],
   "source": [
    "# тест\n",
    "model = keras.Sequential()\n",
    "model.add(keras.layers.Dense(10, input_dim=len(X_train[0,:]), activation='relu'))\n",
    "model.add(keras.layers.Dense(5, activation='relu'))\n",
    "model.add(keras.layers.Dense(1, activation='sigmoid'))"
   ]
  },
  {
   "cell_type": "code",
   "execution_count": 12,
   "metadata": {
    "colab": {
     "base_uri": "https://localhost:8080/"
    },
    "id": "_MV4LeAfFIe3",
    "outputId": "247203c7-b46d-4c2f-9412-a0a001ace5b2"
   },
   "outputs": [
    {
     "output_type": "stream",
     "name": "stdout",
     "text": [
      "Model: \"sequential_1\"\n_________________________________________________________________\nLayer (type)                 Output Shape              Param #   \n=================================================================\ndense_3 (Dense)              (None, 10)                520       \n_________________________________________________________________\ndense_4 (Dense)              (None, 5)                 55        \n_________________________________________________________________\ndense_5 (Dense)              (None, 1)                 6         \n=================================================================\nTotal params: 581\nTrainable params: 581\nNon-trainable params: 0\n_________________________________________________________________\n"
     ]
    }
   ],
   "source": [
    "model.summary()"
   ]
  },
  {
   "cell_type": "code",
   "execution_count": 13,
   "metadata": {
    "id": "uDfot41rM1lo"
   },
   "outputs": [],
   "source": [
    "model.compile(loss='binary_crossentropy', optimizer='adam', metrics=['accuracy'])"
   ]
  },
  {
   "cell_type": "code",
   "execution_count": 14,
   "metadata": {
    "colab": {
     "base_uri": "https://localhost:8080/"
    },
    "id": "Psc1dd91Dl_N",
    "outputId": "b951a8eb-2d67-4a22-96c5-88f9ac115f52"
   },
   "outputs": [
    {
     "output_type": "execute_result",
     "data": {
      "text/plain": [
       "(3616, 51)"
      ]
     },
     "metadata": {},
     "execution_count": 14
    }
   ],
   "source": [
    "X_train.shape"
   ]
  },
  {
   "cell_type": "code",
   "execution_count": 15,
   "metadata": {
    "colab": {
     "base_uri": "https://localhost:8080/"
    },
    "id": "l5xI_ycyEruw",
    "outputId": "6f886ee5-9824-4afb-f1ce-8a1ff793cf15"
   },
   "outputs": [
    {
     "output_type": "execute_result",
     "data": {
      "text/plain": [
       "(3616,)"
      ]
     },
     "metadata": {},
     "execution_count": 15
    }
   ],
   "source": [
    "y_train.shape"
   ]
  },
  {
   "cell_type": "code",
   "execution_count": 16,
   "metadata": {
    "colab": {
     "base_uri": "https://localhost:8080/"
    },
    "id": "FFDHT-NPM9ER",
    "outputId": "b6ccd0c6-b02e-41ce-e3ba-bb3da8447912"
   },
   "outputs": [
    {
     "output_type": "stream",
     "name": "stdout",
     "text": [
      "Epoch 1/30\n",
      "29/29 [==============================] - 0s 893us/step - loss: 119.5056 - accuracy: 0.1242\n",
      "Epoch 2/30\n",
      "29/29 [==============================] - 0s 857us/step - loss: 83.6330 - accuracy: 0.1515\n",
      "Epoch 3/30\n",
      "29/29 [==============================] - 0s 906us/step - loss: 60.0842 - accuracy: 0.1767\n",
      "Epoch 4/30\n",
      "29/29 [==============================] - 0s 831us/step - loss: 41.1835 - accuracy: 0.2884\n",
      "Epoch 5/30\n",
      "29/29 [==============================] - 0s 893us/step - loss: 26.1579 - accuracy: 0.3590\n",
      "Epoch 6/30\n",
      "29/29 [==============================] - 0s 870us/step - loss: 11.6853 - accuracy: 0.5119\n",
      "Epoch 7/30\n",
      "29/29 [==============================] - 0s 887us/step - loss: 1.0375 - accuracy: 0.8429\n",
      "Epoch 8/30\n",
      "29/29 [==============================] - 0s 858us/step - loss: 0.4793 - accuracy: 0.8515\n",
      "Epoch 9/30\n",
      "29/29 [==============================] - 0s 870us/step - loss: 0.4147 - accuracy: 0.8808\n",
      "Epoch 10/30\n",
      "29/29 [==============================] - 0s 865us/step - loss: 0.4039 - accuracy: 0.8786\n",
      "Epoch 11/30\n",
      "29/29 [==============================] - 0s 843us/step - loss: 0.3942 - accuracy: 0.8794\n",
      "Epoch 12/30\n",
      "29/29 [==============================] - 0s 857us/step - loss: 0.3884 - accuracy: 0.8778\n",
      "Epoch 13/30\n",
      "29/29 [==============================] - 0s 905us/step - loss: 0.3828 - accuracy: 0.8808\n",
      "Epoch 14/30\n",
      "29/29 [==============================] - 0s 835us/step - loss: 0.3786 - accuracy: 0.8764\n",
      "Epoch 15/30\n",
      "29/29 [==============================] - 0s 894us/step - loss: 0.3765 - accuracy: 0.8778\n",
      "Epoch 16/30\n",
      "29/29 [==============================] - 0s 842us/step - loss: 0.3825 - accuracy: 0.8786\n",
      "Epoch 17/30\n",
      "29/29 [==============================] - 0s 839us/step - loss: 0.3833 - accuracy: 0.8756\n",
      "Epoch 18/30\n",
      "29/29 [==============================] - 0s 835us/step - loss: 0.3743 - accuracy: 0.8728\n",
      "Epoch 19/30\n",
      "29/29 [==============================] - 0s 859us/step - loss: 0.3667 - accuracy: 0.8783\n",
      "Epoch 20/30\n",
      "29/29 [==============================] - 0s 910us/step - loss: 0.3605 - accuracy: 0.8794\n",
      "Epoch 21/30\n",
      "29/29 [==============================] - 0s 912us/step - loss: 0.3552 - accuracy: 0.8791\n",
      "Epoch 22/30\n",
      "29/29 [==============================] - 0s 870us/step - loss: 0.3571 - accuracy: 0.8767\n",
      "Epoch 23/30\n",
      "29/29 [==============================] - 0s 924us/step - loss: 0.3501 - accuracy: 0.8794\n",
      "Epoch 24/30\n",
      "29/29 [==============================] - 0s 857us/step - loss: 0.3470 - accuracy: 0.8791\n",
      "Epoch 25/30\n",
      "29/29 [==============================] - 0s 858us/step - loss: 0.3550 - accuracy: 0.8775\n",
      "Epoch 26/30\n",
      "29/29 [==============================] - 0s 930us/step - loss: 0.3393 - accuracy: 0.8811\n",
      "Epoch 27/30\n",
      "29/29 [==============================] - 0s 827us/step - loss: 0.3556 - accuracy: 0.8783\n",
      "Epoch 28/30\n",
      "29/29 [==============================] - 0s 887us/step - loss: 0.3481 - accuracy: 0.8822\n",
      "Epoch 29/30\n",
      "29/29 [==============================] - 0s 893us/step - loss: 0.3388 - accuracy: 0.8791\n",
      "Epoch 30/30\n",
      "29/29 [==============================] - 0s 896us/step - loss: 0.3579 - accuracy: 0.8822\n"
     ]
    },
    {
     "output_type": "execute_result",
     "data": {
      "text/plain": [
       "<tensorflow.python.keras.callbacks.History at 0x19b07305700>"
      ]
     },
     "metadata": {},
     "execution_count": 16
    }
   ],
   "source": [
    "model.fit(X_train, y_train, epochs=30, batch_size=128, shuffle=True)"
   ]
  },
  {
   "cell_type": "code",
   "execution_count": 18,
   "metadata": {
    "colab": {
     "base_uri": "https://localhost:8080/"
    },
    "id": "HK6vaoZlGw3p",
    "outputId": "1546d1f6-4c76-450a-ad38-9fb242ebffa3"
   },
   "outputs": [
    {
     "output_type": "stream",
     "name": "stdout",
     "text": [
      "29/29 [==============================] - 0s 501us/step - loss: 0.2917 - accuracy: 0.8917\n",
      "Test accuracy: 0.8917127251625061\n"
     ]
    }
   ],
   "source": [
    "test_loss, test_acc = model.evaluate(X_test, y_test)\n",
    "print('Test accuracy:', test_acc)"
   ]
  },
  {
   "cell_type": "markdown",
   "metadata": {},
   "source": [
    "Создадим Sequential model №2 с количествами нейронов в виде степеней 2, активационные функции: relu и сигмоида, также добавлены dropout для борьбы с переобучением"
   ]
  },
  {
   "cell_type": "code",
   "execution_count": 19,
   "metadata": {
    "id": "RJCPii1LF9Rr"
   },
   "outputs": [],
   "source": [
    "# тест 2\n",
    "model1 = keras.Sequential()\n",
    "model1.add(keras.layers.Dense(128, input_dim=len(X_train[0,:]), activation='relu'))\n",
    "model1.add(keras.layers.Dropout(0.3))\n",
    "model1.add(keras.layers.Dense(64, activation='relu'))\n",
    "model1.add(keras.layers.Dropout(0.3))\n",
    "model1.add(keras.layers.Dense(32, activation='relu'))\n",
    "model1.add(keras.layers.Dropout(0.3))\n",
    "model1.add(keras.layers.Dense(1, activation='sigmoid'))"
   ]
  },
  {
   "cell_type": "code",
   "execution_count": 20,
   "metadata": {
    "id": "LTuaqMp7GErm"
   },
   "outputs": [],
   "source": [
    "model1.compile(loss='binary_crossentropy', optimizer='adam', metrics=['accuracy'])"
   ]
  },
  {
   "cell_type": "code",
   "execution_count": 27,
   "metadata": {
    "colab": {
     "base_uri": "https://localhost:8080/"
    },
    "id": "D-sOLJCVGcs-",
    "outputId": "eece40b9-cd83-4038-f741-733d5759f25d"
   },
   "outputs": [
    {
     "output_type": "stream",
     "name": "stdout",
     "text": [
      "Model: \"sequential_2\"\n_________________________________________________________________\nLayer (type)                 Output Shape              Param #   \n=================================================================\ndense_6 (Dense)              (None, 128)               6656      \n_________________________________________________________________\ndropout (Dropout)            (None, 128)               0         \n_________________________________________________________________\ndense_7 (Dense)              (None, 64)                8256      \n_________________________________________________________________\ndropout_1 (Dropout)          (None, 64)                0         \n_________________________________________________________________\ndense_8 (Dense)              (None, 32)                2080      \n_________________________________________________________________\ndropout_2 (Dropout)          (None, 32)                0         \n_________________________________________________________________\ndense_9 (Dense)              (None, 1)                 33        \n=================================================================\nTotal params: 17,025\nTrainable params: 17,025\nNon-trainable params: 0\n_________________________________________________________________\n"
     ]
    }
   ],
   "source": [
    "model1.summary()"
   ]
  },
  {
   "cell_type": "code",
   "execution_count": 28,
   "metadata": {
    "colab": {
     "base_uri": "https://localhost:8080/"
    },
    "id": "WTmjeFH3Gcyu",
    "outputId": "8782b05b-5be3-4106-8d2b-13001cfedd67"
   },
   "outputs": [
    {
     "output_type": "stream",
     "name": "stdout",
     "text": [
      "Epoch 1/30\n",
      "29/29 [==============================] - 1s 2ms/step - loss: 30.0998 - accuracy: 0.7868\n",
      "Epoch 2/30\n",
      "29/29 [==============================] - 0s 2ms/step - loss: 11.1882 - accuracy: 0.7536\n",
      "Epoch 3/30\n",
      "29/29 [==============================] - 0s 2ms/step - loss: 7.1883 - accuracy: 0.7732\n",
      "Epoch 4/30\n",
      "29/29 [==============================] - 0s 2ms/step - loss: 5.5327 - accuracy: 0.7666\n",
      "Epoch 5/30\n",
      "29/29 [==============================] - 0s 2ms/step - loss: 4.4732 - accuracy: 0.7586\n",
      "Epoch 6/30\n",
      "29/29 [==============================] - 0s 2ms/step - loss: 3.3057 - accuracy: 0.7768\n",
      "Epoch 7/30\n",
      "29/29 [==============================] - 0s 2ms/step - loss: 2.7791 - accuracy: 0.7851\n",
      "Epoch 8/30\n",
      "29/29 [==============================] - 0s 2ms/step - loss: 2.5324 - accuracy: 0.7920\n",
      "Epoch 9/30\n",
      "29/29 [==============================] - 0s 2ms/step - loss: 1.6301 - accuracy: 0.8081\n",
      "Epoch 10/30\n",
      "29/29 [==============================] - 0s 2ms/step - loss: 1.7587 - accuracy: 0.8037\n",
      "Epoch 11/30\n",
      "29/29 [==============================] - 0s 2ms/step - loss: 1.1842 - accuracy: 0.8374\n",
      "Epoch 12/30\n",
      "29/29 [==============================] - 0s 2ms/step - loss: 1.0378 - accuracy: 0.8399\n",
      "Epoch 13/30\n",
      "29/29 [==============================] - 0s 2ms/step - loss: 0.9032 - accuracy: 0.8545\n",
      "Epoch 14/30\n",
      "29/29 [==============================] - 0s 3ms/step - loss: 0.8772 - accuracy: 0.8438\n",
      "Epoch 15/30\n",
      "29/29 [==============================] - 0s 2ms/step - loss: 0.7959 - accuracy: 0.8603\n",
      "Epoch 16/30\n",
      "29/29 [==============================] - 0s 2ms/step - loss: 0.8097 - accuracy: 0.8634\n",
      "Epoch 17/30\n",
      "29/29 [==============================] - 0s 2ms/step - loss: 0.7114 - accuracy: 0.8711\n",
      "Epoch 18/30\n",
      "29/29 [==============================] - 0s 2ms/step - loss: 0.6100 - accuracy: 0.8686\n",
      "Epoch 19/30\n",
      "29/29 [==============================] - 0s 2ms/step - loss: 0.7087 - accuracy: 0.8720\n",
      "Epoch 20/30\n",
      "29/29 [==============================] - 0s 2ms/step - loss: 0.5984 - accuracy: 0.8733\n",
      "Epoch 21/30\n",
      "29/29 [==============================] - 0s 2ms/step - loss: 0.6207 - accuracy: 0.8742\n",
      "Epoch 22/30\n",
      "29/29 [==============================] - 0s 2ms/step - loss: 0.6103 - accuracy: 0.8778\n",
      "Epoch 23/30\n",
      "29/29 [==============================] - 0s 2ms/step - loss: 0.4797 - accuracy: 0.8753\n",
      "Epoch 24/30\n",
      "29/29 [==============================] - 0s 2ms/step - loss: 0.5201 - accuracy: 0.8783\n",
      "Epoch 25/30\n",
      "29/29 [==============================] - 0s 2ms/step - loss: 0.5047 - accuracy: 0.8769\n",
      "Epoch 26/30\n",
      "29/29 [==============================] - 0s 2ms/step - loss: 0.4649 - accuracy: 0.8780\n",
      "Epoch 27/30\n",
      "29/29 [==============================] - 0s 2ms/step - loss: 0.4620 - accuracy: 0.8794\n",
      "Epoch 28/30\n",
      "29/29 [==============================] - 0s 2ms/step - loss: 0.4560 - accuracy: 0.8805\n",
      "Epoch 29/30\n",
      "29/29 [==============================] - 0s 2ms/step - loss: 0.4744 - accuracy: 0.8797\n",
      "Epoch 30/30\n",
      "29/29 [==============================] - 0s 2ms/step - loss: 0.5346 - accuracy: 0.8767\n"
     ]
    },
    {
     "output_type": "execute_result",
     "data": {
      "text/plain": [
       "<tensorflow.python.keras.callbacks.History at 0x19b0e8dce50>"
      ]
     },
     "metadata": {},
     "execution_count": 28
    }
   ],
   "source": [
    "model1.fit(X_train, y_train, epochs=30, batch_size=128, shuffle=True)\n",
    "# 1 модель норм, для модели не нужно много нейронов"
   ]
  },
  {
   "cell_type": "code",
   "execution_count": 29,
   "metadata": {
    "colab": {
     "base_uri": "https://localhost:8080/"
    },
    "id": "pg-TjjhvGjXB",
    "outputId": "14144057-bcc4-4510-eb99-f51c7d058b5b"
   },
   "outputs": [
    {
     "output_type": "stream",
     "name": "stdout",
     "text": [
      "29/29 [==============================] - 0s 643us/step - loss: 0.4104 - accuracy: 0.8939\n",
      "Test accuracy: 0.8939226269721985\n"
     ]
    }
   ],
   "source": [
    "test_loss, test_acc = model1.evaluate(X_test, y_test)\n",
    "print('Test accuracy:', test_acc)"
   ]
  },
  {
   "cell_type": "markdown",
   "metadata": {},
   "source": [
    "Для 3 модели взят случайный набор количества нейронов"
   ]
  },
  {
   "cell_type": "code",
   "execution_count": 30,
   "metadata": {
    "id": "9Rw5d_WbG5h0"
   },
   "outputs": [],
   "source": [
    "# тест 3\n",
    "model2 = keras.Sequential()\n",
    "model2.add(keras.layers.Dense(20, input_dim=len(X_train[0,:]), activation='relu'))\n",
    "model2.add(keras.layers.Dense(15, activation='relu'))\n",
    "model2.add(keras.layers.Dense(10, activation='relu'))\n",
    "model2.add(keras.layers.Dense(5, activation='relu'))\n",
    "model2.add(keras.layers.Dense(1, activation='sigmoid'))"
   ]
  },
  {
   "cell_type": "code",
   "execution_count": 31,
   "metadata": {
    "id": "iE5G-WwUHWzR"
   },
   "outputs": [],
   "source": [
    "model2.compile(loss='binary_crossentropy', optimizer='adam', metrics=['accuracy'])"
   ]
  },
  {
   "cell_type": "code",
   "execution_count": 32,
   "metadata": {
    "colab": {
     "base_uri": "https://localhost:8080/"
    },
    "id": "gCckIH6fHam6",
    "outputId": "fc3517a3-8478-4a49-ce48-29c0ed7be59c"
   },
   "outputs": [
    {
     "output_type": "stream",
     "name": "stdout",
     "text": [
      "Epoch 1/30\n",
      "29/29 [==============================] - 0s 896us/step - loss: 10.1927 - accuracy: 0.8576\n",
      "Epoch 2/30\n",
      "29/29 [==============================] - 0s 998us/step - loss: 1.8508 - accuracy: 0.6905\n",
      "Epoch 3/30\n",
      "29/29 [==============================] - 0s 955us/step - loss: 0.6103 - accuracy: 0.6659\n",
      "Epoch 4/30\n",
      "29/29 [==============================] - 0s 945us/step - loss: 0.5215 - accuracy: 0.7710\n",
      "Epoch 5/30\n",
      "29/29 [==============================] - 0s 853us/step - loss: 0.4809 - accuracy: 0.8252\n",
      "Epoch 6/30\n",
      "29/29 [==============================] - 0s 924us/step - loss: 0.4187 - accuracy: 0.8601\n",
      "Epoch 7/30\n",
      "29/29 [==============================] - 0s 981us/step - loss: 0.3844 - accuracy: 0.8689\n",
      "Epoch 8/30\n",
      "29/29 [==============================] - 0s 917us/step - loss: 0.3880 - accuracy: 0.8794\n",
      "Epoch 9/30\n",
      "29/29 [==============================] - 0s 974us/step - loss: 0.3762 - accuracy: 0.8814\n",
      "Epoch 10/30\n",
      "29/29 [==============================] - 0s 889us/step - loss: 0.3487 - accuracy: 0.8830\n",
      "Epoch 11/30\n",
      "29/29 [==============================] - 0s 967us/step - loss: 0.3546 - accuracy: 0.8736\n",
      "Epoch 12/30\n",
      "29/29 [==============================] - 0s 916us/step - loss: 0.3494 - accuracy: 0.8825\n",
      "Epoch 13/30\n",
      "29/29 [==============================] - 0s 987us/step - loss: 0.3387 - accuracy: 0.8827\n",
      "Epoch 14/30\n",
      "29/29 [==============================] - 0s 939us/step - loss: 0.3372 - accuracy: 0.8825\n",
      "Epoch 15/30\n",
      "29/29 [==============================] - 0s 990us/step - loss: 0.3253 - accuracy: 0.8825\n",
      "Epoch 16/30\n",
      "29/29 [==============================] - 0s 929us/step - loss: 0.3282 - accuracy: 0.8825\n",
      "Epoch 17/30\n",
      "29/29 [==============================] - 0s 964us/step - loss: 0.3175 - accuracy: 0.8825\n",
      "Epoch 18/30\n",
      "29/29 [==============================] - 0s 961us/step - loss: 0.3143 - accuracy: 0.8827\n",
      "Epoch 19/30\n",
      "29/29 [==============================] - 0s 1000us/step - loss: 0.3128 - accuracy: 0.8827\n",
      "Epoch 20/30\n",
      "29/29 [==============================] - 0s 983us/step - loss: 0.3116 - accuracy: 0.8825\n",
      "Epoch 21/30\n",
      "29/29 [==============================] - 0s 967us/step - loss: 0.3043 - accuracy: 0.8825\n",
      "Epoch 22/30\n",
      "29/29 [==============================] - 0s 934us/step - loss: 0.3035 - accuracy: 0.8825\n",
      "Epoch 23/30\n",
      "29/29 [==============================] - 0s 926us/step - loss: 0.3054 - accuracy: 0.8825\n",
      "Epoch 24/30\n",
      "29/29 [==============================] - 0s 893us/step - loss: 0.3015 - accuracy: 0.8827\n",
      "Epoch 25/30\n",
      "29/29 [==============================] - 0s 968us/step - loss: 0.2936 - accuracy: 0.8827\n",
      "Epoch 26/30\n",
      "29/29 [==============================] - 0s 964us/step - loss: 0.3065 - accuracy: 0.8825\n",
      "Epoch 27/30\n",
      "29/29 [==============================] - 0s 1ms/step - loss: 0.3001 - accuracy: 0.8830\n",
      "Epoch 28/30\n",
      "29/29 [==============================] - 0s 986us/step - loss: 0.2895 - accuracy: 0.8827\n",
      "Epoch 29/30\n",
      "29/29 [==============================] - 0s 965us/step - loss: 0.2902 - accuracy: 0.8827\n",
      "Epoch 30/30\n",
      "29/29 [==============================] - 0s 959us/step - loss: 0.2985 - accuracy: 0.8830\n"
     ]
    },
    {
     "output_type": "execute_result",
     "data": {
      "text/plain": [
       "<tensorflow.python.keras.callbacks.History at 0x19b0e741940>"
      ]
     },
     "metadata": {},
     "execution_count": 32
    }
   ],
   "source": [
    "model2.fit(X_train, y_train, epochs=30, batch_size=128, shuffle=True)"
   ]
  },
  {
   "cell_type": "code",
   "execution_count": 33,
   "metadata": {
    "colab": {
     "base_uri": "https://localhost:8080/"
    },
    "id": "_yBSCbTPHiqo",
    "outputId": "e9702c19-ef02-463f-8a14-2002b798e96e"
   },
   "outputs": [
    {
     "output_type": "stream",
     "name": "stdout",
     "text": [
      "29/29 [==============================] - 0s 546us/step - loss: 0.2608 - accuracy: 0.8928\n",
      "Test accuracy: 0.8928176760673523\n"
     ]
    }
   ],
   "source": [
    "test_loss, test_acc = model2.evaluate(X_test, y_test)\n",
    "print('Test accuracy:', test_acc)"
   ]
  },
  {
   "cell_type": "markdown",
   "metadata": {},
   "source": [
    "Исходя из оценки Точности моделей на тестовых выборках можно сделать вывод, что 1 модель справилась куда лучше других. Для решения задачи данного датасета с помощью нейроных сетей keras не требуется создавать нейронную сеть с большим количеством нейронов и слоев."
   ]
  },
  {
   "cell_type": "code",
   "execution_count": 34,
   "metadata": {
    "id": "XIiEGvb82OAT"
   },
   "outputs": [],
   "source": [
    "model.save(\"../keras_models/keras1.h5\")\n",
    "model1.save(\"../keras_models/keras2.h5\")\n",
    "model2.save(\"../keras_models/keras3.h5\")"
   ]
  },
  {
   "cell_type": "code",
   "execution_count": null,
   "metadata": {},
   "outputs": [],
   "source": []
  }
 ],
 "metadata": {
  "colab": {
   "collapsed_sections": [],
   "name": "7_kearas_classification.ipynb",
   "provenance": []
  },
  "kernelspec": {
   "name": "python3",
   "display_name": "Python 3.9.1 64-bit"
  },
  "language_info": {
   "codemirror_mode": {
    "name": "ipython",
    "version": 3
   },
   "file_extension": ".py",
   "mimetype": "text/x-python",
   "name": "python",
   "nbconvert_exporter": "python",
   "pygments_lexer": "ipython3",
   "version": "3.9.1"
  },
  "interpreter": {
   "hash": "c84b3ebeaacc2468b6e8413dbf910eb26a379e79a4c82eb165563ba392456739"
  }
 },
 "nbformat": 4,
 "nbformat_minor": 1
}