{
 "cells": [
  {
   "cell_type": "code",
   "execution_count": 1,
   "id": "conceptual-still",
   "metadata": {},
   "outputs": [],
   "source": [
    "import pandas as pd\n",
    "from sklearn import metrics\n",
    "from sklearn import ensemble  \n",
    "from sklearn.model_selection import GridSearchCV\n",
    "import numpy as np\n",
    "from sklearn.svm import SVC\n",
    "from sklearn.neighbors import KNeighborsClassifier\n",
    "from sklearn.ensemble import BaggingClassifier"
   ]
  },
  {
   "cell_type": "code",
   "execution_count": 2,
   "id": "civilian-mills",
   "metadata": {},
   "outputs": [],
   "source": [
    "dataset = pd.read_csv(r'D:\\Fork\\data-analysis\\Data\\Bank Marketing Data Set\\bank_preprocessed.csv', sep=',')"
   ]
  },
  {
   "cell_type": "code",
   "execution_count": 3,
   "id": "assigned-disclaimer",
   "metadata": {},
   "outputs": [
    {
     "output_type": "execute_result",
     "data": {
      "text/plain": [
       "   age  balance  day  duration  campaign  pdays  previous  job_admin.  \\\n",
       "0   30     1787   19        79         1     -1         0           0   \n",
       "1   33     4789   11       220         1    339         4           0   \n",
       "2   35     1350   16       185         1    330         1           0   \n",
       "3   30     1476    3       199         4     -1         0           0   \n",
       "4   59        0    5       226         1     -1         0           0   \n",
       "\n",
       "   job_blue-collar  job_entrepreneur  ...  month_may  month_nov  month_oct  \\\n",
       "0                0                 0  ...          0          0          1   \n",
       "1                0                 0  ...          1          0          0   \n",
       "2                0                 0  ...          0          0          0   \n",
       "3                0                 0  ...          0          0          0   \n",
       "4                1                 0  ...          1          0          0   \n",
       "\n",
       "   month_sep  poutcome_failure  poutcome_other  poutcome_success  \\\n",
       "0          0                 0               0                 0   \n",
       "1          0                 1               0                 0   \n",
       "2          0                 1               0                 0   \n",
       "3          0                 0               0                 0   \n",
       "4          0                 0               0                 0   \n",
       "\n",
       "   poutcome_unknown  y_no  y_yes  \n",
       "0                 1     1      0  \n",
       "1                 0     1      0  \n",
       "2                 0     1      0  \n",
       "3                 1     1      0  \n",
       "4                 1     1      0  \n",
       "\n",
       "[5 rows x 53 columns]"
      ],
      "text/html": "<div>\n<style scoped>\n    .dataframe tbody tr th:only-of-type {\n        vertical-align: middle;\n    }\n\n    .dataframe tbody tr th {\n        vertical-align: top;\n    }\n\n    .dataframe thead th {\n        text-align: right;\n    }\n</style>\n<table border=\"1\" class=\"dataframe\">\n  <thead>\n    <tr style=\"text-align: right;\">\n      <th></th>\n      <th>age</th>\n      <th>balance</th>\n      <th>day</th>\n      <th>duration</th>\n      <th>campaign</th>\n      <th>pdays</th>\n      <th>previous</th>\n      <th>job_admin.</th>\n      <th>job_blue-collar</th>\n      <th>job_entrepreneur</th>\n      <th>...</th>\n      <th>month_may</th>\n      <th>month_nov</th>\n      <th>month_oct</th>\n      <th>month_sep</th>\n      <th>poutcome_failure</th>\n      <th>poutcome_other</th>\n      <th>poutcome_success</th>\n      <th>poutcome_unknown</th>\n      <th>y_no</th>\n      <th>y_yes</th>\n    </tr>\n  </thead>\n  <tbody>\n    <tr>\n      <th>0</th>\n      <td>30</td>\n      <td>1787</td>\n      <td>19</td>\n      <td>79</td>\n      <td>1</td>\n      <td>-1</td>\n      <td>0</td>\n      <td>0</td>\n      <td>0</td>\n      <td>0</td>\n      <td>...</td>\n      <td>0</td>\n      <td>0</td>\n      <td>1</td>\n      <td>0</td>\n      <td>0</td>\n      <td>0</td>\n      <td>0</td>\n      <td>1</td>\n      <td>1</td>\n      <td>0</td>\n    </tr>\n    <tr>\n      <th>1</th>\n      <td>33</td>\n      <td>4789</td>\n      <td>11</td>\n      <td>220</td>\n      <td>1</td>\n      <td>339</td>\n      <td>4</td>\n      <td>0</td>\n      <td>0</td>\n      <td>0</td>\n      <td>...</td>\n      <td>1</td>\n      <td>0</td>\n      <td>0</td>\n      <td>0</td>\n      <td>1</td>\n      <td>0</td>\n      <td>0</td>\n      <td>0</td>\n      <td>1</td>\n      <td>0</td>\n    </tr>\n    <tr>\n      <th>2</th>\n      <td>35</td>\n      <td>1350</td>\n      <td>16</td>\n      <td>185</td>\n      <td>1</td>\n      <td>330</td>\n      <td>1</td>\n      <td>0</td>\n      <td>0</td>\n      <td>0</td>\n      <td>...</td>\n      <td>0</td>\n      <td>0</td>\n      <td>0</td>\n      <td>0</td>\n      <td>1</td>\n      <td>0</td>\n      <td>0</td>\n      <td>0</td>\n      <td>1</td>\n      <td>0</td>\n    </tr>\n    <tr>\n      <th>3</th>\n      <td>30</td>\n      <td>1476</td>\n      <td>3</td>\n      <td>199</td>\n      <td>4</td>\n      <td>-1</td>\n      <td>0</td>\n      <td>0</td>\n      <td>0</td>\n      <td>0</td>\n      <td>...</td>\n      <td>0</td>\n      <td>0</td>\n      <td>0</td>\n      <td>0</td>\n      <td>0</td>\n      <td>0</td>\n      <td>0</td>\n      <td>1</td>\n      <td>1</td>\n      <td>0</td>\n    </tr>\n    <tr>\n      <th>4</th>\n      <td>59</td>\n      <td>0</td>\n      <td>5</td>\n      <td>226</td>\n      <td>1</td>\n      <td>-1</td>\n      <td>0</td>\n      <td>0</td>\n      <td>1</td>\n      <td>0</td>\n      <td>...</td>\n      <td>1</td>\n      <td>0</td>\n      <td>0</td>\n      <td>0</td>\n      <td>0</td>\n      <td>0</td>\n      <td>0</td>\n      <td>1</td>\n      <td>1</td>\n      <td>0</td>\n    </tr>\n  </tbody>\n</table>\n<p>5 rows × 53 columns</p>\n</div>"
     },
     "metadata": {},
     "execution_count": 3
    }
   ],
   "source": [
    "dataset.head()"
   ]
  },
  {
   "cell_type": "code",
   "execution_count": 4,
   "id": "sealed-desperate",
   "metadata": {},
   "outputs": [],
   "source": [
    "X = dataset.iloc[:, :-1].values\n",
    "y = dataset.iloc[:, 52].values"
   ]
  },
  {
   "cell_type": "code",
   "execution_count": 5,
   "id": "polish-office",
   "metadata": {},
   "outputs": [],
   "source": [
    "from sklearn.model_selection import train_test_split\n",
    "X_train, X_test, y_train, y_test = train_test_split(X, y, test_size=0.20)"
   ]
  },
  {
   "cell_type": "code",
   "execution_count": 6,
   "id": "guilty-nicholas",
   "metadata": {},
   "outputs": [],
   "source": [
    "from sklearn.preprocessing import StandardScaler\n",
    "scaler = StandardScaler()\n",
    "scaler.fit(X_train)\n",
    "\n",
    "X_train = scaler.transform(X_train)\n",
    "X_test = scaler.transform(X_test)"
   ]
  },
  {
   "cell_type": "markdown",
   "id": "signed-shade",
   "metadata": {},
   "source": [
    " Метод опорных векторов (Support Vector Machines)"
   ]
  },
  {
   "cell_type": "code",
   "execution_count": 7,
   "id": "prime-requirement",
   "metadata": {},
   "outputs": [
    {
     "output_type": "execute_result",
     "data": {
      "text/plain": [
       "SVC()"
      ]
     },
     "metadata": {},
     "execution_count": 7
    }
   ],
   "source": [
    "from sklearn import svm\n",
    "svm = svm.SVC()\n",
    "svm.fit(X_train, y_train)"
   ]
  },
  {
   "cell_type": "code",
   "execution_count": 8,
   "id": "affected-contents",
   "metadata": {},
   "outputs": [
    {
     "output_type": "stream",
     "name": "stdout",
     "text": [
      "[[798   1]\n [  7  99]]\n              precision    recall  f1-score   support\n\n           0       0.99      1.00      1.00       799\n           1       0.99      0.93      0.96       106\n\n    accuracy                           0.99       905\n   macro avg       0.99      0.97      0.98       905\nweighted avg       0.99      0.99      0.99       905\n\n"
     ]
    }
   ],
   "source": [
    "y_pred = svm.predict(X_test)\n",
    "print(metrics.confusion_matrix(y_test, y_pred))\n",
    "print(metrics.classification_report(y_test, y_pred))"
   ]
  },
  {
   "cell_type": "markdown",
   "id": "textile-interpretation",
   "metadata": {},
   "source": [
    " Бэггинг"
   ]
  },
  {
   "cell_type": "code",
   "execution_count": 9,
   "id": "mediterranean-sight",
   "metadata": {},
   "outputs": [
    {
     "output_type": "stream",
     "name": "stdout",
     "text": [
      "[[798   1]\n [  9  97]]\n              precision    recall  f1-score   support\n\n           0       0.99      1.00      0.99       799\n           1       0.99      0.92      0.95       106\n\n    accuracy                           0.99       905\n   macro avg       0.99      0.96      0.97       905\nweighted avg       0.99      0.99      0.99       905\n\nWall time: 1.88 s\n"
     ]
    }
   ],
   "source": [
    "%%time\n",
    "bg = ensemble.BaggingClassifier(svm, n_jobs = -1)\n",
    "bg.fit(X_train, y_train)\n",
    "y_pred = bg.predict(X_test)\n",
    "print(metrics.confusion_matrix(y_test, y_pred))\n",
    "print(metrics.classification_report(y_test, y_pred))"
   ]
  },
  {
   "cell_type": "code",
   "execution_count": 10,
   "id": "written-question",
   "metadata": {},
   "outputs": [
    {
     "output_type": "stream",
     "name": "stdout",
     "text": [
      "Fitting 5 folds for each of 27 candidates, totalling 135 fits\n",
      "[[792   7]\n",
      " [ 93  13]]\n",
      "              precision    recall  f1-score   support\n",
      "\n",
      "           0       0.89      0.99      0.94       799\n",
      "           1       0.65      0.12      0.21       106\n",
      "\n",
      "    accuracy                           0.89       905\n",
      "   macro avg       0.77      0.56      0.57       905\n",
      "weighted avg       0.87      0.89      0.85       905\n",
      "\n"
     ]
    }
   ],
   "source": [
    "bagging_parameters_grid = { 'n_estimators' : [1, 50, 100],\n",
    "                           'max_features' : range(1,10,1)\n",
    "    \n",
    "}\n",
    "bagging_grid = GridSearchCV(bg, bagging_parameters_grid,\n",
    "                        cv=5, n_jobs=-1, verbose=True)\n",
    "bagging_grid.fit(X_train, y_train)\n",
    "bagging_grid.best_params_, bagging_grid.best_score_\n",
    "\n",
    "y_pred = bagging_grid.predict(X_test)\n",
    "print(metrics.confusion_matrix(y_test, y_pred))\n",
    "print(metrics.classification_report(y_test, y_pred))"
   ]
  },
  {
   "cell_type": "markdown",
   "id": "conscious-allergy",
   "metadata": {},
   "source": [
    "Бустинг"
   ]
  },
  {
   "cell_type": "code",
   "execution_count": 11,
   "id": "polar-preparation",
   "metadata": {},
   "outputs": [
    {
     "output_type": "stream",
     "name": "stdout",
     "text": [
      "[[799   0]\n [  0 106]]\n              precision    recall  f1-score   support\n\n           0       1.00      1.00      1.00       799\n           1       1.00      1.00      1.00       106\n\n    accuracy                           1.00       905\n   macro avg       1.00      1.00      1.00       905\nweighted avg       1.00      1.00      1.00       905\n\nWall time: 422 ms\n"
     ]
    }
   ],
   "source": [
    "%%time\n",
    "bs = ensemble.GradientBoostingClassifier()\n",
    "bs.fit(X_train, y_train)\n",
    "y_pred = bs.predict(X_test)\n",
    "print(metrics.confusion_matrix(y_test, y_pred))\n",
    "print(metrics.classification_report(y_test, y_pred))"
   ]
  },
  {
   "cell_type": "code",
   "execution_count": 12,
   "id": "administrative-recipe",
   "metadata": {},
   "outputs": [],
   "source": [
    "boosting_parameters_grid = { 'learning_rate' : np.arange(0.1, 0.8, 0.1),\n",
    "                           'n_estimators' : [10, 50, 100],\n",
    "                            'max_depth' : range(1,10,1)\n",
    "\n",
    "}"
   ]
  },
  {
   "cell_type": "code",
   "execution_count": 13,
   "id": "varying-profile",
   "metadata": {},
   "outputs": [
    {
     "output_type": "stream",
     "name": "stdout",
     "text": [
      "Fitting 5 folds for each of 189 candidates, totalling 945 fits\n",
      "[[799   0]\n",
      " [  0 106]]\n",
      "              precision    recall  f1-score   support\n",
      "\n",
      "           0       1.00      1.00      1.00       799\n",
      "           1       1.00      1.00      1.00       106\n",
      "\n",
      "    accuracy                           1.00       905\n",
      "   macro avg       1.00      1.00      1.00       905\n",
      "weighted avg       1.00      1.00      1.00       905\n",
      "\n"
     ]
    }
   ],
   "source": [
    "boosting_grid = GridSearchCV(bs, boosting_parameters_grid,\n",
    "                        cv=5, n_jobs=-1, verbose=True)\n",
    "boosting_grid.fit(X_train, y_train)\n",
    "boosting_grid.best_params_, boosting_grid.best_score_\n",
    "\n",
    "y_pred = boosting_grid.predict(X_test)\n",
    "print(metrics.confusion_matrix(y_test, y_pred))\n",
    "print(metrics.classification_report(y_test, y_pred))"
   ]
  },
  {
   "cell_type": "markdown",
   "id": "administrative-puzzle",
   "metadata": {},
   "source": [
    " Стекинг"
   ]
  },
  {
   "cell_type": "code",
   "execution_count": 14,
   "id": "average-label",
   "metadata": {},
   "outputs": [],
   "source": [
    "estimators = [\n",
    "('svm', SVC()),\n",
    "('knn', KNeighborsClassifier(algorithm = 'brute',metric = 'manhattan', n_neighbors = 9))\n",
    "]"
   ]
  },
  {
   "cell_type": "code",
   "execution_count": 15,
   "id": "aquatic-acrobat",
   "metadata": {},
   "outputs": [
    {
     "output_type": "stream",
     "name": "stdout",
     "text": [
      "[[798   1]\n [  4 102]]\n              precision    recall  f1-score   support\n\n           0       1.00      1.00      1.00       799\n           1       0.99      0.96      0.98       106\n\n    accuracy                           0.99       905\n   macro avg       0.99      0.98      0.99       905\nweighted avg       0.99      0.99      0.99       905\n\nWall time: 1.53 s\n"
     ]
    }
   ],
   "source": [
    "%%time\n",
    "sk = ensemble.StackingClassifier(estimators=estimators)\n",
    "sk.fit(X_train, y_train)\n",
    "y_pred = sk.predict(X_test)\n",
    "print(metrics.confusion_matrix(y_test, y_pred))\n",
    "print(metrics.classification_report(y_test, y_pred))"
   ]
  },
  {
   "cell_type": "code",
   "execution_count": 16,
   "id": "lined-bradford",
   "metadata": {},
   "outputs": [],
   "source": [
    "stacking_parameters_grid = { 'stack_method' : ['auto', 'pred_proba', 'solution_function', 'predict'],\n",
    "                            'cv' : [1, 2, 3, 4, 5, 6, 7, 8, 9]\n",
    "    \n",
    "}"
   ]
  },
  {
   "cell_type": "code",
   "execution_count": 17,
   "id": "english-associate",
   "metadata": {},
   "outputs": [
    {
     "output_type": "stream",
     "name": "stdout",
     "text": [
      "Fitting 5 folds for each of 36 candidates, totalling 180 fits\n",
      "C:\\Users\\vipki\\AppData\\Local\\Programs\\Python\\Python39\\lib\\site-packages\\sklearn\\model_selection\\_search.py:922: UserWarning: One or more of the test scores are non-finite: [       nan        nan        nan        nan 0.99612763        nan\n",
      "        nan 0.99529852 0.99557438        nan        nan 0.99529852\n",
      " 0.995851          nan        nan 0.99529852 0.995851          nan\n",
      "        nan 0.99529852 0.99557438        nan        nan 0.99529852\n",
      " 0.995851          nan        nan 0.99529852 0.99557476        nan\n",
      "        nan 0.99529852 0.99557476        nan        nan 0.99529852]\n",
      "  warnings.warn(\n",
      "[[798   1]\n",
      " [  3 103]]\n",
      "              precision    recall  f1-score   support\n",
      "\n",
      "           0       1.00      1.00      1.00       799\n",
      "           1       0.99      0.97      0.98       106\n",
      "\n",
      "    accuracy                           1.00       905\n",
      "   macro avg       0.99      0.99      0.99       905\n",
      "weighted avg       1.00      1.00      1.00       905\n",
      "\n"
     ]
    }
   ],
   "source": [
    "stacking_grid = GridSearchCV(sk, stacking_parameters_grid,\n",
    "                        cv=5, n_jobs=-1, verbose=True)\n",
    "stacking_grid.fit(X_train, y_train)\n",
    "stacking_grid.best_params_, stacking_grid.best_score_\n",
    "y_pred = stacking_grid.predict(X_test)\n",
    "print(metrics.confusion_matrix(y_test, y_pred))\n",
    "print(metrics.classification_report(y_test, y_pred))"
   ]
  },
  {
   "cell_type": "code",
   "execution_count": null,
   "id": "constant-aerospace",
   "metadata": {},
   "outputs": [],
   "source": []
  }
 ],
 "metadata": {
  "kernelspec": {
   "name": "python391jvsc74a57bd0c84b3ebeaacc2468b6e8413dbf910eb26a379e79a4c82eb165563ba392456739",
   "display_name": "Python 3.9.1 64-bit"
  },
  "language_info": {
   "codemirror_mode": {
    "name": "ipython",
    "version": 3
   },
   "file_extension": ".py",
   "mimetype": "text/x-python",
   "name": "python",
   "nbconvert_exporter": "python",
   "pygments_lexer": "ipython3",
   "version": "3.9.1"
  }
 },
 "nbformat": 4,
 "nbformat_minor": 5
}