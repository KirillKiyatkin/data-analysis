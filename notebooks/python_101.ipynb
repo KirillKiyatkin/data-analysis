{
 "cells": [
  {
   "cell_type": "code",
   "execution_count": 29,
   "id": "immune-silly",
   "metadata": {},
   "outputs": [
    {
     "name": "stdout",
     "output_type": "stream",
     "text": [
      "[10, 5]\n"
     ]
    }
   ],
   "source": [
    "def UniqueElementsMain(a, b):\n",
    "    return list(GetUniqueList(a) & GetUniqueList(b))\n",
    " \n",
    "def GetUniqueList(a):\n",
    "    b = []\n",
    "    for item1 in a:\n",
    "        count = 0\n",
    "        for item2 in a:\n",
    "            if item2 == item1:\n",
    "                count += 1\n",
    "                if count > 1:\n",
    "                    break;\n",
    "        if count > 1:\n",
    "            continue\n",
    "        else:\n",
    "            b.append(item1)\n",
    " \n",
    "    return set(b)\n",
    " \n",
    "a = [30, 20, 20, 10, 30, 4, 40, 5]\n",
    "b = [10, 2, 3, 4, 4, 5]\n",
    "print(UniqueElementsMain(a, b))"
   ]
  },
  {
   "cell_type": "code",
   "execution_count": null,
   "id": "searching-ceramic",
   "metadata": {},
   "outputs": [],
   "source": []
  }
 ],
 "metadata": {
  "kernelspec": {
   "display_name": "Python 3",
   "language": "python",
   "name": "python3"
  },
  "language_info": {
   "codemirror_mode": {
    "name": "ipython",
    "version": 3
   },
   "file_extension": ".py",
   "mimetype": "text/x-python",
   "name": "python",
   "nbconvert_exporter": "python",
   "pygments_lexer": "ipython3",
   "version": "3.9.1"
  }
 },
 "nbformat": 4,
 "nbformat_minor": 5
}
