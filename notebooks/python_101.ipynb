{
 "cells": [
  {
   "cell_type": "code",
   "execution_count": 2,
   "id": "electronic-personal",
   "metadata": {},
   "outputs": [],
   "source": [
    "a = [30, 20, 20, 10, 30, 4, 40, 5]\n",
    "b = [10, 2, 3, 4, 4, 5]"
   ]
  },
  {
   "cell_type": "code",
   "execution_count": 4,
   "id": "funny-lancaster",
   "metadata": {},
   "outputs": [
    {
     "output_type": "stream",
     "name": "stdout",
     "text": [
      "{2, 3, 4, 5, 40, 10, 20, 30}\n"
     ]
    }
   ],
   "source": [
    "def UniqueList(a, b):\n",
    "    return set(a)|set(b)\n",
    "print(unic_elem(a, b))"
   ]
  },
  {
   "cell_type": "code",
   "execution_count": null,
   "id": "uniform-accordance",
   "metadata": {},
   "outputs": [],
   "source": []
  }
 ],
 "metadata": {
  "kernelspec": {
   "name": "python391jvsc74a57bd0c84b3ebeaacc2468b6e8413dbf910eb26a379e79a4c82eb165563ba392456739",
   "display_name": "Python 3.9.1 64-bit"
  },
  "language_info": {
   "codemirror_mode": {
    "name": "ipython",
    "version": 3
   },
   "file_extension": ".py",
   "mimetype": "text/x-python",
   "name": "python",
   "nbconvert_exporter": "python",
   "pygments_lexer": "ipython3",
   "version": "3.9.1-final"
  }
 },
 "nbformat": 4,
 "nbformat_minor": 5
}